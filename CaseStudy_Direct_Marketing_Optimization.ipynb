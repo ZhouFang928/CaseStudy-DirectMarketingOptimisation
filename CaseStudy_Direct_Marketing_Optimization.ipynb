{
 "cells": [
  {
   "cell_type": "markdown",
   "metadata": {},
   "source": [
    "# Data Scientist Case Study: Direct Marketing Optimization"
   ]
  },
  {
   "cell_type": "markdown",
   "metadata": {},
   "source": [
    "## Objective\n",
    "Maximize revenue from direct marketing campaigns using the provided dummy data.\n",
    "Business Context: This case study simulates a real-world marketing scenario aimed at optimizing resource allocation to maximize revenue.\n",
    "\n",
    "## Data Description\n",
    "You will work with several datasets (see attached) containing the following information:\n",
    "- Social-Demographic Information: Age, gender, and bank tenure.\n",
    "- Product Holdings and Volumes: Details on current accounts, savings accounts, mutual funds, overdrafts, credit cards, and consumer loans.\n",
    "- Financial Transactions: Aggregated inflow/outflow on current accounts and average monthly card turnover over the past three months.\n",
    "- Sales and Revenue Data: Available for 60% of ccients, serving as a training set.\n",
    "\n",
    "## Constraints\n",
    "- Contact Limitation: The bank can reach out to only 15% of ccients (approximately 100 individuals).\n",
    "- Single Offer Per Client: Each client can receive only one marketing offer. For example, a client might receive an offer for a consumer loan, a new credit card, or an investment in mutual funds based on their profile and financial behavior.\n",
    "\n",
    "## Task Breakdown\n",
    "1. Create Analytical Datasets: Prepare both train and test datasets using the provided data.\n",
    "2. Develop Propensity Models: Build three models to estimate the likelihood of purchase for:\n",
    "- a. Consumer Loan\n",
    "- b. Credit Card\n",
    "- c. Mutual Fund\n",
    "3. Optimize Targeting Strategy: Select clients to target with marketing offers to maximize revenue, adhering to the constraints. Clearly document your approach."
   ]
  },
  {
   "cell_type": "markdown",
   "metadata": {},
   "source": [
    "# Code and Output"
   ]
  },
  {
   "cell_type": "markdown",
   "metadata": {},
   "source": [
    "## 0.Setup"
   ]
  },
  {
   "cell_type": "code",
   "execution_count": 2,
   "metadata": {},
   "outputs": [],
   "source": [
    "# Import necessary libraries\n",
    "import os\n",
    "import pandas as pd\n",
    "import numpy as np\n",
    "import matplotlib.pyplot as plt\n",
    "import seaborn as sns\n",
    "from sklearn.model_selection import train_test_split\n",
    "from sklearn.impute import SimpleImputer\n",
    "from sklearn.preprocessing import StandardScaler\n",
    "from sklearn.ensemble import RandomForestClassifier\n",
    "from sklearn.metrics import classification_report, accuracy_score, confusion_matrix, precision_score, recall_score, f1_score, roc_auc_score, roc_curve"
   ]
  },
  {
   "cell_type": "code",
   "execution_count": 3,
   "metadata": {},
   "outputs": [
    {
     "data": {
      "text/plain": [
       "'/Users/fangzhou/Documents/GitHub/CaseStudy-DirectMarketingOptimisation'"
      ]
     },
     "execution_count": 3,
     "metadata": {},
     "output_type": "execute_result"
    }
   ],
   "source": [
    "# Set directories\n",
    "os.getcwd()\n",
    "work_dir = '/Users/fangzhou/Documents/Github/CaseStudy-DirectMarketingOptimisation'\n",
    "os.chdir(work_dir)\n",
    "os.getcwd()"
   ]
  },
  {
   "cell_type": "code",
   "execution_count": 4,
   "metadata": {},
   "outputs": [],
   "source": [
    "data_dir = work_dir+'/Data/'"
   ]
  },
  {
   "cell_type": "markdown",
   "metadata": {},
   "source": [
    "## 1. Load Data"
   ]
  },
  {
   "cell_type": "code",
   "execution_count": 5,
   "metadata": {},
   "outputs": [],
   "source": [
    "# Load the dataset to inspect its structure and content\n",
    "data_path = data_dir + 'DataScientist_CaseStudy_Dataset.xlsx'\n",
    "data = pd.ExcelFile(data_path)"
   ]
  },
  {
   "cell_type": "markdown",
   "metadata": {},
   "source": [
    "## 2. Exploratory Data Analysis"
   ]
  },
  {
   "cell_type": "markdown",
   "metadata": {},
   "source": [
    "The excel file contains 5 sheets. The 'Description' sheet provides the name of data sheet, variable, and description. The other 4 sheets provide four types of datasets. The \"Soc_Dem\" sheet contains social-demographic information. The \"Products_ActBalance\" sheet provides information on product holdings and account balances. The \"Inflow_Outflow\" sheet includes aggregated financial transaction data. The \"Sales_Revenues\" sheet provides target variables, indicating sales status, and revenue information for clients. \n",
    "- Sale_CL, Sale_CC, Sale_MF: Binary indicators (1 = product sold, 0 = not sold) for Consumer Loans, Credit Cards, and Mutual Funds, respectively.\n",
    "- Revenue_CL, Revenue_CC, Revenue_MF: Revenue generated from each catetory of product sales.\n",
    "\n",
    "The common variable of the 4 datasets is 'Client', i.e., Client ID. By merging the 4 datasets by Client ID, we obtain a full dataset with 1615 entries and 36 columns. Here are some key observations:\n",
    "- The dataset has a mix of integer, float, and categorical values.\n",
    "- Some columns named as Count_*, ActBal_*, Volume_*, and Transaction_* contain missing values. The categorical column of Sex contains a few missing values.\n",
    "- The target variables, indicating sales status and revenue information for clients, contain 60% non-missing values (served as a model development set) and 40% missing values (served as a model prediction set).\n",
    "- The columns, like Count_OVD and Count_CC, have a standard deviation of zero initially. After filling missing values with zero, the standard deviation is non-zero.\n",
    "\n",
    "Data preprocessing (e.g., reformat data types, handle missing values) is conducted to prepare and clean the merged dataset. Then, the processed dataset is split into the model development set and the model prediction set based on the presence of target variables. \n",
    "\n",
    "The visualization is also conducted on the model development set to explore the relationship between each target variable and feature."
   ]
  },
  {
   "cell_type": "code",
   "execution_count": 6,
   "metadata": {},
   "outputs": [
    {
     "data": {
      "text/plain": [
       "['Description',\n",
       " 'Soc_Dem',\n",
       " 'Products_ActBalance',\n",
       " 'Inflow_Outflow',\n",
       " 'Sales_Revenues']"
      ]
     },
     "execution_count": 6,
     "metadata": {},
     "output_type": "execute_result"
    }
   ],
   "source": [
    "# Display sheet names to understand the structure of the file\n",
    "sheet_names_list = data.sheet_names\n",
    "sheet_names_list"
   ]
  },
  {
   "cell_type": "code",
   "execution_count": 7,
   "metadata": {},
   "outputs": [],
   "source": [
    "# Load all sheets into separate DataFrames for exploration\n",
    "\n",
    "description_df = data.parse('Description')\n",
    "soc_dem_df = data.parse('Soc_Dem')\n",
    "products_actbalance_df = data.parse('Products_ActBalance')\n",
    "inflow_outflow_df = data.parse('Inflow_Outflow')\n",
    "sales_revenues_df = data.parse('Sales_Revenues')"
   ]
  },
  {
   "cell_type": "code",
   "execution_count": 8,
   "metadata": {},
   "outputs": [
    {
     "data": {
      "text/html": [
       "<div>\n",
       "<style scoped>\n",
       "    .dataframe tbody tr th:only-of-type {\n",
       "        vertical-align: middle;\n",
       "    }\n",
       "\n",
       "    .dataframe tbody tr th {\n",
       "        vertical-align: top;\n",
       "    }\n",
       "\n",
       "    .dataframe thead th {\n",
       "        text-align: right;\n",
       "    }\n",
       "</style>\n",
       "<table border=\"1\" class=\"dataframe\">\n",
       "  <thead>\n",
       "    <tr style=\"text-align: right;\">\n",
       "      <th></th>\n",
       "      <th>Sheet</th>\n",
       "      <th>Variable</th>\n",
       "      <th>Description</th>\n",
       "    </tr>\n",
       "  </thead>\n",
       "  <tbody>\n",
       "    <tr>\n",
       "      <th>0</th>\n",
       "      <td>Soc_Dem</td>\n",
       "      <td>Client</td>\n",
       "      <td>client ID</td>\n",
       "    </tr>\n",
       "    <tr>\n",
       "      <th>1</th>\n",
       "      <td>NaN</td>\n",
       "      <td>Sex</td>\n",
       "      <td>gender</td>\n",
       "    </tr>\n",
       "    <tr>\n",
       "      <th>2</th>\n",
       "      <td>NaN</td>\n",
       "      <td>Age</td>\n",
       "      <td>age [years]</td>\n",
       "    </tr>\n",
       "    <tr>\n",
       "      <th>3</th>\n",
       "      <td>NaN</td>\n",
       "      <td>Tenure</td>\n",
       "      <td>tenure with the bank [months]</td>\n",
       "    </tr>\n",
       "    <tr>\n",
       "      <th>4</th>\n",
       "      <td>Products_ActBalance</td>\n",
       "      <td>Client</td>\n",
       "      <td>client ID</td>\n",
       "    </tr>\n",
       "    <tr>\n",
       "      <th>5</th>\n",
       "      <td>NaN</td>\n",
       "      <td>Count_CA</td>\n",
       "      <td>number of live current accounts</td>\n",
       "    </tr>\n",
       "    <tr>\n",
       "      <th>6</th>\n",
       "      <td>NaN</td>\n",
       "      <td>Count_SA</td>\n",
       "      <td>number of live saving accounts</td>\n",
       "    </tr>\n",
       "    <tr>\n",
       "      <th>7</th>\n",
       "      <td>NaN</td>\n",
       "      <td>Count_MF</td>\n",
       "      <td>number of live mutual funds</td>\n",
       "    </tr>\n",
       "    <tr>\n",
       "      <th>8</th>\n",
       "      <td>NaN</td>\n",
       "      <td>Count_OVD</td>\n",
       "      <td>number of live overdrafts</td>\n",
       "    </tr>\n",
       "    <tr>\n",
       "      <th>9</th>\n",
       "      <td>NaN</td>\n",
       "      <td>Count_CC</td>\n",
       "      <td>number of live credit cards</td>\n",
       "    </tr>\n",
       "    <tr>\n",
       "      <th>10</th>\n",
       "      <td>NaN</td>\n",
       "      <td>Count_CL</td>\n",
       "      <td>number of live consumer loans</td>\n",
       "    </tr>\n",
       "    <tr>\n",
       "      <th>11</th>\n",
       "      <td>NaN</td>\n",
       "      <td>ActBal_CA</td>\n",
       "      <td>actual current accounts balance [EUR]</td>\n",
       "    </tr>\n",
       "    <tr>\n",
       "      <th>12</th>\n",
       "      <td>NaN</td>\n",
       "      <td>ActBal_SA</td>\n",
       "      <td>actual saving accounts balance [EUR]</td>\n",
       "    </tr>\n",
       "    <tr>\n",
       "      <th>13</th>\n",
       "      <td>NaN</td>\n",
       "      <td>ActBal_MF</td>\n",
       "      <td>actual mutual funds balance [EUR]</td>\n",
       "    </tr>\n",
       "    <tr>\n",
       "      <th>14</th>\n",
       "      <td>NaN</td>\n",
       "      <td>ActBal_OVD</td>\n",
       "      <td>actual overdrafts balance (liability) [EUR]</td>\n",
       "    </tr>\n",
       "    <tr>\n",
       "      <th>15</th>\n",
       "      <td>NaN</td>\n",
       "      <td>ActBal_CC</td>\n",
       "      <td>actual credit cards balance (liability) [EUR]</td>\n",
       "    </tr>\n",
       "    <tr>\n",
       "      <th>16</th>\n",
       "      <td>NaN</td>\n",
       "      <td>ActBal_CL</td>\n",
       "      <td>actual consumer loans balance (liability) [EUR]</td>\n",
       "    </tr>\n",
       "    <tr>\n",
       "      <th>17</th>\n",
       "      <td>Inflow_Outflow</td>\n",
       "      <td>Client</td>\n",
       "      <td>client ID</td>\n",
       "    </tr>\n",
       "    <tr>\n",
       "      <th>18</th>\n",
       "      <td>NaN</td>\n",
       "      <td>VolumeCred</td>\n",
       "      <td>monthly credit turnover [EUR]</td>\n",
       "    </tr>\n",
       "    <tr>\n",
       "      <th>19</th>\n",
       "      <td>NaN</td>\n",
       "      <td>VolumeCred_CA</td>\n",
       "      <td>monthly credit turnover on current accounts [EUR]</td>\n",
       "    </tr>\n",
       "    <tr>\n",
       "      <th>20</th>\n",
       "      <td>NaN</td>\n",
       "      <td>TransactionsCred</td>\n",
       "      <td>number of all credit transactions</td>\n",
       "    </tr>\n",
       "    <tr>\n",
       "      <th>21</th>\n",
       "      <td>NaN</td>\n",
       "      <td>TransactionsCred_CA</td>\n",
       "      <td>number of credit transactions on current accounts</td>\n",
       "    </tr>\n",
       "    <tr>\n",
       "      <th>22</th>\n",
       "      <td>NaN</td>\n",
       "      <td>VolumeDeb</td>\n",
       "      <td>monthly debit turnover [EUR]</td>\n",
       "    </tr>\n",
       "    <tr>\n",
       "      <th>23</th>\n",
       "      <td>NaN</td>\n",
       "      <td>VolumeDeb_CA</td>\n",
       "      <td>monthly debit turnover on current accounts [EUR]</td>\n",
       "    </tr>\n",
       "    <tr>\n",
       "      <th>24</th>\n",
       "      <td>NaN</td>\n",
       "      <td>VolumeDebCash_Card</td>\n",
       "      <td>monthly volume of debit cash transactions via ...</td>\n",
       "    </tr>\n",
       "    <tr>\n",
       "      <th>25</th>\n",
       "      <td>NaN</td>\n",
       "      <td>VolumeDebCashless_Card</td>\n",
       "      <td>monthly volume of debit cashless transactions ...</td>\n",
       "    </tr>\n",
       "    <tr>\n",
       "      <th>26</th>\n",
       "      <td>NaN</td>\n",
       "      <td>VolumeDeb_PaymentOrder</td>\n",
       "      <td>monthly volume of debit transactions via payme...</td>\n",
       "    </tr>\n",
       "    <tr>\n",
       "      <th>27</th>\n",
       "      <td>NaN</td>\n",
       "      <td>TransactionsDeb</td>\n",
       "      <td>number of all debit transactions</td>\n",
       "    </tr>\n",
       "    <tr>\n",
       "      <th>28</th>\n",
       "      <td>NaN</td>\n",
       "      <td>TransactionsDeb_CA</td>\n",
       "      <td>number of debit transactions on current accounts</td>\n",
       "    </tr>\n",
       "    <tr>\n",
       "      <th>29</th>\n",
       "      <td>NaN</td>\n",
       "      <td>TransactionsDebCash_Card</td>\n",
       "      <td>monthly number of debit cash transactions via ...</td>\n",
       "    </tr>\n",
       "    <tr>\n",
       "      <th>30</th>\n",
       "      <td>NaN</td>\n",
       "      <td>TransactionsDebCashless_Card</td>\n",
       "      <td>monthly number of debit cashless transactions ...</td>\n",
       "    </tr>\n",
       "    <tr>\n",
       "      <th>31</th>\n",
       "      <td>NaN</td>\n",
       "      <td>TransactionsDeb_PaymentOrder</td>\n",
       "      <td>monthly number of debit transactions via payme...</td>\n",
       "    </tr>\n",
       "    <tr>\n",
       "      <th>32</th>\n",
       "      <td>Sales_Revenues</td>\n",
       "      <td>Client</td>\n",
       "      <td>client ID</td>\n",
       "    </tr>\n",
       "    <tr>\n",
       "      <th>33</th>\n",
       "      <td>NaN</td>\n",
       "      <td>Sale_MF</td>\n",
       "      <td>target variable for sale of mutual fund (avail...</td>\n",
       "    </tr>\n",
       "    <tr>\n",
       "      <th>34</th>\n",
       "      <td>NaN</td>\n",
       "      <td>Sale_CC</td>\n",
       "      <td>target variable for sale of credit card (avail...</td>\n",
       "    </tr>\n",
       "    <tr>\n",
       "      <th>35</th>\n",
       "      <td>NaN</td>\n",
       "      <td>Sale_CL</td>\n",
       "      <td>target variable for sale of consumer loan (ava...</td>\n",
       "    </tr>\n",
       "    <tr>\n",
       "      <th>36</th>\n",
       "      <td>NaN</td>\n",
       "      <td>Revenue_MF</td>\n",
       "      <td>target variable for revenue from mutual fund (...</td>\n",
       "    </tr>\n",
       "    <tr>\n",
       "      <th>37</th>\n",
       "      <td>NaN</td>\n",
       "      <td>Revenue_CC</td>\n",
       "      <td>target variable for revenue from credit card (...</td>\n",
       "    </tr>\n",
       "    <tr>\n",
       "      <th>38</th>\n",
       "      <td>NaN</td>\n",
       "      <td>Revenue_CL</td>\n",
       "      <td>target variable for revenue from consumer loan...</td>\n",
       "    </tr>\n",
       "  </tbody>\n",
       "</table>\n",
       "</div>"
      ],
      "text/plain": [
       "                  Sheet                      Variable  \\\n",
       "0               Soc_Dem                        Client   \n",
       "1                   NaN                           Sex   \n",
       "2                   NaN                           Age   \n",
       "3                   NaN                        Tenure   \n",
       "4   Products_ActBalance                        Client   \n",
       "5                   NaN                      Count_CA   \n",
       "6                   NaN                      Count_SA   \n",
       "7                   NaN                      Count_MF   \n",
       "8                   NaN                     Count_OVD   \n",
       "9                   NaN                      Count_CC   \n",
       "10                  NaN                      Count_CL   \n",
       "11                  NaN                     ActBal_CA   \n",
       "12                  NaN                     ActBal_SA   \n",
       "13                  NaN                     ActBal_MF   \n",
       "14                  NaN                    ActBal_OVD   \n",
       "15                  NaN                     ActBal_CC   \n",
       "16                  NaN                     ActBal_CL   \n",
       "17       Inflow_Outflow                        Client   \n",
       "18                  NaN                    VolumeCred   \n",
       "19                  NaN                 VolumeCred_CA   \n",
       "20                  NaN              TransactionsCred   \n",
       "21                  NaN           TransactionsCred_CA   \n",
       "22                  NaN                     VolumeDeb   \n",
       "23                  NaN                  VolumeDeb_CA   \n",
       "24                  NaN            VolumeDebCash_Card   \n",
       "25                  NaN        VolumeDebCashless_Card   \n",
       "26                  NaN        VolumeDeb_PaymentOrder   \n",
       "27                  NaN               TransactionsDeb   \n",
       "28                  NaN            TransactionsDeb_CA   \n",
       "29                  NaN      TransactionsDebCash_Card   \n",
       "30                  NaN  TransactionsDebCashless_Card   \n",
       "31                  NaN  TransactionsDeb_PaymentOrder   \n",
       "32       Sales_Revenues                        Client   \n",
       "33                  NaN                       Sale_MF   \n",
       "34                  NaN                       Sale_CC   \n",
       "35                  NaN                       Sale_CL   \n",
       "36                  NaN                    Revenue_MF   \n",
       "37                  NaN                    Revenue_CC   \n",
       "38                  NaN                    Revenue_CL   \n",
       "\n",
       "                                          Description  \n",
       "0                                           client ID  \n",
       "1                                              gender  \n",
       "2                                         age [years]  \n",
       "3                       tenure with the bank [months]  \n",
       "4                                           client ID  \n",
       "5                     number of live current accounts  \n",
       "6                      number of live saving accounts  \n",
       "7                         number of live mutual funds  \n",
       "8                           number of live overdrafts  \n",
       "9                         number of live credit cards  \n",
       "10                      number of live consumer loans  \n",
       "11              actual current accounts balance [EUR]  \n",
       "12               actual saving accounts balance [EUR]  \n",
       "13                  actual mutual funds balance [EUR]  \n",
       "14        actual overdrafts balance (liability) [EUR]  \n",
       "15      actual credit cards balance (liability) [EUR]  \n",
       "16    actual consumer loans balance (liability) [EUR]  \n",
       "17                                          client ID  \n",
       "18                      monthly credit turnover [EUR]  \n",
       "19  monthly credit turnover on current accounts [EUR]  \n",
       "20                  number of all credit transactions  \n",
       "21  number of credit transactions on current accounts  \n",
       "22                       monthly debit turnover [EUR]  \n",
       "23   monthly debit turnover on current accounts [EUR]  \n",
       "24  monthly volume of debit cash transactions via ...  \n",
       "25  monthly volume of debit cashless transactions ...  \n",
       "26  monthly volume of debit transactions via payme...  \n",
       "27                   number of all debit transactions  \n",
       "28   number of debit transactions on current accounts  \n",
       "29  monthly number of debit cash transactions via ...  \n",
       "30  monthly number of debit cashless transactions ...  \n",
       "31  monthly number of debit transactions via payme...  \n",
       "32                                          client ID  \n",
       "33  target variable for sale of mutual fund (avail...  \n",
       "34  target variable for sale of credit card (avail...  \n",
       "35  target variable for sale of consumer loan (ava...  \n",
       "36  target variable for revenue from mutual fund (...  \n",
       "37  target variable for revenue from credit card (...  \n",
       "38  target variable for revenue from consumer loan...  "
      ]
     },
     "execution_count": 8,
     "metadata": {},
     "output_type": "execute_result"
    }
   ],
   "source": [
    "# Display the description data frame\n",
    "description_df"
   ]
  },
  {
   "cell_type": "code",
   "execution_count": 9,
   "metadata": {},
   "outputs": [
    {
     "data": {
      "text/html": [
       "<div>\n",
       "<style scoped>\n",
       "    .dataframe tbody tr th:only-of-type {\n",
       "        vertical-align: middle;\n",
       "    }\n",
       "\n",
       "    .dataframe tbody tr th {\n",
       "        vertical-align: top;\n",
       "    }\n",
       "\n",
       "    .dataframe thead th {\n",
       "        text-align: right;\n",
       "    }\n",
       "</style>\n",
       "<table border=\"1\" class=\"dataframe\">\n",
       "  <thead>\n",
       "    <tr style=\"text-align: right;\">\n",
       "      <th></th>\n",
       "      <th>Client</th>\n",
       "      <th>Sex</th>\n",
       "      <th>Age</th>\n",
       "      <th>Tenure</th>\n",
       "    </tr>\n",
       "  </thead>\n",
       "  <tbody>\n",
       "    <tr>\n",
       "      <th>0</th>\n",
       "      <td>909</td>\n",
       "      <td>M</td>\n",
       "      <td>21</td>\n",
       "      <td>27</td>\n",
       "    </tr>\n",
       "    <tr>\n",
       "      <th>1</th>\n",
       "      <td>1217</td>\n",
       "      <td>M</td>\n",
       "      <td>38</td>\n",
       "      <td>165</td>\n",
       "    </tr>\n",
       "    <tr>\n",
       "      <th>2</th>\n",
       "      <td>850</td>\n",
       "      <td>F</td>\n",
       "      <td>49</td>\n",
       "      <td>44</td>\n",
       "    </tr>\n",
       "    <tr>\n",
       "      <th>3</th>\n",
       "      <td>1473</td>\n",
       "      <td>M</td>\n",
       "      <td>54</td>\n",
       "      <td>34</td>\n",
       "    </tr>\n",
       "    <tr>\n",
       "      <th>4</th>\n",
       "      <td>1038</td>\n",
       "      <td>M</td>\n",
       "      <td>29</td>\n",
       "      <td>106</td>\n",
       "    </tr>\n",
       "  </tbody>\n",
       "</table>\n",
       "</div>"
      ],
      "text/plain": [
       "   Client Sex  Age  Tenure\n",
       "0     909   M   21      27\n",
       "1    1217   M   38     165\n",
       "2     850   F   49      44\n",
       "3    1473   M   54      34\n",
       "4    1038   M   29     106"
      ]
     },
     "execution_count": 9,
     "metadata": {},
     "output_type": "execute_result"
    }
   ],
   "source": [
    "# Display a sample of other data frame\n",
    "soc_dem_df.head()"
   ]
  },
  {
   "cell_type": "code",
   "execution_count": 10,
   "metadata": {},
   "outputs": [
    {
     "data": {
      "text/html": [
       "<div>\n",
       "<style scoped>\n",
       "    .dataframe tbody tr th:only-of-type {\n",
       "        vertical-align: middle;\n",
       "    }\n",
       "\n",
       "    .dataframe tbody tr th {\n",
       "        vertical-align: top;\n",
       "    }\n",
       "\n",
       "    .dataframe thead th {\n",
       "        text-align: right;\n",
       "    }\n",
       "</style>\n",
       "<table border=\"1\" class=\"dataframe\">\n",
       "  <thead>\n",
       "    <tr style=\"text-align: right;\">\n",
       "      <th></th>\n",
       "      <th>Client</th>\n",
       "      <th>Count_CA</th>\n",
       "      <th>Count_SA</th>\n",
       "      <th>Count_MF</th>\n",
       "      <th>Count_OVD</th>\n",
       "      <th>Count_CC</th>\n",
       "      <th>Count_CL</th>\n",
       "      <th>ActBal_CA</th>\n",
       "      <th>ActBal_SA</th>\n",
       "      <th>ActBal_MF</th>\n",
       "      <th>ActBal_OVD</th>\n",
       "      <th>ActBal_CC</th>\n",
       "      <th>ActBal_CL</th>\n",
       "    </tr>\n",
       "  </thead>\n",
       "  <tbody>\n",
       "    <tr>\n",
       "      <th>0</th>\n",
       "      <td>1</td>\n",
       "      <td>1</td>\n",
       "      <td>NaN</td>\n",
       "      <td>NaN</td>\n",
       "      <td>1.0</td>\n",
       "      <td>NaN</td>\n",
       "      <td>NaN</td>\n",
       "      <td>1333.802857</td>\n",
       "      <td>NaN</td>\n",
       "      <td>NaN</td>\n",
       "      <td>0.0</td>\n",
       "      <td>NaN</td>\n",
       "      <td>NaN</td>\n",
       "    </tr>\n",
       "    <tr>\n",
       "      <th>1</th>\n",
       "      <td>2</td>\n",
       "      <td>1</td>\n",
       "      <td>1.0</td>\n",
       "      <td>NaN</td>\n",
       "      <td>NaN</td>\n",
       "      <td>NaN</td>\n",
       "      <td>NaN</td>\n",
       "      <td>110.768571</td>\n",
       "      <td>13326.190357</td>\n",
       "      <td>NaN</td>\n",
       "      <td>NaN</td>\n",
       "      <td>NaN</td>\n",
       "      <td>NaN</td>\n",
       "    </tr>\n",
       "    <tr>\n",
       "      <th>2</th>\n",
       "      <td>3</td>\n",
       "      <td>1</td>\n",
       "      <td>NaN</td>\n",
       "      <td>1.0</td>\n",
       "      <td>NaN</td>\n",
       "      <td>NaN</td>\n",
       "      <td>NaN</td>\n",
       "      <td>482.654643</td>\n",
       "      <td>NaN</td>\n",
       "      <td>107.251786</td>\n",
       "      <td>NaN</td>\n",
       "      <td>NaN</td>\n",
       "      <td>NaN</td>\n",
       "    </tr>\n",
       "    <tr>\n",
       "      <th>3</th>\n",
       "      <td>4</td>\n",
       "      <td>1</td>\n",
       "      <td>1.0</td>\n",
       "      <td>NaN</td>\n",
       "      <td>NaN</td>\n",
       "      <td>1.0</td>\n",
       "      <td>NaN</td>\n",
       "      <td>1599.840714</td>\n",
       "      <td>76.437143</td>\n",
       "      <td>NaN</td>\n",
       "      <td>NaN</td>\n",
       "      <td>1110.381786</td>\n",
       "      <td>NaN</td>\n",
       "    </tr>\n",
       "    <tr>\n",
       "      <th>4</th>\n",
       "      <td>5</td>\n",
       "      <td>1</td>\n",
       "      <td>1.0</td>\n",
       "      <td>NaN</td>\n",
       "      <td>NaN</td>\n",
       "      <td>NaN</td>\n",
       "      <td>NaN</td>\n",
       "      <td>5353.483929</td>\n",
       "      <td>8079.715714</td>\n",
       "      <td>NaN</td>\n",
       "      <td>NaN</td>\n",
       "      <td>NaN</td>\n",
       "      <td>NaN</td>\n",
       "    </tr>\n",
       "  </tbody>\n",
       "</table>\n",
       "</div>"
      ],
      "text/plain": [
       "   Client  Count_CA  Count_SA  Count_MF  Count_OVD  Count_CC  Count_CL  \\\n",
       "0       1         1       NaN       NaN        1.0       NaN       NaN   \n",
       "1       2         1       1.0       NaN        NaN       NaN       NaN   \n",
       "2       3         1       NaN       1.0        NaN       NaN       NaN   \n",
       "3       4         1       1.0       NaN        NaN       1.0       NaN   \n",
       "4       5         1       1.0       NaN        NaN       NaN       NaN   \n",
       "\n",
       "     ActBal_CA     ActBal_SA   ActBal_MF  ActBal_OVD    ActBal_CC  ActBal_CL  \n",
       "0  1333.802857           NaN         NaN         0.0          NaN        NaN  \n",
       "1   110.768571  13326.190357         NaN         NaN          NaN        NaN  \n",
       "2   482.654643           NaN  107.251786         NaN          NaN        NaN  \n",
       "3  1599.840714     76.437143         NaN         NaN  1110.381786        NaN  \n",
       "4  5353.483929   8079.715714         NaN         NaN          NaN        NaN  "
      ]
     },
     "execution_count": 10,
     "metadata": {},
     "output_type": "execute_result"
    }
   ],
   "source": [
    "products_actbalance_df.head()"
   ]
  },
  {
   "cell_type": "code",
   "execution_count": 11,
   "metadata": {},
   "outputs": [
    {
     "data": {
      "text/html": [
       "<div>\n",
       "<style scoped>\n",
       "    .dataframe tbody tr th:only-of-type {\n",
       "        vertical-align: middle;\n",
       "    }\n",
       "\n",
       "    .dataframe tbody tr th {\n",
       "        vertical-align: top;\n",
       "    }\n",
       "\n",
       "    .dataframe thead th {\n",
       "        text-align: right;\n",
       "    }\n",
       "</style>\n",
       "<table border=\"1\" class=\"dataframe\">\n",
       "  <thead>\n",
       "    <tr style=\"text-align: right;\">\n",
       "      <th></th>\n",
       "      <th>Client</th>\n",
       "      <th>VolumeCred</th>\n",
       "      <th>VolumeCred_CA</th>\n",
       "      <th>TransactionsCred</th>\n",
       "      <th>TransactionsCred_CA</th>\n",
       "      <th>VolumeDeb</th>\n",
       "      <th>VolumeDeb_CA</th>\n",
       "      <th>VolumeDebCash_Card</th>\n",
       "      <th>VolumeDebCashless_Card</th>\n",
       "      <th>VolumeDeb_PaymentOrder</th>\n",
       "      <th>TransactionsDeb</th>\n",
       "      <th>TransactionsDeb_CA</th>\n",
       "      <th>TransactionsDebCash_Card</th>\n",
       "      <th>TransactionsDebCashless_Card</th>\n",
       "      <th>TransactionsDeb_PaymentOrder</th>\n",
       "    </tr>\n",
       "  </thead>\n",
       "  <tbody>\n",
       "    <tr>\n",
       "      <th>0</th>\n",
       "      <td>1017</td>\n",
       "      <td>0.005000</td>\n",
       "      <td>0.005000</td>\n",
       "      <td>1</td>\n",
       "      <td>1</td>\n",
       "      <td>118.046429</td>\n",
       "      <td>118.046429</td>\n",
       "      <td>25.000000</td>\n",
       "      <td>91.796429</td>\n",
       "      <td>0.000000</td>\n",
       "      <td>12</td>\n",
       "      <td>12</td>\n",
       "      <td>2</td>\n",
       "      <td>9</td>\n",
       "      <td>0</td>\n",
       "    </tr>\n",
       "    <tr>\n",
       "      <th>1</th>\n",
       "      <td>1456</td>\n",
       "      <td>364.772143</td>\n",
       "      <td>364.752857</td>\n",
       "      <td>4</td>\n",
       "      <td>3</td>\n",
       "      <td>774.980000</td>\n",
       "      <td>774.980000</td>\n",
       "      <td>14.285714</td>\n",
       "      <td>497.444286</td>\n",
       "      <td>258.607143</td>\n",
       "      <td>28</td>\n",
       "      <td>28</td>\n",
       "      <td>1</td>\n",
       "      <td>20</td>\n",
       "      <td>5</td>\n",
       "    </tr>\n",
       "    <tr>\n",
       "      <th>2</th>\n",
       "      <td>545</td>\n",
       "      <td>2471.719286</td>\n",
       "      <td>2471.719286</td>\n",
       "      <td>14</td>\n",
       "      <td>14</td>\n",
       "      <td>2190.257143</td>\n",
       "      <td>2190.257143</td>\n",
       "      <td>303.571429</td>\n",
       "      <td>179.082143</td>\n",
       "      <td>1229.428571</td>\n",
       "      <td>23</td>\n",
       "      <td>23</td>\n",
       "      <td>3</td>\n",
       "      <td>5</td>\n",
       "      <td>12</td>\n",
       "    </tr>\n",
       "    <tr>\n",
       "      <th>3</th>\n",
       "      <td>667</td>\n",
       "      <td>1127.792857</td>\n",
       "      <td>1127.792857</td>\n",
       "      <td>4</td>\n",
       "      <td>4</td>\n",
       "      <td>1344.603571</td>\n",
       "      <td>1344.603571</td>\n",
       "      <td>642.857143</td>\n",
       "      <td>194.285714</td>\n",
       "      <td>249.321429</td>\n",
       "      <td>21</td>\n",
       "      <td>21</td>\n",
       "      <td>3</td>\n",
       "      <td>4</td>\n",
       "      <td>8</td>\n",
       "    </tr>\n",
       "    <tr>\n",
       "      <th>4</th>\n",
       "      <td>1381</td>\n",
       "      <td>571.618214</td>\n",
       "      <td>571.618214</td>\n",
       "      <td>3</td>\n",
       "      <td>3</td>\n",
       "      <td>57.071429</td>\n",
       "      <td>57.071429</td>\n",
       "      <td>10.714286</td>\n",
       "      <td>46.357143</td>\n",
       "      <td>0.000000</td>\n",
       "      <td>6</td>\n",
       "      <td>6</td>\n",
       "      <td>1</td>\n",
       "      <td>5</td>\n",
       "      <td>0</td>\n",
       "    </tr>\n",
       "  </tbody>\n",
       "</table>\n",
       "</div>"
      ],
      "text/plain": [
       "   Client   VolumeCred  VolumeCred_CA  TransactionsCred  TransactionsCred_CA  \\\n",
       "0    1017     0.005000       0.005000                 1                    1   \n",
       "1    1456   364.772143     364.752857                 4                    3   \n",
       "2     545  2471.719286    2471.719286                14                   14   \n",
       "3     667  1127.792857    1127.792857                 4                    4   \n",
       "4    1381   571.618214     571.618214                 3                    3   \n",
       "\n",
       "     VolumeDeb  VolumeDeb_CA  VolumeDebCash_Card  VolumeDebCashless_Card  \\\n",
       "0   118.046429    118.046429           25.000000               91.796429   \n",
       "1   774.980000    774.980000           14.285714              497.444286   \n",
       "2  2190.257143   2190.257143          303.571429              179.082143   \n",
       "3  1344.603571   1344.603571          642.857143              194.285714   \n",
       "4    57.071429     57.071429           10.714286               46.357143   \n",
       "\n",
       "   VolumeDeb_PaymentOrder  TransactionsDeb  TransactionsDeb_CA  \\\n",
       "0                0.000000               12                  12   \n",
       "1              258.607143               28                  28   \n",
       "2             1229.428571               23                  23   \n",
       "3              249.321429               21                  21   \n",
       "4                0.000000                6                   6   \n",
       "\n",
       "   TransactionsDebCash_Card  TransactionsDebCashless_Card  \\\n",
       "0                         2                             9   \n",
       "1                         1                            20   \n",
       "2                         3                             5   \n",
       "3                         3                             4   \n",
       "4                         1                             5   \n",
       "\n",
       "   TransactionsDeb_PaymentOrder  \n",
       "0                             0  \n",
       "1                             5  \n",
       "2                            12  \n",
       "3                             8  \n",
       "4                             0  "
      ]
     },
     "execution_count": 11,
     "metadata": {},
     "output_type": "execute_result"
    }
   ],
   "source": [
    "inflow_outflow_df.head()"
   ]
  },
  {
   "cell_type": "code",
   "execution_count": 12,
   "metadata": {},
   "outputs": [
    {
     "data": {
      "text/html": [
       "<div>\n",
       "<style scoped>\n",
       "    .dataframe tbody tr th:only-of-type {\n",
       "        vertical-align: middle;\n",
       "    }\n",
       "\n",
       "    .dataframe tbody tr th {\n",
       "        vertical-align: top;\n",
       "    }\n",
       "\n",
       "    .dataframe thead th {\n",
       "        text-align: right;\n",
       "    }\n",
       "</style>\n",
       "<table border=\"1\" class=\"dataframe\">\n",
       "  <thead>\n",
       "    <tr style=\"text-align: right;\">\n",
       "      <th></th>\n",
       "      <th>Client</th>\n",
       "      <th>Sale_MF</th>\n",
       "      <th>Sale_CC</th>\n",
       "      <th>Sale_CL</th>\n",
       "      <th>Revenue_MF</th>\n",
       "      <th>Revenue_CC</th>\n",
       "      <th>Revenue_CL</th>\n",
       "    </tr>\n",
       "  </thead>\n",
       "  <tbody>\n",
       "    <tr>\n",
       "      <th>0</th>\n",
       "      <td>1094</td>\n",
       "      <td>0</td>\n",
       "      <td>1</td>\n",
       "      <td>0</td>\n",
       "      <td>0.000000</td>\n",
       "      <td>5.138571</td>\n",
       "      <td>0.0000</td>\n",
       "    </tr>\n",
       "    <tr>\n",
       "      <th>1</th>\n",
       "      <td>1484</td>\n",
       "      <td>1</td>\n",
       "      <td>0</td>\n",
       "      <td>1</td>\n",
       "      <td>25.609107</td>\n",
       "      <td>0.000000</td>\n",
       "      <td>8.7225</td>\n",
       "    </tr>\n",
       "    <tr>\n",
       "      <th>2</th>\n",
       "      <td>20</td>\n",
       "      <td>0</td>\n",
       "      <td>1</td>\n",
       "      <td>0</td>\n",
       "      <td>0.000000</td>\n",
       "      <td>3.822500</td>\n",
       "      <td>0.0000</td>\n",
       "    </tr>\n",
       "    <tr>\n",
       "      <th>3</th>\n",
       "      <td>1193</td>\n",
       "      <td>0</td>\n",
       "      <td>0</td>\n",
       "      <td>0</td>\n",
       "      <td>0.000000</td>\n",
       "      <td>0.000000</td>\n",
       "      <td>0.0000</td>\n",
       "    </tr>\n",
       "    <tr>\n",
       "      <th>4</th>\n",
       "      <td>142</td>\n",
       "      <td>0</td>\n",
       "      <td>0</td>\n",
       "      <td>0</td>\n",
       "      <td>0.000000</td>\n",
       "      <td>0.000000</td>\n",
       "      <td>0.0000</td>\n",
       "    </tr>\n",
       "  </tbody>\n",
       "</table>\n",
       "</div>"
      ],
      "text/plain": [
       "   Client  Sale_MF  Sale_CC  Sale_CL  Revenue_MF  Revenue_CC  Revenue_CL\n",
       "0    1094        0        1        0    0.000000    5.138571      0.0000\n",
       "1    1484        1        0        1   25.609107    0.000000      8.7225\n",
       "2      20        0        1        0    0.000000    3.822500      0.0000\n",
       "3    1193        0        0        0    0.000000    0.000000      0.0000\n",
       "4     142        0        0        0    0.000000    0.000000      0.0000"
      ]
     },
     "execution_count": 12,
     "metadata": {},
     "output_type": "execute_result"
    }
   ],
   "source": [
    "sales_revenues_df.head()"
   ]
  },
  {
   "cell_type": "code",
   "execution_count": 13,
   "metadata": {},
   "outputs": [
    {
     "name": "stdout",
     "output_type": "stream",
     "text": [
      "<class 'pandas.core.frame.DataFrame'>\n",
      "Int64Index: 1615 entries, 0 to 1614\n",
      "Data columns (total 36 columns):\n",
      " #   Column                        Non-Null Count  Dtype  \n",
      "---  ------                        --------------  -----  \n",
      " 0   Client                        1615 non-null   int64  \n",
      " 1   Sex                           1612 non-null   object \n",
      " 2   Age                           1615 non-null   int64  \n",
      " 3   Tenure                        1615 non-null   int64  \n",
      " 4   Count_CA                      1615 non-null   int64  \n",
      " 5   Count_SA                      426 non-null    float64\n",
      " 6   Count_MF                      306 non-null    float64\n",
      " 7   Count_OVD                     419 non-null    float64\n",
      " 8   Count_CC                      170 non-null    float64\n",
      " 9   Count_CL                      135 non-null    float64\n",
      " 10  ActBal_CA                     1615 non-null   float64\n",
      " 11  ActBal_SA                     426 non-null    float64\n",
      " 12  ActBal_MF                     306 non-null    float64\n",
      " 13  ActBal_OVD                    419 non-null    float64\n",
      " 14  ActBal_CC                     170 non-null    float64\n",
      " 15  ActBal_CL                     135 non-null    float64\n",
      " 16  VolumeCred                    1587 non-null   float64\n",
      " 17  VolumeCred_CA                 1587 non-null   float64\n",
      " 18  TransactionsCred              1587 non-null   float64\n",
      " 19  TransactionsCred_CA           1587 non-null   float64\n",
      " 20  VolumeDeb                     1587 non-null   float64\n",
      " 21  VolumeDeb_CA                  1587 non-null   float64\n",
      " 22  VolumeDebCash_Card            1587 non-null   float64\n",
      " 23  VolumeDebCashless_Card        1587 non-null   float64\n",
      " 24  VolumeDeb_PaymentOrder        1587 non-null   float64\n",
      " 25  TransactionsDeb               1587 non-null   float64\n",
      " 26  TransactionsDeb_CA            1587 non-null   float64\n",
      " 27  TransactionsDebCash_Card      1587 non-null   float64\n",
      " 28  TransactionsDebCashless_Card  1587 non-null   float64\n",
      " 29  TransactionsDeb_PaymentOrder  1587 non-null   float64\n",
      " 30  Sale_MF                       969 non-null    float64\n",
      " 31  Sale_CC                       969 non-null    float64\n",
      " 32  Sale_CL                       969 non-null    float64\n",
      " 33  Revenue_MF                    969 non-null    float64\n",
      " 34  Revenue_CC                    969 non-null    float64\n",
      " 35  Revenue_CL                    969 non-null    float64\n",
      "dtypes: float64(31), int64(4), object(1)\n",
      "memory usage: 466.8+ KB\n"
     ]
    },
    {
     "data": {
      "text/html": [
       "<div>\n",
       "<style scoped>\n",
       "    .dataframe tbody tr th:only-of-type {\n",
       "        vertical-align: middle;\n",
       "    }\n",
       "\n",
       "    .dataframe tbody tr th {\n",
       "        vertical-align: top;\n",
       "    }\n",
       "\n",
       "    .dataframe thead th {\n",
       "        text-align: right;\n",
       "    }\n",
       "</style>\n",
       "<table border=\"1\" class=\"dataframe\">\n",
       "  <thead>\n",
       "    <tr style=\"text-align: right;\">\n",
       "      <th></th>\n",
       "      <th>Client</th>\n",
       "      <th>Sex</th>\n",
       "      <th>Age</th>\n",
       "      <th>Tenure</th>\n",
       "      <th>Count_CA</th>\n",
       "      <th>Count_SA</th>\n",
       "      <th>Count_MF</th>\n",
       "      <th>Count_OVD</th>\n",
       "      <th>Count_CC</th>\n",
       "      <th>Count_CL</th>\n",
       "      <th>...</th>\n",
       "      <th>TransactionsDeb_CA</th>\n",
       "      <th>TransactionsDebCash_Card</th>\n",
       "      <th>TransactionsDebCashless_Card</th>\n",
       "      <th>TransactionsDeb_PaymentOrder</th>\n",
       "      <th>Sale_MF</th>\n",
       "      <th>Sale_CC</th>\n",
       "      <th>Sale_CL</th>\n",
       "      <th>Revenue_MF</th>\n",
       "      <th>Revenue_CC</th>\n",
       "      <th>Revenue_CL</th>\n",
       "    </tr>\n",
       "  </thead>\n",
       "  <tbody>\n",
       "    <tr>\n",
       "      <th>0</th>\n",
       "      <td>909</td>\n",
       "      <td>M</td>\n",
       "      <td>21</td>\n",
       "      <td>27</td>\n",
       "      <td>1</td>\n",
       "      <td>NaN</td>\n",
       "      <td>NaN</td>\n",
       "      <td>1.0</td>\n",
       "      <td>NaN</td>\n",
       "      <td>1.0</td>\n",
       "      <td>...</td>\n",
       "      <td>7.0</td>\n",
       "      <td>1.0</td>\n",
       "      <td>0.0</td>\n",
       "      <td>4.0</td>\n",
       "      <td>NaN</td>\n",
       "      <td>NaN</td>\n",
       "      <td>NaN</td>\n",
       "      <td>NaN</td>\n",
       "      <td>NaN</td>\n",
       "      <td>NaN</td>\n",
       "    </tr>\n",
       "    <tr>\n",
       "      <th>1</th>\n",
       "      <td>1217</td>\n",
       "      <td>M</td>\n",
       "      <td>38</td>\n",
       "      <td>165</td>\n",
       "      <td>1</td>\n",
       "      <td>NaN</td>\n",
       "      <td>NaN</td>\n",
       "      <td>NaN</td>\n",
       "      <td>NaN</td>\n",
       "      <td>NaN</td>\n",
       "      <td>...</td>\n",
       "      <td>1.0</td>\n",
       "      <td>0.0</td>\n",
       "      <td>0.0</td>\n",
       "      <td>1.0</td>\n",
       "      <td>0.0</td>\n",
       "      <td>0.0</td>\n",
       "      <td>0.0</td>\n",
       "      <td>0.000000</td>\n",
       "      <td>0.000000</td>\n",
       "      <td>0.0</td>\n",
       "    </tr>\n",
       "    <tr>\n",
       "      <th>2</th>\n",
       "      <td>850</td>\n",
       "      <td>F</td>\n",
       "      <td>49</td>\n",
       "      <td>44</td>\n",
       "      <td>1</td>\n",
       "      <td>NaN</td>\n",
       "      <td>NaN</td>\n",
       "      <td>NaN</td>\n",
       "      <td>NaN</td>\n",
       "      <td>NaN</td>\n",
       "      <td>...</td>\n",
       "      <td>6.0</td>\n",
       "      <td>0.0</td>\n",
       "      <td>0.0</td>\n",
       "      <td>1.0</td>\n",
       "      <td>0.0</td>\n",
       "      <td>1.0</td>\n",
       "      <td>0.0</td>\n",
       "      <td>0.000000</td>\n",
       "      <td>0.893929</td>\n",
       "      <td>0.0</td>\n",
       "    </tr>\n",
       "    <tr>\n",
       "      <th>3</th>\n",
       "      <td>1473</td>\n",
       "      <td>M</td>\n",
       "      <td>54</td>\n",
       "      <td>34</td>\n",
       "      <td>1</td>\n",
       "      <td>1.0</td>\n",
       "      <td>NaN</td>\n",
       "      <td>NaN</td>\n",
       "      <td>1.0</td>\n",
       "      <td>1.0</td>\n",
       "      <td>...</td>\n",
       "      <td>38.0</td>\n",
       "      <td>1.0</td>\n",
       "      <td>26.0</td>\n",
       "      <td>11.0</td>\n",
       "      <td>1.0</td>\n",
       "      <td>0.0</td>\n",
       "      <td>0.0</td>\n",
       "      <td>4.929643</td>\n",
       "      <td>0.000000</td>\n",
       "      <td>0.0</td>\n",
       "    </tr>\n",
       "    <tr>\n",
       "      <th>4</th>\n",
       "      <td>1038</td>\n",
       "      <td>M</td>\n",
       "      <td>29</td>\n",
       "      <td>106</td>\n",
       "      <td>1</td>\n",
       "      <td>NaN</td>\n",
       "      <td>NaN</td>\n",
       "      <td>NaN</td>\n",
       "      <td>NaN</td>\n",
       "      <td>NaN</td>\n",
       "      <td>...</td>\n",
       "      <td>0.0</td>\n",
       "      <td>0.0</td>\n",
       "      <td>0.0</td>\n",
       "      <td>0.0</td>\n",
       "      <td>0.0</td>\n",
       "      <td>0.0</td>\n",
       "      <td>0.0</td>\n",
       "      <td>0.000000</td>\n",
       "      <td>0.000000</td>\n",
       "      <td>0.0</td>\n",
       "    </tr>\n",
       "  </tbody>\n",
       "</table>\n",
       "<p>5 rows × 36 columns</p>\n",
       "</div>"
      ],
      "text/plain": [
       "   Client Sex  Age  Tenure  Count_CA  Count_SA  Count_MF  Count_OVD  Count_CC  \\\n",
       "0     909   M   21      27         1       NaN       NaN        1.0       NaN   \n",
       "1    1217   M   38     165         1       NaN       NaN        NaN       NaN   \n",
       "2     850   F   49      44         1       NaN       NaN        NaN       NaN   \n",
       "3    1473   M   54      34         1       1.0       NaN        NaN       1.0   \n",
       "4    1038   M   29     106         1       NaN       NaN        NaN       NaN   \n",
       "\n",
       "   Count_CL  ...  TransactionsDeb_CA  TransactionsDebCash_Card  \\\n",
       "0       1.0  ...                 7.0                       1.0   \n",
       "1       NaN  ...                 1.0                       0.0   \n",
       "2       NaN  ...                 6.0                       0.0   \n",
       "3       1.0  ...                38.0                       1.0   \n",
       "4       NaN  ...                 0.0                       0.0   \n",
       "\n",
       "   TransactionsDebCashless_Card  TransactionsDeb_PaymentOrder  Sale_MF  \\\n",
       "0                           0.0                           4.0      NaN   \n",
       "1                           0.0                           1.0      0.0   \n",
       "2                           0.0                           1.0      0.0   \n",
       "3                          26.0                          11.0      1.0   \n",
       "4                           0.0                           0.0      0.0   \n",
       "\n",
       "   Sale_CC  Sale_CL  Revenue_MF  Revenue_CC  Revenue_CL  \n",
       "0      NaN      NaN         NaN         NaN         NaN  \n",
       "1      0.0      0.0    0.000000    0.000000         0.0  \n",
       "2      1.0      0.0    0.000000    0.893929         0.0  \n",
       "3      0.0      0.0    4.929643    0.000000         0.0  \n",
       "4      0.0      0.0    0.000000    0.000000         0.0  \n",
       "\n",
       "[5 rows x 36 columns]"
      ]
     },
     "execution_count": 13,
     "metadata": {},
     "output_type": "execute_result"
    }
   ],
   "source": [
    "# Merge the sheets into a single dataset based on the Client ID\n",
    "merged_df = soc_dem_df.merge(products_actbalance_df, on=\"Client\", how=\"left\")\n",
    "merged_df = merged_df.merge(inflow_outflow_df, on=\"Client\", how=\"left\")\n",
    "merged_df = merged_df.merge(sales_revenues_df, on=\"Client\", how=\"left\")\n",
    "\n",
    "# Display summary of the merged dataset\n",
    "merged_df.info()\n",
    "\n",
    "# Preview a sample of the merged dataset\n",
    "merged_df.head()\n"
   ]
  },
  {
   "cell_type": "code",
   "execution_count": 14,
   "metadata": {},
   "outputs": [],
   "source": [
    "#merged_df[['Sale_CL', 'Sale_CC', 'Sale_MF']] = merged_df[['Sale_CL', 'Sale_CC', 'Sale_MF']].astype('Int64')\n",
    "#merged_df[['Client', 'Sale_CL', 'Sale_CC', 'Sale_MF']] =  merged_df[['Client', 'Sale_CL', 'Sale_CC', 'Sale_MF']].astype(str)\n",
    "#print(merged_df.dtypes)"
   ]
  },
  {
   "cell_type": "code",
   "execution_count": 15,
   "metadata": {},
   "outputs": [
    {
     "name": "stdout",
     "output_type": "stream",
     "text": [
      "               Age       Tenure     Count_CA    Count_SA    Count_MF  \\\n",
      "count  1615.000000  1615.000000  1615.000000  426.000000  306.000000   \n",
      "mean     42.848916   101.339938     1.078638    1.166667    4.676471   \n",
      "std      18.550529    64.917297     0.333035    0.468205    7.845009   \n",
      "min       0.000000     0.000000     1.000000    1.000000    1.000000   \n",
      "25%      29.000000    44.000000     1.000000    1.000000    1.000000   \n",
      "50%      41.000000    97.000000     1.000000    1.000000    2.000000   \n",
      "75%      57.000000   151.000000     1.000000    1.000000    5.000000   \n",
      "max      97.000000   273.000000     4.000000    5.000000   79.000000   \n",
      "\n",
      "       Count_OVD  Count_CC    Count_CL      ActBal_CA      ActBal_SA  ...  \\\n",
      "count      419.0     170.0  135.000000    1615.000000     426.000000  ...   \n",
      "mean         1.0       1.0    1.185185    2438.601941   15201.520284  ...   \n",
      "std          0.0       0.0    0.520980    7072.777350   32365.183430  ...   \n",
      "min          1.0       1.0    1.000000       0.000000       0.000000  ...   \n",
      "25%          1.0       1.0    1.000000      61.562143     728.145000  ...   \n",
      "50%          1.0       1.0    1.000000     462.221786    4413.503571  ...   \n",
      "75%          1.0       1.0    1.000000    2174.864286   14622.666071  ...   \n",
      "max          1.0       1.0    5.000000  171575.889643  389883.830714  ...   \n",
      "\n",
      "       VolumeDebCashless_Card  VolumeDeb_PaymentOrder  TransactionsDeb  \\\n",
      "count             1587.000000             1587.000000      1587.000000   \n",
      "mean               150.850401              715.974931        16.006931   \n",
      "std                311.938796             3215.106760        16.243554   \n",
      "min                  0.000000                0.000000         0.000000   \n",
      "25%                  0.000000                0.000000         4.000000   \n",
      "50%                 20.139286              175.428571        11.000000   \n",
      "75%                175.892500              507.607143        22.000000   \n",
      "max               3637.616786            72278.782143       102.000000   \n",
      "\n",
      "       TransactionsDeb_CA  TransactionsDebCash_Card  \\\n",
      "count         1587.000000               1587.000000   \n",
      "mean            13.596723                  1.988658   \n",
      "std             12.975287                  2.710704   \n",
      "min              0.000000                  0.000000   \n",
      "25%              4.000000                  0.000000   \n",
      "50%             10.000000                  1.000000   \n",
      "75%             19.000000                  3.000000   \n",
      "max             83.000000                 25.000000   \n",
      "\n",
      "       TransactionsDebCashless_Card  TransactionsDeb_PaymentOrder  Revenue_MF  \\\n",
      "count                   1587.000000                   1587.000000  969.000000   \n",
      "mean                       5.240076                      4.601134    1.925015   \n",
      "std                        8.386154                      5.211451    9.943601   \n",
      "min                        0.000000                      0.000000    0.000000   \n",
      "25%                        0.000000                      0.000000    0.000000   \n",
      "50%                        1.000000                      3.000000    0.000000   \n",
      "75%                        7.000000                      7.000000    0.000000   \n",
      "max                       60.000000                     34.000000  220.488214   \n",
      "\n",
      "       Revenue_CC  Revenue_CL  \n",
      "count  969.000000  969.000000  \n",
      "mean     2.712827    3.604220  \n",
      "std     17.693433    7.743618  \n",
      "min      0.000000    0.000000  \n",
      "25%      0.000000    0.000000  \n",
      "50%      0.000000    0.000000  \n",
      "75%      0.000000    4.642857  \n",
      "max    407.962500  133.275357  \n",
      "\n",
      "[8 rows x 31 columns]\n"
     ]
    }
   ],
   "source": [
    "# Describe the numeric columns\n",
    "cols = merged_df.columns\n",
    "num_cols = cols[2:-6].tolist() + cols[-3:].tolist()\n",
    "print(merged_df[num_cols].describe())"
   ]
  },
  {
   "cell_type": "code",
   "execution_count": 16,
   "metadata": {},
   "outputs": [
    {
     "name": "stdout",
     "output_type": "stream",
     "text": [
      "M    856\n",
      "F    756\n",
      "Name: Sex, dtype: int64\n",
      "0.0    679\n",
      "1.0    290\n",
      "Name: Sale_CL, dtype: int64\n",
      "0.0    727\n",
      "1.0    242\n",
      "Name: Sale_CC, dtype: int64\n",
      "0.0    776\n",
      "1.0    193\n",
      "Name: Sale_MF, dtype: int64\n"
     ]
    }
   ],
   "source": [
    "# Count values of the categorical columns and binary indicators\n",
    "cat_cols = ['Sex', 'Sale_CL', 'Sale_CC', 'Sale_MF']\n",
    "for col in cat_cols:\n",
    "    print(merged_df[col].value_counts())"
   ]
  },
  {
   "cell_type": "markdown",
   "metadata": {},
   "source": [
    "We handle missing values by replacing NaN with zero for counts, balances, volumes, and transactions and replacing NaN with its mode for Sex."
   ]
  },
  {
   "cell_type": "code",
   "execution_count": 17,
   "metadata": {},
   "outputs": [
    {
     "data": {
      "text/plain": [
       "Sex                                3\n",
       "Count_SA                        1189\n",
       "Count_MF                        1309\n",
       "Count_OVD                       1196\n",
       "Count_CC                        1445\n",
       "Count_CL                        1480\n",
       "ActBal_SA                       1189\n",
       "ActBal_MF                       1309\n",
       "ActBal_OVD                      1196\n",
       "ActBal_CC                       1445\n",
       "ActBal_CL                       1480\n",
       "VolumeCred                        28\n",
       "VolumeCred_CA                     28\n",
       "TransactionsCred                  28\n",
       "TransactionsCred_CA               28\n",
       "VolumeDeb                         28\n",
       "VolumeDeb_CA                      28\n",
       "VolumeDebCash_Card                28\n",
       "VolumeDebCashless_Card            28\n",
       "VolumeDeb_PaymentOrder            28\n",
       "TransactionsDeb                   28\n",
       "TransactionsDeb_CA                28\n",
       "TransactionsDebCash_Card          28\n",
       "TransactionsDebCashless_Card      28\n",
       "TransactionsDeb_PaymentOrder      28\n",
       "Sale_MF                          646\n",
       "Sale_CC                          646\n",
       "Sale_CL                          646\n",
       "Revenue_MF                       646\n",
       "Revenue_CC                       646\n",
       "Revenue_CL                       646\n",
       "dtype: int64"
      ]
     },
     "execution_count": 17,
     "metadata": {},
     "output_type": "execute_result"
    }
   ],
   "source": [
    "# Check the number of missing values for each variable\n",
    "missing_values = merged_df.isnull().sum()\n",
    "missing_values[missing_values > 0]"
   ]
  },
  {
   "cell_type": "code",
   "execution_count": 18,
   "metadata": {},
   "outputs": [
    {
     "data": {
      "text/plain": [
       "['Sex',\n",
       " 'Count_SA',\n",
       " 'Count_MF',\n",
       " 'Count_OVD',\n",
       " 'Count_CC',\n",
       " 'Count_CL',\n",
       " 'ActBal_SA',\n",
       " 'ActBal_MF',\n",
       " 'ActBal_OVD',\n",
       " 'ActBal_CC',\n",
       " 'ActBal_CL',\n",
       " 'VolumeCred',\n",
       " 'VolumeCred_CA',\n",
       " 'TransactionsCred',\n",
       " 'TransactionsCred_CA',\n",
       " 'VolumeDeb',\n",
       " 'VolumeDeb_CA',\n",
       " 'VolumeDebCash_Card',\n",
       " 'VolumeDebCashless_Card',\n",
       " 'VolumeDeb_PaymentOrder',\n",
       " 'TransactionsDeb',\n",
       " 'TransactionsDeb_CA',\n",
       " 'TransactionsDebCash_Card',\n",
       " 'TransactionsDebCashless_Card',\n",
       " 'TransactionsDeb_PaymentOrder',\n",
       " 'Sale_MF',\n",
       " 'Sale_CC',\n",
       " 'Sale_CL',\n",
       " 'Revenue_MF',\n",
       " 'Revenue_CC',\n",
       " 'Revenue_CL']"
      ]
     },
     "execution_count": 18,
     "metadata": {},
     "output_type": "execute_result"
    }
   ],
   "source": [
    "# List the column names with missing values\n",
    "missing_values_cols = missing_values[missing_values > 0].index.tolist()\n",
    "missing_values_cols"
   ]
  },
  {
   "cell_type": "code",
   "execution_count": 19,
   "metadata": {},
   "outputs": [
    {
     "data": {
      "text/plain": [
       "Sex             3\n",
       "Sale_MF       646\n",
       "Sale_CC       646\n",
       "Sale_CL       646\n",
       "Revenue_MF    646\n",
       "Revenue_CC    646\n",
       "Revenue_CL    646\n",
       "dtype: int64"
      ]
     },
     "execution_count": 19,
     "metadata": {},
     "output_type": "execute_result"
    }
   ],
   "source": [
    "# Handle missing values by replacing NaN with appropriate defaults (0 for counts, balances, volumes and transactions)\n",
    "processed_df = merged_df\n",
    "processed_df[missing_values_cols[1:-6]] = merged_df[missing_values_cols[1:-6]].fillna(0)\n",
    "\n",
    "# Check for remaining missing values\n",
    "missing_values = processed_df.isnull().sum()\n",
    "missing_values[missing_values > 0]"
   ]
  },
  {
   "cell_type": "code",
   "execution_count": 20,
   "metadata": {},
   "outputs": [],
   "source": [
    "# Handle missing values by replacing NaN with mean for numeric variables\n",
    "#processed_df = merged_df\n",
    "#imputer = SimpleImputer(strategy='mean')\n",
    "#processed_df[missing_values_cols[1:-6]] = imputer.fit_transform(\n",
    "#processed_df[missing_values_cols[1:-6]]\n",
    "#)\n",
    "\n",
    "# Check for remaining missing values\n",
    "#missing_values = processed_df.isnull().sum()\n",
    "#missing_values[missing_values > 0]"
   ]
  },
  {
   "cell_type": "code",
   "execution_count": 21,
   "metadata": {},
   "outputs": [
    {
     "data": {
      "text/plain": [
       "Sale_MF       646\n",
       "Sale_CC       646\n",
       "Sale_CL       646\n",
       "Revenue_MF    646\n",
       "Revenue_CC    646\n",
       "Revenue_CL    646\n",
       "dtype: int64"
      ]
     },
     "execution_count": 21,
     "metadata": {},
     "output_type": "execute_result"
    }
   ],
   "source": [
    "# Fill categorical missing values with the mode ('M' for Sex)\n",
    "processed_df[['Sex']] = processed_df[['Sex']].fillna('M')\n",
    "\n",
    "# Verify no missing values remain\n",
    "missing_values_final = processed_df.isnull().sum()\n",
    "missing_values_final[missing_values_final > 0]"
   ]
  },
  {
   "cell_type": "markdown",
   "metadata": {},
   "source": [
    "The processed dataset is splitted into the model development set and the model prediction set based on the presence of target variables."
   ]
  },
  {
   "cell_type": "code",
   "execution_count": 22,
   "metadata": {},
   "outputs": [
    {
     "data": {
      "text/plain": [
       "(969, 646)"
      ]
     },
     "execution_count": 22,
     "metadata": {},
     "output_type": "execute_result"
    }
   ],
   "source": [
    "# Split into training and testing sets based on the presence of sales/revenue data\n",
    "train_df = processed_df[(processed_df['Sale_MF'] >= 0) | \n",
    "                            (processed_df['Sale_CC'] >= 0) | \n",
    "                            (processed_df['Sale_CL'] >= 0)]\n",
    "test_df = processed_df[~((processed_df['Sale_MF'] >= 0) | \n",
    "                            (processed_df['Sale_CC'] >= 0) | \n",
    "                            (processed_df['Sale_CL'] >= 0))]\n",
    "\n",
    "# Check the sizes of the training and testing datasets\n",
    "train_size = train_df.shape[0]\n",
    "test_size = test_df.shape[0]\n",
    "\n",
    "train_size, test_size\n"
   ]
  },
  {
   "cell_type": "markdown",
   "metadata": {},
   "source": [
    "We conduct data visualization to explore the relationships between each target variable and features. Below are some example."
   ]
  },
  {
   "cell_type": "code",
   "execution_count": 23,
   "metadata": {},
   "outputs": [],
   "source": [
    "# Define target variables\n",
    "target_cols = ['Sale_CL', 'Sale_CC', 'Sale_MF']\n",
    "\n",
    "# Define features\n",
    "feature_cols = train_df.drop(columns = target_cols + ['Client', 'Revenue_CL', 'Revenue_CC', 'Revenue_MF']).columns.tolist()\n",
    "cat_feature_cols = ['Sex']\n",
    "num_feature_cols = list(set(feature_cols)-set(cat_feature_cols))"
   ]
  },
  {
   "cell_type": "markdown",
   "metadata": {},
   "source": [
    "Barplot is used to visualize the distribution of each target variable."
   ]
  },
  {
   "cell_type": "code",
   "execution_count": 24,
   "metadata": {},
   "outputs": [
    {
     "data": {
      "image/png": "[encoded data removed]",
      "text/plain": [
       "<Figure size 432x288 with 1 Axes>"
      ]
     },
     "metadata": {
      "needs_background": "light"
     },
     "output_type": "display_data"
    },
    {
     "data": {
      "image/png": "[encoded data removed]",
      "text/plain": [
       "<Figure size 432x288 with 1 Axes>"
      ]
     },
     "metadata": {
      "needs_background": "light"
     },
     "output_type": "display_data"
    },
    {
     "data": {
      "image/png": "[encoded data removed]",
      "text/plain": [
       "<Figure size 432x288 with 1 Axes>"
      ]
     },
     "metadata": {
      "needs_background": "light"
     },
     "output_type": "display_data"
    }
   ],
   "source": [
    "# Visualize the Target Variable Distribution\n",
    "\n",
    "for col in target_cols:\n",
    "    sns.countplot(train_df[col])\n",
    "    plt.title(f'Distribution of {col}')\n",
    "    plt.show()"
   ]
  },
  {
   "cell_type": "markdown",
   "metadata": {},
   "source": [
    "Histogram and Boxplot of numerical feature by sales status of product are used to detect the pattern and relationship between sales status of product and each numerical feature.\n",
    "\n",
    "For example, the histogram and boxplot of Tenure by Sale_CL show that clients with a higher tenure are more likely to purchase a consumer loan."
   ]
  },
  {
   "cell_type": "code",
   "execution_count": 25,
   "metadata": {},
   "outputs": [
    {
     "name": "stderr",
     "output_type": "stream",
     "text": [
      "/Users/fangzhou/anaconda3/lib/python3.7/site-packages/matplotlib/cbook/__init__.py:1420: VisibleDeprecationWarning: Creating an ndarray from ragged nested sequences (which is a list-or-tuple of lists-or-tuples-or ndarrays with different lengths or shapes) is deprecated. If you meant to do this, you must specify 'dtype=object' when creating the ndarray.\n",
      "  X = np.atleast_1d(X.T if isinstance(X, np.ndarray) else np.asarray(X))\n"
     ]
    },
    {
     "data": {
      "image/png": "[encoded data removed]",
      "text/plain": [
       "<Figure size 432x288 with 2 Axes>"
      ]
     },
     "metadata": {
      "needs_background": "light"
     },
     "output_type": "display_data"
    },
    {
     "name": "stderr",
     "output_type": "stream",
     "text": [
      "/Users/fangzhou/anaconda3/lib/python3.7/site-packages/matplotlib/cbook/__init__.py:1420: VisibleDeprecationWarning: Creating an ndarray from ragged nested sequences (which is a list-or-tuple of lists-or-tuples-or ndarrays with different lengths or shapes) is deprecated. If you meant to do this, you must specify 'dtype=object' when creating the ndarray.\n",
      "  X = np.atleast_1d(X.T if isinstance(X, np.ndarray) else np.asarray(X))\n"
     ]
    },
    {
     "data": {
      "image/png": "[encoded data removed]",
      "text/plain": [
       "<Figure size 432x288 with 2 Axes>"
      ]
     },
     "metadata": {
      "needs_background": "light"
     },
     "output_type": "display_data"
    },
    {
     "name": "stderr",
     "output_type": "stream",
     "text": [
      "/Users/fangzhou/anaconda3/lib/python3.7/site-packages/matplotlib/cbook/__init__.py:1420: VisibleDeprecationWarning: Creating an ndarray from ragged nested sequences (which is a list-or-tuple of lists-or-tuples-or ndarrays with different lengths or shapes) is deprecated. If you meant to do this, you must specify 'dtype=object' when creating the ndarray.\n",
      "  X = np.atleast_1d(X.T if isinstance(X, np.ndarray) else np.asarray(X))\n"
     ]
    },
    {
     "data": {
      "image/png": "[encoded data removed]",
      "text/plain": [
       "<Figure size 432x288 with 2 Axes>"
      ]
     },
     "metadata": {
      "needs_background": "light"
     },
     "output_type": "display_data"
    },
    {
     "name": "stderr",
     "output_type": "stream",
     "text": [
      "/Users/fangzhou/anaconda3/lib/python3.7/site-packages/matplotlib/cbook/__init__.py:1420: VisibleDeprecationWarning: Creating an ndarray from ragged nested sequences (which is a list-or-tuple of lists-or-tuples-or ndarrays with different lengths or shapes) is deprecated. If you meant to do this, you must specify 'dtype=object' when creating the ndarray.\n",
      "  X = np.atleast_1d(X.T if isinstance(X, np.ndarray) else np.asarray(X))\n"
     ]
    },
    {
     "data": {
      "image/png": "[encoded data removed]",
      "text/plain": [
       "<Figure size 432x288 with 2 Axes>"
      ]
     },
     "metadata": {
      "needs_background": "light"
     },
     "output_type": "display_data"
    },
    {
     "name": "stderr",
     "output_type": "stream",
     "text": [
      "/Users/fangzhou/anaconda3/lib/python3.7/site-packages/matplotlib/cbook/__init__.py:1420: VisibleDeprecationWarning: Creating an ndarray from ragged nested sequences (which is a list-or-tuple of lists-or-tuples-or ndarrays with different lengths or shapes) is deprecated. If you meant to do this, you must specify 'dtype=object' when creating the ndarray.\n",
      "  X = np.atleast_1d(X.T if isinstance(X, np.ndarray) else np.asarray(X))\n"
     ]
    },
    {
     "data": {
      "image/png": "[encoded data removed]",
      "text/plain": [
       "<Figure size 432x288 with 2 Axes>"
      ]
     },
     "metadata": {
      "needs_background": "light"
     },
     "output_type": "display_data"
    },
    {
     "name": "stderr",
     "output_type": "stream",
     "text": [
      "/Users/fangzhou/anaconda3/lib/python3.7/site-packages/matplotlib/cbook/__init__.py:1420: VisibleDeprecationWarning: Creating an ndarray from ragged nested sequences (which is a list-or-tuple of lists-or-tuples-or ndarrays with different lengths or shapes) is deprecated. If you meant to do this, you must specify 'dtype=object' when creating the ndarray.\n",
      "  X = np.atleast_1d(X.T if isinstance(X, np.ndarray) else np.asarray(X))\n"
     ]
    },
    {
     "data": {
      "image/png": "[encoded data removed]",
      "text/plain": [
       "<Figure size 432x288 with 2 Axes>"
      ]
     },
     "metadata": {
      "needs_background": "light"
     },
     "output_type": "display_data"
    },
    {
     "name": "stderr",
     "output_type": "stream",
     "text": [
      "/Users/fangzhou/anaconda3/lib/python3.7/site-packages/matplotlib/cbook/__init__.py:1420: VisibleDeprecationWarning: Creating an ndarray from ragged nested sequences (which is a list-or-tuple of lists-or-tuples-or ndarrays with different lengths or shapes) is deprecated. If you meant to do this, you must specify 'dtype=object' when creating the ndarray.\n",
      "  X = np.atleast_1d(X.T if isinstance(X, np.ndarray) else np.asarray(X))\n"
     ]
    },
    {
     "data": {
      "image/png": "[encoded data removed]",
      "text/plain": [
       "<Figure size 432x288 with 2 Axes>"
      ]
     },
     "metadata": {
      "needs_background": "light"
     },
     "output_type": "display_data"
    },
    {
     "name": "stderr",
     "output_type": "stream",
     "text": [
      "/Users/fangzhou/anaconda3/lib/python3.7/site-packages/matplotlib/cbook/__init__.py:1420: VisibleDeprecationWarning: Creating an ndarray from ragged nested sequences (which is a list-or-tuple of lists-or-tuples-or ndarrays with different lengths or shapes) is deprecated. If you meant to do this, you must specify 'dtype=object' when creating the ndarray.\n",
      "  X = np.atleast_1d(X.T if isinstance(X, np.ndarray) else np.asarray(X))\n"
     ]
    },
    {
     "data": {
      "image/png": "[encoded data removed]",
      "text/plain": [
       "<Figure size 432x288 with 2 Axes>"
      ]
     },
     "metadata": {
      "needs_background": "light"
     },
     "output_type": "display_data"
    },
    {
     "name": "stderr",
     "output_type": "stream",
     "text": [
      "/Users/fangzhou/anaconda3/lib/python3.7/site-packages/matplotlib/cbook/__init__.py:1420: VisibleDeprecationWarning: Creating an ndarray from ragged nested sequences (which is a list-or-tuple of lists-or-tuples-or ndarrays with different lengths or shapes) is deprecated. If you meant to do this, you must specify 'dtype=object' when creating the ndarray.\n",
      "  X = np.atleast_1d(X.T if isinstance(X, np.ndarray) else np.asarray(X))\n"
     ]
    },
    {
     "data": {
      "image/png": "[encoded data removed]",
      "text/plain": [
       "<Figure size 432x288 with 2 Axes>"
      ]
     },
     "metadata": {
      "needs_background": "light"
     },
     "output_type": "display_data"
    },
    {
     "name": "stderr",
     "output_type": "stream",
     "text": [
      "/Users/fangzhou/anaconda3/lib/python3.7/site-packages/matplotlib/cbook/__init__.py:1420: VisibleDeprecationWarning: Creating an ndarray from ragged nested sequences (which is a list-or-tuple of lists-or-tuples-or ndarrays with different lengths or shapes) is deprecated. If you meant to do this, you must specify 'dtype=object' when creating the ndarray.\n",
      "  X = np.atleast_1d(X.T if isinstance(X, np.ndarray) else np.asarray(X))\n"
     ]
    },
    {
     "data": {
      "image/png": "[encoded data removed]",
      "text/plain": [
       "<Figure size 432x288 with 2 Axes>"
      ]
     },
     "metadata": {
      "needs_background": "light"
     },
     "output_type": "display_data"
    },
    {
     "name": "stderr",
     "output_type": "stream",
     "text": [
      "/Users/fangzhou/anaconda3/lib/python3.7/site-packages/matplotlib/cbook/__init__.py:1420: VisibleDeprecationWarning: Creating an ndarray from ragged nested sequences (which is a list-or-tuple of lists-or-tuples-or ndarrays with different lengths or shapes) is deprecated. If you meant to do this, you must specify 'dtype=object' when creating the ndarray.\n",
      "  X = np.atleast_1d(X.T if isinstance(X, np.ndarray) else np.asarray(X))\n"
     ]
    },
    {
     "data": {
      "image/png": "[encoded data removed]",
      "text/plain": [
       "<Figure size 432x288 with 2 Axes>"
      ]
     },
     "metadata": {
      "needs_background": "light"
     },
     "output_type": "display_data"
    },
    {
     "name": "stderr",
     "output_type": "stream",
     "text": [
      "/Users/fangzhou/anaconda3/lib/python3.7/site-packages/matplotlib/cbook/__init__.py:1420: VisibleDeprecationWarning: Creating an ndarray from ragged nested sequences (which is a list-or-tuple of lists-or-tuples-or ndarrays with different lengths or shapes) is deprecated. If you meant to do this, you must specify 'dtype=object' when creating the ndarray.\n",
      "  X = np.atleast_1d(X.T if isinstance(X, np.ndarray) else np.asarray(X))\n"
     ]
    },
    {
     "data": {
      "image/png": "[encoded data removed]",
      "text/plain": [
       "<Figure size 432x288 with 2 Axes>"
      ]
     },
     "metadata": {
      "needs_background": "light"
     },
     "output_type": "display_data"
    },
    {
     "name": "stderr",
     "output_type": "stream",
     "text": [
      "/Users/fangzhou/anaconda3/lib/python3.7/site-packages/matplotlib/cbook/__init__.py:1420: VisibleDeprecationWarning: Creating an ndarray from ragged nested sequences (which is a list-or-tuple of lists-or-tuples-or ndarrays with different lengths or shapes) is deprecated. If you meant to do this, you must specify 'dtype=object' when creating the ndarray.\n",
      "  X = np.atleast_1d(X.T if isinstance(X, np.ndarray) else np.asarray(X))\n"
     ]
    },
    {
     "data": {
      "image/png": "[encoded data removed]",
      "text/plain": [
       "<Figure size 432x288 with 2 Axes>"
      ]
     },
     "metadata": {
      "needs_background": "light"
     },
     "output_type": "display_data"
    },
    {
     "name": "stderr",
     "output_type": "stream",
     "text": [
      "/Users/fangzhou/anaconda3/lib/python3.7/site-packages/matplotlib/cbook/__init__.py:1420: VisibleDeprecationWarning: Creating an ndarray from ragged nested sequences (which is a list-or-tuple of lists-or-tuples-or ndarrays with different lengths or shapes) is deprecated. If you meant to do this, you must specify 'dtype=object' when creating the ndarray.\n",
      "  X = np.atleast_1d(X.T if isinstance(X, np.ndarray) else np.asarray(X))\n"
     ]
    },
    {
     "data": {
      "image/png": "[encoded data removed]",
      "text/plain": [
       "<Figure size 432x288 with 2 Axes>"
      ]
     },
     "metadata": {
      "needs_background": "light"
     },
     "output_type": "display_data"
    },
    {
     "name": "stderr",
     "output_type": "stream",
     "text": [
      "/Users/fangzhou/anaconda3/lib/python3.7/site-packages/matplotlib/cbook/__init__.py:1420: VisibleDeprecationWarning: Creating an ndarray from ragged nested sequences (which is a list-or-tuple of lists-or-tuples-or ndarrays with different lengths or shapes) is deprecated. If you meant to do this, you must specify 'dtype=object' when creating the ndarray.\n",
      "  X = np.atleast_1d(X.T if isinstance(X, np.ndarray) else np.asarray(X))\n"
     ]
    },
    {
     "data": {
      "image/png": "[encoded data removed]",
      "text/plain": [
       "<Figure size 432x288 with 2 Axes>"
      ]
     },
     "metadata": {
      "needs_background": "light"
     },
     "output_type": "display_data"
    },
    {
     "name": "stderr",
     "output_type": "stream",
     "text": [
      "/Users/fangzhou/anaconda3/lib/python3.7/site-packages/matplotlib/cbook/__init__.py:1420: VisibleDeprecationWarning: Creating an ndarray from ragged nested sequences (which is a list-or-tuple of lists-or-tuples-or ndarrays with different lengths or shapes) is deprecated. If you meant to do this, you must specify 'dtype=object' when creating the ndarray.\n",
      "  X = np.atleast_1d(X.T if isinstance(X, np.ndarray) else np.asarray(X))\n"
     ]
    },
    {
     "data": {
      "image/png": "[encoded data removed]",
      "text/plain": [
       "<Figure size 432x288 with 2 Axes>"
      ]
     },
     "metadata": {
      "needs_background": "light"
     },
     "output_type": "display_data"
    },
    {
     "name": "stderr",
     "output_type": "stream",
     "text": [
      "/Users/fangzhou/anaconda3/lib/python3.7/site-packages/matplotlib/cbook/__init__.py:1420: VisibleDeprecationWarning: Creating an ndarray from ragged nested sequences (which is a list-or-tuple of lists-or-tuples-or ndarrays with different lengths or shapes) is deprecated. If you meant to do this, you must specify 'dtype=object' when creating the ndarray.\n",
      "  X = np.atleast_1d(X.T if isinstance(X, np.ndarray) else np.asarray(X))\n"
     ]
    },
    {
     "data": {
      "image/png": "[encoded data removed]",
      "text/plain": [
       "<Figure size 432x288 with 2 Axes>"
      ]
     },
     "metadata": {
      "needs_background": "light"
     },
     "output_type": "display_data"
    },
    {
     "name": "stderr",
     "output_type": "stream",
     "text": [
      "/Users/fangzhou/anaconda3/lib/python3.7/site-packages/matplotlib/cbook/__init__.py:1420: VisibleDeprecationWarning: Creating an ndarray from ragged nested sequences (which is a list-or-tuple of lists-or-tuples-or ndarrays with different lengths or shapes) is deprecated. If you meant to do this, you must specify 'dtype=object' when creating the ndarray.\n",
      "  X = np.atleast_1d(X.T if isinstance(X, np.ndarray) else np.asarray(X))\n"
     ]
    },
    {
     "data": {
      "image/png": "[encoded data removed]",
      "text/plain": [
       "<Figure size 432x288 with 2 Axes>"
      ]
     },
     "metadata": {
      "needs_background": "light"
     },
     "output_type": "display_data"
    },
    {
     "name": "stderr",
     "output_type": "stream",
     "text": [
      "/Users/fangzhou/anaconda3/lib/python3.7/site-packages/matplotlib/cbook/__init__.py:1420: VisibleDeprecationWarning: Creating an ndarray from ragged nested sequences (which is a list-or-tuple of lists-or-tuples-or ndarrays with different lengths or shapes) is deprecated. If you meant to do this, you must specify 'dtype=object' when creating the ndarray.\n",
      "  X = np.atleast_1d(X.T if isinstance(X, np.ndarray) else np.asarray(X))\n"
     ]
    },
    {
     "data": {
      "image/png": "[encoded data removed]",
      "text/plain": [
       "<Figure size 432x288 with 2 Axes>"
      ]
     },
     "metadata": {
      "needs_background": "light"
     },
     "output_type": "display_data"
    },
    {
     "name": "stderr",
     "output_type": "stream",
     "text": [
      "/Users/fangzhou/anaconda3/lib/python3.7/site-packages/matplotlib/cbook/__init__.py:1420: VisibleDeprecationWarning: Creating an ndarray from ragged nested sequences (which is a list-or-tuple of lists-or-tuples-or ndarrays with different lengths or shapes) is deprecated. If you meant to do this, you must specify 'dtype=object' when creating the ndarray.\n",
      "  X = np.atleast_1d(X.T if isinstance(X, np.ndarray) else np.asarray(X))\n"
     ]
    },
    {
     "data": {
      "image/png": "[encoded data removed]",
      "text/plain": [
       "<Figure size 432x288 with 2 Axes>"
      ]
     },
     "metadata": {
      "needs_background": "light"
     },
     "output_type": "display_data"
    },
    {
     "name": "stderr",
     "output_type": "stream",
     "text": [
      "/Users/fangzhou/anaconda3/lib/python3.7/site-packages/matplotlib/cbook/__init__.py:1420: VisibleDeprecationWarning: Creating an ndarray from ragged nested sequences (which is a list-or-tuple of lists-or-tuples-or ndarrays with different lengths or shapes) is deprecated. If you meant to do this, you must specify 'dtype=object' when creating the ndarray.\n",
      "  X = np.atleast_1d(X.T if isinstance(X, np.ndarray) else np.asarray(X))\n"
     ]
    },
    {
     "data": {
      "image/png": "[encoded data removed]",
      "text/plain": [
       "<Figure size 432x288 with 2 Axes>"
      ]
     },
     "metadata": {
      "needs_background": "light"
     },
     "output_type": "display_data"
    },
    {
     "name": "stderr",
     "output_type": "stream",
     "text": [
      "/Users/fangzhou/anaconda3/lib/python3.7/site-packages/matplotlib/cbook/__init__.py:1420: VisibleDeprecationWarning: Creating an ndarray from ragged nested sequences (which is a list-or-tuple of lists-or-tuples-or ndarrays with different lengths or shapes) is deprecated. If you meant to do this, you must specify 'dtype=object' when creating the ndarray.\n",
      "  X = np.atleast_1d(X.T if isinstance(X, np.ndarray) else np.asarray(X))\n"
     ]
    },
    {
     "data": {
      "image/png": "[encoded data removed]",
      "text/plain": [
       "<Figure size 432x288 with 2 Axes>"
      ]
     },
     "metadata": {
      "needs_background": "light"
     },
     "output_type": "display_data"
    },
    {
     "name": "stderr",
     "output_type": "stream",
     "text": [
      "/Users/fangzhou/anaconda3/lib/python3.7/site-packages/matplotlib/cbook/__init__.py:1420: VisibleDeprecationWarning: Creating an ndarray from ragged nested sequences (which is a list-or-tuple of lists-or-tuples-or ndarrays with different lengths or shapes) is deprecated. If you meant to do this, you must specify 'dtype=object' when creating the ndarray.\n",
      "  X = np.atleast_1d(X.T if isinstance(X, np.ndarray) else np.asarray(X))\n"
     ]
    },
    {
     "data": {
      "image/png": "[encoded data removed]",
      "text/plain": [
       "<Figure size 432x288 with 2 Axes>"
      ]
     },
     "metadata": {
      "needs_background": "light"
     },
     "output_type": "display_data"
    },
    {
     "name": "stderr",
     "output_type": "stream",
     "text": [
      "/Users/fangzhou/anaconda3/lib/python3.7/site-packages/matplotlib/cbook/__init__.py:1420: VisibleDeprecationWarning: Creating an ndarray from ragged nested sequences (which is a list-or-tuple of lists-or-tuples-or ndarrays with different lengths or shapes) is deprecated. If you meant to do this, you must specify 'dtype=object' when creating the ndarray.\n",
      "  X = np.atleast_1d(X.T if isinstance(X, np.ndarray) else np.asarray(X))\n"
     ]
    },
    {
     "data": {
      "image/png": "[encoded data removed]",
      "text/plain": [
       "<Figure size 432x288 with 2 Axes>"
      ]
     },
     "metadata": {
      "needs_background": "light"
     },
     "output_type": "display_data"
    },
    {
     "name": "stderr",
     "output_type": "stream",
     "text": [
      "/Users/fangzhou/anaconda3/lib/python3.7/site-packages/matplotlib/cbook/__init__.py:1420: VisibleDeprecationWarning: Creating an ndarray from ragged nested sequences (which is a list-or-tuple of lists-or-tuples-or ndarrays with different lengths or shapes) is deprecated. If you meant to do this, you must specify 'dtype=object' when creating the ndarray.\n",
      "  X = np.atleast_1d(X.T if isinstance(X, np.ndarray) else np.asarray(X))\n"
     ]
    },
    {
     "data": {
      "image/png": "[encoded data removed]",
      "text/plain": [
       "<Figure size 432x288 with 2 Axes>"
      ]
     },
     "metadata": {
      "needs_background": "light"
     },
     "output_type": "display_data"
    },
    {
     "name": "stderr",
     "output_type": "stream",
     "text": [
      "/Users/fangzhou/anaconda3/lib/python3.7/site-packages/matplotlib/cbook/__init__.py:1420: VisibleDeprecationWarning: Creating an ndarray from ragged nested sequences (which is a list-or-tuple of lists-or-tuples-or ndarrays with different lengths or shapes) is deprecated. If you meant to do this, you must specify 'dtype=object' when creating the ndarray.\n",
      "  X = np.atleast_1d(X.T if isinstance(X, np.ndarray) else np.asarray(X))\n"
     ]
    },
    {
     "data": {
      "image/png": "[encoded data removed]",
      "text/plain": [
       "<Figure size 432x288 with 2 Axes>"
      ]
     },
     "metadata": {
      "needs_background": "light"
     },
     "output_type": "display_data"
    },
    {
     "name": "stderr",
     "output_type": "stream",
     "text": [
      "/Users/fangzhou/anaconda3/lib/python3.7/site-packages/matplotlib/cbook/__init__.py:1420: VisibleDeprecationWarning: Creating an ndarray from ragged nested sequences (which is a list-or-tuple of lists-or-tuples-or ndarrays with different lengths or shapes) is deprecated. If you meant to do this, you must specify 'dtype=object' when creating the ndarray.\n",
      "  X = np.atleast_1d(X.T if isinstance(X, np.ndarray) else np.asarray(X))\n"
     ]
    },
    {
     "data": {
      "image/png": "[encoded data removed]",
      "text/plain": [
       "<Figure size 432x288 with 2 Axes>"
      ]
     },
     "metadata": {
      "needs_background": "light"
     },
     "output_type": "display_data"
    },
    {
     "name": "stderr",
     "output_type": "stream",
     "text": [
      "/Users/fangzhou/anaconda3/lib/python3.7/site-packages/matplotlib/cbook/__init__.py:1420: VisibleDeprecationWarning: Creating an ndarray from ragged nested sequences (which is a list-or-tuple of lists-or-tuples-or ndarrays with different lengths or shapes) is deprecated. If you meant to do this, you must specify 'dtype=object' when creating the ndarray.\n",
      "  X = np.atleast_1d(X.T if isinstance(X, np.ndarray) else np.asarray(X))\n"
     ]
    },
    {
     "data": {
      "image/png": "[encoded data removed]",
      "text/plain": [
       "<Figure size 432x288 with 2 Axes>"
      ]
     },
     "metadata": {
      "needs_background": "light"
     },
     "output_type": "display_data"
    }
   ],
   "source": [
    "# Visualize Numerical Variables Distribution by Target\n",
    "\n",
    "for col in num_feature_cols: \n",
    "    not_sold = train_df.loc[train_df['Sale_CL'] == 0, col]\n",
    "    sold = train_df.loc[train_df['Sale_CL'] == 1, col]\n",
    "    figure, (ax1, ax2) = plt.subplots(1, 2)\n",
    "    ax1.hist(not_sold, bins=30, color='skyblue', edgecolor='black', label='0')\n",
    "    ax1.hist(sold, bins=30, color='orange', edgecolor='black', label='1')\n",
    "    ax1.set_title(f'Histogram of {col} by Sale_CL')\n",
    "    ax1.set_xlabel(col)\n",
    "    ax1.set_ylabel('count')\n",
    "    ax1.legend(title='Sale_CL')\n",
    "    sales = train_df['Sale_CL'].unique()\n",
    "    grouped_data = [train_df[train_df['Sale_CL'] == sale][col] for sale in sales]\n",
    "    ax2.boxplot(grouped_data, labels=sales, patch_artist=True)\n",
    "    ax2.set_xlabel('sale')\n",
    "    ax2.set_ylabel(col)\n",
    "    ax2.set_title(f'Boxplot of {col} by Sale_CL')\n",
    "    plt.show()\n"
   ]
  },
  {
   "cell_type": "markdown",
   "metadata": {},
   "source": [
    "The stacked bar plots, showing the percentage distribution of sales status of product by categorical feature, are used to detect the patterns and relationship between sales status of product and each categorical feature.\n",
    "\n",
    "For example, the stacked bar plot of Sale_CL by Sex show that the clients with Sex equal to female are more likely to purchase a consumer loan."
   ]
  },
  {
   "cell_type": "code",
   "execution_count": 26,
   "metadata": {},
   "outputs": [
    {
     "data": {
      "image/png": "[encoded data removed]",
      "text/plain": [
       "<Figure size 720x432 with 1 Axes>"
      ]
     },
     "metadata": {
      "needs_background": "light"
     },
     "output_type": "display_data"
    }
   ],
   "source": [
    "# Visualize Event Distribution by Categorical Variable\n",
    "\n",
    "for col in cat_feature_cols:\n",
    "    grouped = train_df.groupby([col, 'Sale_CL']).size().unstack(fill_value=0)\n",
    "    grouped_percentage = grouped.div(grouped.sum(axis=1), axis=0) * 100\n",
    "    #grouped.plot(kind='bar', stacked=True, figsize=(10, 6))\n",
    "    ax = grouped_percentage.plot(kind='bar', stacked=True, figsize=(10, 6))\n",
    "    # .patches is everything inside of the chart\n",
    "    for rect in ax.patches:\n",
    "        # Find where everything is located\n",
    "        height = rect.get_height()\n",
    "        width = rect.get_width()\n",
    "        x = rect.get_x()\n",
    "        y = rect.get_y()\n",
    "        # The height of the bar is the data value and can be used as the label\n",
    "        label_text = f'{round(height, 2)}'  # f'{height:.2f}' to format decimal values\n",
    "        # ax.text(x, y, text)\n",
    "        label_x = x + width / 2\n",
    "        label_y = y + height / 2\n",
    "        # plot only when height is greater than specified value\n",
    "        if height > 0:\n",
    "            ax.text(label_x, label_y, label_text, ha='center', va='center', fontsize=8)\n",
    "    plt.title(f'Stacked Bar Plot: Percentage Distribution of Sale_CL by {col}')\n",
    "    plt.xlabel(col)\n",
    "    plt.ylabel('percentage (%)')\n",
    "    plt.legend(title='Sale_CL', loc='upper right')\n",
    "    plt.show()"
   ]
  },
  {
   "cell_type": "markdown",
   "metadata": {},
   "source": [
    "## 3. Data Preprocessing for Modeling"
   ]
  },
  {
   "cell_type": "markdown",
   "metadata": {},
   "source": [
    "By conducting the exploratory data analysis, we get a rough idea about which factors are more likely to contribute to the product purchase by clients.\n",
    "\n",
    "To be more quatitative and scientific, machine learning model will be used to further detect the patterns.\n",
    "\n",
    "Before building the model, we need to preprocess the data, including but not limited to feature scaling and categorical variable encoding."
   ]
  },
  {
   "cell_type": "code",
   "execution_count": 27,
   "metadata": {},
   "outputs": [
    {
     "name": "stdout",
     "output_type": "stream",
     "text": [
      "['Sex', 'Age', 'Tenure', 'Count_CA', 'Count_SA', 'Count_MF', 'Count_OVD', 'Count_CC', 'Count_CL', 'ActBal_CA', 'ActBal_SA', 'ActBal_MF', 'ActBal_OVD', 'ActBal_CC', 'ActBal_CL', 'VolumeCred', 'VolumeCred_CA', 'TransactionsCred', 'TransactionsCred_CA', 'VolumeDeb', 'VolumeDeb_CA', 'VolumeDebCash_Card', 'VolumeDebCashless_Card', 'VolumeDeb_PaymentOrder', 'TransactionsDeb', 'TransactionsDeb_CA', 'TransactionsDebCash_Card', 'TransactionsDebCashless_Card', 'TransactionsDeb_PaymentOrder']\n",
      "['Sex']\n",
      "['TransactionsDeb_CA', 'VolumeCred', 'TransactionsDebCashless_Card', 'ActBal_SA', 'ActBal_OVD', 'ActBal_CL', 'Count_SA', 'Tenure', 'Count_CC', 'ActBal_MF', 'VolumeDeb_CA', 'VolumeDebCashless_Card', 'VolumeDeb_PaymentOrder', 'TransactionsDebCash_Card', 'Count_OVD', 'Count_CA', 'TransactionsCred', 'TransactionsCred_CA', 'VolumeDebCash_Card', 'ActBal_CC', 'Count_MF', 'VolumeDeb', 'ActBal_CA', 'Age', 'TransactionsDeb_PaymentOrder', 'VolumeCred_CA', 'TransactionsDeb', 'Count_CL']\n"
     ]
    }
   ],
   "source": [
    "# Define target variables\n",
    "target_cols = ['Sale_CL', 'Sale_CC', 'Sale_MF']\n",
    "\n",
    "# Define features\n",
    "feature_cols = train_df.drop(columns = target_cols + ['Client', 'Revenue_CL', 'Revenue_CC', 'Revenue_MF']).columns.tolist()\n",
    "cat_feature_cols = ['Sex']\n",
    "num_feature_cols = list(set(feature_cols)-set(cat_feature_cols))\n",
    "print(feature_cols)\n",
    "print(cat_feature_cols)\n",
    "print(num_feature_cols)"
   ]
  },
  {
   "cell_type": "code",
   "execution_count": 28,
   "metadata": {},
   "outputs": [
    {
     "name": "stderr",
     "output_type": "stream",
     "text": [
      "/Users/fangzhou/anaconda3/lib/python3.7/site-packages/pandas/core/frame.py:3678: SettingWithCopyWarning: \n",
      "A value is trying to be set on a copy of a slice from a DataFrame.\n",
      "Try using .loc[row_indexer,col_indexer] = value instead\n",
      "\n",
      "See the caveats in the documentation: https://pandas.pydata.org/pandas-docs/stable/user_guide/indexing.html#returning-a-view-versus-a-copy\n",
      "  self[col] = igetitem(value, i)\n"
     ]
    }
   ],
   "source": [
    "# Scaling numeric features\n",
    "scaler = StandardScaler()\n",
    "train_df[num_feature_cols] = scaler.fit_transform(\n",
    "train_df[num_feature_cols]\n",
    ")"
   ]
  },
  {
   "cell_type": "code",
   "execution_count": 29,
   "metadata": {},
   "outputs": [],
   "source": [
    "# Encode categorical features\n",
    "train_df = pd.get_dummies(train_df, columns=cat_feature_cols, drop_first=True)"
   ]
  },
  {
   "cell_type": "code",
   "execution_count": 30,
   "metadata": {},
   "outputs": [
    {
     "data": {
      "text/plain": [
       "Index(['Client', 'Age', 'Tenure', 'Count_CA', 'Count_SA', 'Count_MF',\n",
       "       'Count_OVD', 'Count_CC', 'Count_CL', 'ActBal_CA', 'ActBal_SA',\n",
       "       'ActBal_MF', 'ActBal_OVD', 'ActBal_CC', 'ActBal_CL', 'VolumeCred',\n",
       "       'VolumeCred_CA', 'TransactionsCred', 'TransactionsCred_CA', 'VolumeDeb',\n",
       "       'VolumeDeb_CA', 'VolumeDebCash_Card', 'VolumeDebCashless_Card',\n",
       "       'VolumeDeb_PaymentOrder', 'TransactionsDeb', 'TransactionsDeb_CA',\n",
       "       'TransactionsDebCash_Card', 'TransactionsDebCashless_Card',\n",
       "       'TransactionsDeb_PaymentOrder', 'Sale_MF', 'Sale_CC', 'Sale_CL',\n",
       "       'Revenue_MF', 'Revenue_CC', 'Revenue_CL', 'Sex_M'],\n",
       "      dtype='object')"
      ]
     },
     "execution_count": 30,
     "metadata": {},
     "output_type": "execute_result"
    }
   ],
   "source": [
    "train_df.columns"
   ]
  },
  {
   "cell_type": "markdown",
   "metadata": {},
   "source": [
    "## 4. Model Development and Evaluation"
   ]
  },
  {
   "cell_type": "markdown",
   "metadata": {},
   "source": [
    "Once the processed model development data is ready, we build three machine learning models for binary classification using algorithm like random forest to estimate the likelihood of purchase for:\n",
    "- Consumer Loan\n",
    "- Credit Card\n",
    "- Mutual Fund\n",
    "\n",
    "The model performance evaluation results are as shown in the below table.\n",
    "\n",
    "<div>\n",
    "<style scoped>\n",
    "    .dataframe tbody tr th:only-of-type {\n",
    "        vertical-align: middle;\n",
    "    }\n",
    "\n",
    "    .dataframe tbody tr th {\n",
    "        vertical-align: top;\n",
    "    }\n",
    "\n",
    "    .dataframe thead th {\n",
    "        text-align: right;\n",
    "    }\n",
    "</style>\n",
    "<table border=\"1\" class=\"dataframe\">\n",
    "  <thead>\n",
    "    <tr style=\"text-align: right;\">\n",
    "      <th></th>\n",
    "      <th>Model</th>\n",
    "      <th>AUC</th>\n",
    "      <th>Accuracy</th>\n",
    "      <th>Precision</th>\n",
    "      <th>Recall</th>\n",
    "      <th>F1-Score</th>\n",
    "    </tr>\n",
    "  </thead>\n",
    "  <tbody>\n",
    "    <tr>\n",
    "      <th>0</th>\n",
    "      <td>rf_cl</td>\n",
    "      <td>0.553237</td>\n",
    "      <td>0.706186</td>\n",
    "      <td>0.599755</td>\n",
    "      <td>0.553237</td>\n",
    "      <td>0.547007</td>\n",
    "    </tr>\n",
    "    <tr>\n",
    "      <th>1</th>\n",
    "      <td>rf_cc</td>\n",
    "      <td>0.474526</td>\n",
    "      <td>0.675258</td>\n",
    "      <td>0.456863</td>\n",
    "      <td>0.474526</td>\n",
    "      <td>0.456969</td>\n",
    "    </tr>\n",
    "    <tr>\n",
    "      <th>2</th>\n",
    "      <td>rf_mf</td>\n",
    "      <td>0.506111</td>\n",
    "      <td>0.731959</td>\n",
    "      <td>0.539007</td>\n",
    "      <td>0.506111</td>\n",
    "      <td>0.457401</td>\n",
    "    </tr>\n",
    "  </tbody>\n",
    "</table>\n",
    "</div>\n",
    "\n",
    "The feature importances are also calculated from the three models. The visualization graphs show top important factors contributing to the purchase of each product.\n",
    "\n"
   ]
  },
  {
   "cell_type": "code",
   "execution_count": 31,
   "metadata": {},
   "outputs": [
    {
     "data": {
      "text/html": [
       "<div>\n",
       "<style scoped>\n",
       "    .dataframe tbody tr th:only-of-type {\n",
       "        vertical-align: middle;\n",
       "    }\n",
       "\n",
       "    .dataframe tbody tr th {\n",
       "        vertical-align: top;\n",
       "    }\n",
       "\n",
       "    .dataframe thead th {\n",
       "        text-align: right;\n",
       "    }\n",
       "</style>\n",
       "<table border=\"1\" class=\"dataframe\">\n",
       "  <thead>\n",
       "    <tr style=\"text-align: right;\">\n",
       "      <th></th>\n",
       "      <th>Age</th>\n",
       "      <th>Tenure</th>\n",
       "      <th>Count_CA</th>\n",
       "      <th>Count_SA</th>\n",
       "      <th>Count_MF</th>\n",
       "      <th>Count_OVD</th>\n",
       "      <th>Count_CC</th>\n",
       "      <th>Count_CL</th>\n",
       "      <th>ActBal_CA</th>\n",
       "      <th>ActBal_SA</th>\n",
       "      <th>...</th>\n",
       "      <th>VolumeDeb_CA</th>\n",
       "      <th>VolumeDebCash_Card</th>\n",
       "      <th>VolumeDebCashless_Card</th>\n",
       "      <th>VolumeDeb_PaymentOrder</th>\n",
       "      <th>TransactionsDeb</th>\n",
       "      <th>TransactionsDeb_CA</th>\n",
       "      <th>TransactionsDebCash_Card</th>\n",
       "      <th>TransactionsDebCashless_Card</th>\n",
       "      <th>TransactionsDeb_PaymentOrder</th>\n",
       "      <th>Sex_M</th>\n",
       "    </tr>\n",
       "  </thead>\n",
       "  <tbody>\n",
       "    <tr>\n",
       "      <th>1</th>\n",
       "      <td>-0.268372</td>\n",
       "      <td>0.987822</td>\n",
       "      <td>-0.23277</td>\n",
       "      <td>-0.558701</td>\n",
       "      <td>-0.216405</td>\n",
       "      <td>-0.591255</td>\n",
       "      <td>-0.357849</td>\n",
       "      <td>-0.285555</td>\n",
       "      <td>0.679866</td>\n",
       "      <td>-0.216816</td>\n",
       "      <td>...</td>\n",
       "      <td>-0.175860</td>\n",
       "      <td>-0.307071</td>\n",
       "      <td>-0.468059</td>\n",
       "      <td>0.002705</td>\n",
       "      <td>-0.920847</td>\n",
       "      <td>-0.965795</td>\n",
       "      <td>-0.734711</td>\n",
       "      <td>-0.631917</td>\n",
       "      <td>-0.678557</td>\n",
       "      <td>1</td>\n",
       "    </tr>\n",
       "    <tr>\n",
       "      <th>2</th>\n",
       "      <td>0.324002</td>\n",
       "      <td>-0.862237</td>\n",
       "      <td>-0.23277</td>\n",
       "      <td>-0.558701</td>\n",
       "      <td>-0.216405</td>\n",
       "      <td>-0.591255</td>\n",
       "      <td>-0.357849</td>\n",
       "      <td>-0.285555</td>\n",
       "      <td>-0.390995</td>\n",
       "      <td>-0.216816</td>\n",
       "      <td>...</td>\n",
       "      <td>-0.057686</td>\n",
       "      <td>-0.307071</td>\n",
       "      <td>-0.468059</td>\n",
       "      <td>-0.190312</td>\n",
       "      <td>-0.615160</td>\n",
       "      <td>-0.581460</td>\n",
       "      <td>-0.734711</td>\n",
       "      <td>-0.631917</td>\n",
       "      <td>-0.678557</td>\n",
       "      <td>0</td>\n",
       "    </tr>\n",
       "    <tr>\n",
       "      <th>3</th>\n",
       "      <td>0.593263</td>\n",
       "      <td>-1.015135</td>\n",
       "      <td>-0.23277</td>\n",
       "      <td>1.170951</td>\n",
       "      <td>-0.216405</td>\n",
       "      <td>-0.591255</td>\n",
       "      <td>2.794475</td>\n",
       "      <td>2.858793</td>\n",
       "      <td>-0.393309</td>\n",
       "      <td>0.577095</td>\n",
       "      <td>...</td>\n",
       "      <td>0.535014</td>\n",
       "      <td>0.105430</td>\n",
       "      <td>0.876240</td>\n",
       "      <td>0.446670</td>\n",
       "      <td>1.952613</td>\n",
       "      <td>1.878283</td>\n",
       "      <td>-0.363912</td>\n",
       "      <td>2.490978</td>\n",
       "      <td>1.236184</td>\n",
       "      <td>1</td>\n",
       "    </tr>\n",
       "    <tr>\n",
       "      <th>4</th>\n",
       "      <td>-0.753041</td>\n",
       "      <td>0.085727</td>\n",
       "      <td>-0.23277</td>\n",
       "      <td>-0.558701</td>\n",
       "      <td>-0.216405</td>\n",
       "      <td>-0.591255</td>\n",
       "      <td>-0.357849</td>\n",
       "      <td>-0.285555</td>\n",
       "      <td>-0.393627</td>\n",
       "      <td>-0.216816</td>\n",
       "      <td>...</td>\n",
       "      <td>-0.340703</td>\n",
       "      <td>-0.307071</td>\n",
       "      <td>-0.468059</td>\n",
       "      <td>-0.230042</td>\n",
       "      <td>-0.981985</td>\n",
       "      <td>-1.042662</td>\n",
       "      <td>-0.734711</td>\n",
       "      <td>-0.631917</td>\n",
       "      <td>-0.870032</td>\n",
       "      <td>1</td>\n",
       "    </tr>\n",
       "    <tr>\n",
       "      <th>5</th>\n",
       "      <td>-1.560823</td>\n",
       "      <td>1.324196</td>\n",
       "      <td>-0.23277</td>\n",
       "      <td>-0.558701</td>\n",
       "      <td>-0.216405</td>\n",
       "      <td>1.691318</td>\n",
       "      <td>-0.357849</td>\n",
       "      <td>-0.285555</td>\n",
       "      <td>-0.342763</td>\n",
       "      <td>-0.216816</td>\n",
       "      <td>...</td>\n",
       "      <td>-0.310581</td>\n",
       "      <td>-0.307071</td>\n",
       "      <td>-0.131723</td>\n",
       "      <td>-0.223758</td>\n",
       "      <td>-0.676298</td>\n",
       "      <td>-0.658327</td>\n",
       "      <td>-0.734711</td>\n",
       "      <td>-0.151472</td>\n",
       "      <td>-0.678557</td>\n",
       "      <td>1</td>\n",
       "    </tr>\n",
       "    <tr>\n",
       "      <th>...</th>\n",
       "      <td>...</td>\n",
       "      <td>...</td>\n",
       "      <td>...</td>\n",
       "      <td>...</td>\n",
       "      <td>...</td>\n",
       "      <td>...</td>\n",
       "      <td>...</td>\n",
       "      <td>...</td>\n",
       "      <td>...</td>\n",
       "      <td>...</td>\n",
       "      <td>...</td>\n",
       "      <td>...</td>\n",
       "      <td>...</td>\n",
       "      <td>...</td>\n",
       "      <td>...</td>\n",
       "      <td>...</td>\n",
       "      <td>...</td>\n",
       "      <td>...</td>\n",
       "      <td>...</td>\n",
       "      <td>...</td>\n",
       "      <td>...</td>\n",
       "    </tr>\n",
       "    <tr>\n",
       "      <th>1607</th>\n",
       "      <td>-0.322224</td>\n",
       "      <td>0.789055</td>\n",
       "      <td>-0.23277</td>\n",
       "      <td>1.170951</td>\n",
       "      <td>-0.216405</td>\n",
       "      <td>-0.591255</td>\n",
       "      <td>-0.357849</td>\n",
       "      <td>-0.285555</td>\n",
       "      <td>-0.198461</td>\n",
       "      <td>-0.216816</td>\n",
       "      <td>...</td>\n",
       "      <td>-0.340703</td>\n",
       "      <td>-0.307071</td>\n",
       "      <td>-0.468059</td>\n",
       "      <td>-0.230042</td>\n",
       "      <td>-0.920847</td>\n",
       "      <td>-1.042662</td>\n",
       "      <td>-0.734711</td>\n",
       "      <td>-0.631917</td>\n",
       "      <td>-0.870032</td>\n",
       "      <td>0</td>\n",
       "    </tr>\n",
       "    <tr>\n",
       "      <th>1609</th>\n",
       "      <td>-0.806893</td>\n",
       "      <td>0.682027</td>\n",
       "      <td>-0.23277</td>\n",
       "      <td>-0.558701</td>\n",
       "      <td>-0.216405</td>\n",
       "      <td>-0.591255</td>\n",
       "      <td>-0.357849</td>\n",
       "      <td>6.003141</td>\n",
       "      <td>1.823348</td>\n",
       "      <td>-0.216816</td>\n",
       "      <td>...</td>\n",
       "      <td>-0.304907</td>\n",
       "      <td>-0.265821</td>\n",
       "      <td>-0.468059</td>\n",
       "      <td>-0.230042</td>\n",
       "      <td>-0.615160</td>\n",
       "      <td>-0.735194</td>\n",
       "      <td>-0.363912</td>\n",
       "      <td>-0.631917</td>\n",
       "      <td>-0.870032</td>\n",
       "      <td>1</td>\n",
       "    </tr>\n",
       "    <tr>\n",
       "      <th>1611</th>\n",
       "      <td>-1.076154</td>\n",
       "      <td>0.911373</td>\n",
       "      <td>-0.23277</td>\n",
       "      <td>-0.558701</td>\n",
       "      <td>-0.216405</td>\n",
       "      <td>-0.591255</td>\n",
       "      <td>-0.357849</td>\n",
       "      <td>-0.285555</td>\n",
       "      <td>-0.011836</td>\n",
       "      <td>-0.216816</td>\n",
       "      <td>...</td>\n",
       "      <td>-0.320292</td>\n",
       "      <td>-0.249321</td>\n",
       "      <td>-0.355058</td>\n",
       "      <td>-0.229693</td>\n",
       "      <td>-0.492885</td>\n",
       "      <td>-0.427726</td>\n",
       "      <td>0.006888</td>\n",
       "      <td>-0.031360</td>\n",
       "      <td>-0.678557</td>\n",
       "      <td>1</td>\n",
       "    </tr>\n",
       "    <tr>\n",
       "      <th>1612</th>\n",
       "      <td>0.162446</td>\n",
       "      <td>-0.632891</td>\n",
       "      <td>-0.23277</td>\n",
       "      <td>-0.558701</td>\n",
       "      <td>-0.216405</td>\n",
       "      <td>-0.591255</td>\n",
       "      <td>-0.357849</td>\n",
       "      <td>-0.285555</td>\n",
       "      <td>0.023350</td>\n",
       "      <td>-0.216816</td>\n",
       "      <td>...</td>\n",
       "      <td>-0.323140</td>\n",
       "      <td>-0.220446</td>\n",
       "      <td>-0.464830</td>\n",
       "      <td>-0.230030</td>\n",
       "      <td>-0.737435</td>\n",
       "      <td>-0.735194</td>\n",
       "      <td>0.006888</td>\n",
       "      <td>-0.511806</td>\n",
       "      <td>-0.678557</td>\n",
       "      <td>1</td>\n",
       "    </tr>\n",
       "    <tr>\n",
       "      <th>1613</th>\n",
       "      <td>0.970228</td>\n",
       "      <td>1.110139</td>\n",
       "      <td>-0.23277</td>\n",
       "      <td>-0.558701</td>\n",
       "      <td>0.223671</td>\n",
       "      <td>-0.591255</td>\n",
       "      <td>-0.357849</td>\n",
       "      <td>-0.285555</td>\n",
       "      <td>-0.388083</td>\n",
       "      <td>-0.216816</td>\n",
       "      <td>...</td>\n",
       "      <td>-0.152048</td>\n",
       "      <td>0.456056</td>\n",
       "      <td>-0.343016</td>\n",
       "      <td>-0.192512</td>\n",
       "      <td>0.057352</td>\n",
       "      <td>0.264076</td>\n",
       "      <td>0.377688</td>\n",
       "      <td>-0.031360</td>\n",
       "      <td>0.661762</td>\n",
       "      <td>0</td>\n",
       "    </tr>\n",
       "  </tbody>\n",
       "</table>\n",
       "<p>969 rows × 29 columns</p>\n",
       "</div>"
      ],
      "text/plain": [
       "           Age    Tenure  Count_CA  Count_SA  Count_MF  Count_OVD  Count_CC  \\\n",
       "1    -0.268372  0.987822  -0.23277 -0.558701 -0.216405  -0.591255 -0.357849   \n",
       "2     0.324002 -0.862237  -0.23277 -0.558701 -0.216405  -0.591255 -0.357849   \n",
       "3     0.593263 -1.015135  -0.23277  1.170951 -0.216405  -0.591255  2.794475   \n",
       "4    -0.753041  0.085727  -0.23277 -0.558701 -0.216405  -0.591255 -0.357849   \n",
       "5    -1.560823  1.324196  -0.23277 -0.558701 -0.216405   1.691318 -0.357849   \n",
       "...        ...       ...       ...       ...       ...        ...       ...   \n",
       "1607 -0.322224  0.789055  -0.23277  1.170951 -0.216405  -0.591255 -0.357849   \n",
       "1609 -0.806893  0.682027  -0.23277 -0.558701 -0.216405  -0.591255 -0.357849   \n",
       "1611 -1.076154  0.911373  -0.23277 -0.558701 -0.216405  -0.591255 -0.357849   \n",
       "1612  0.162446 -0.632891  -0.23277 -0.558701 -0.216405  -0.591255 -0.357849   \n",
       "1613  0.970228  1.110139  -0.23277 -0.558701  0.223671  -0.591255 -0.357849   \n",
       "\n",
       "      Count_CL  ActBal_CA  ActBal_SA  ...  VolumeDeb_CA  VolumeDebCash_Card  \\\n",
       "1    -0.285555   0.679866  -0.216816  ...     -0.175860           -0.307071   \n",
       "2    -0.285555  -0.390995  -0.216816  ...     -0.057686           -0.307071   \n",
       "3     2.858793  -0.393309   0.577095  ...      0.535014            0.105430   \n",
       "4    -0.285555  -0.393627  -0.216816  ...     -0.340703           -0.307071   \n",
       "5    -0.285555  -0.342763  -0.216816  ...     -0.310581           -0.307071   \n",
       "...        ...        ...        ...  ...           ...                 ...   \n",
       "1607 -0.285555  -0.198461  -0.216816  ...     -0.340703           -0.307071   \n",
       "1609  6.003141   1.823348  -0.216816  ...     -0.304907           -0.265821   \n",
       "1611 -0.285555  -0.011836  -0.216816  ...     -0.320292           -0.249321   \n",
       "1612 -0.285555   0.023350  -0.216816  ...     -0.323140           -0.220446   \n",
       "1613 -0.285555  -0.388083  -0.216816  ...     -0.152048            0.456056   \n",
       "\n",
       "      VolumeDebCashless_Card  VolumeDeb_PaymentOrder  TransactionsDeb  \\\n",
       "1                  -0.468059                0.002705        -0.920847   \n",
       "2                  -0.468059               -0.190312        -0.615160   \n",
       "3                   0.876240                0.446670         1.952613   \n",
       "4                  -0.468059               -0.230042        -0.981985   \n",
       "5                  -0.131723               -0.223758        -0.676298   \n",
       "...                      ...                     ...              ...   \n",
       "1607               -0.468059               -0.230042        -0.920847   \n",
       "1609               -0.468059               -0.230042        -0.615160   \n",
       "1611               -0.355058               -0.229693        -0.492885   \n",
       "1612               -0.464830               -0.230030        -0.737435   \n",
       "1613               -0.343016               -0.192512         0.057352   \n",
       "\n",
       "      TransactionsDeb_CA  TransactionsDebCash_Card  \\\n",
       "1              -0.965795                 -0.734711   \n",
       "2              -0.581460                 -0.734711   \n",
       "3               1.878283                 -0.363912   \n",
       "4              -1.042662                 -0.734711   \n",
       "5              -0.658327                 -0.734711   \n",
       "...                  ...                       ...   \n",
       "1607           -1.042662                 -0.734711   \n",
       "1609           -0.735194                 -0.363912   \n",
       "1611           -0.427726                  0.006888   \n",
       "1612           -0.735194                  0.006888   \n",
       "1613            0.264076                  0.377688   \n",
       "\n",
       "      TransactionsDebCashless_Card  TransactionsDeb_PaymentOrder  Sex_M  \n",
       "1                        -0.631917                     -0.678557      1  \n",
       "2                        -0.631917                     -0.678557      0  \n",
       "3                         2.490978                      1.236184      1  \n",
       "4                        -0.631917                     -0.870032      1  \n",
       "5                        -0.151472                     -0.678557      1  \n",
       "...                            ...                           ...    ...  \n",
       "1607                     -0.631917                     -0.870032      0  \n",
       "1609                     -0.631917                     -0.870032      1  \n",
       "1611                     -0.031360                     -0.678557      1  \n",
       "1612                     -0.511806                     -0.678557      1  \n",
       "1613                     -0.031360                      0.661762      0  \n",
       "\n",
       "[969 rows x 29 columns]"
      ]
     },
     "execution_count": 31,
     "metadata": {},
     "output_type": "execute_result"
    }
   ],
   "source": [
    "# Re-define features\n",
    "features =  train_df.drop(columns = target_cols + ['Client', 'Revenue_CL', 'Revenue_CC', 'Revenue_MF'])\n",
    "features"
   ]
  },
  {
   "cell_type": "code",
   "execution_count": 32,
   "metadata": {},
   "outputs": [
    {
     "data": {
      "text/plain": [
       "((775, 29), (194, 29), (775, 29), (194, 29), (775, 29), (194, 29))"
      ]
     },
     "execution_count": 32,
     "metadata": {},
     "output_type": "execute_result"
    }
   ],
   "source": [
    "# Prepare input (X) and target (y) datasets for each product type\n",
    "X = features\n",
    "y_cl = train_df['Sale_CL']\n",
    "y_cc = train_df['Sale_CC']\n",
    "y_mf = train_df['Sale_MF']\n",
    "\n",
    "# Split model development data further into a training set and a validation set for each target (CL, CC, MF)\n",
    "X_train_cl, X_val_cl, y_train_cl, y_val_cl = train_test_split(X, y_cl, test_size=0.2, random_state=42)\n",
    "X_train_cc, X_val_cc, y_train_cc, y_val_cc = train_test_split(X, y_cc, test_size=0.2, random_state=42)\n",
    "X_train_mf, X_val_mf, y_train_mf, y_val_mf = train_test_split(X, y_mf, test_size=0.2, random_state=42)\n",
    "\n",
    "# Verify the shapes of the prepared datasets\n",
    "X_train_cl.shape, X_val_cl.shape, X_train_cc.shape, X_val_cc.shape, X_train_mf.shape, X_val_mf.shape\n"
   ]
  },
  {
   "cell_type": "code",
   "execution_count": 39,
   "metadata": {},
   "outputs": [],
   "source": [
    "# Define result list\n",
    "result_list = []"
   ]
  },
  {
   "cell_type": "code",
   "execution_count": 40,
   "metadata": {},
   "outputs": [
    {
     "name": "stderr",
     "output_type": "stream",
     "text": [
      "/Users/fangzhou/anaconda3/lib/python3.7/site-packages/sklearn/ensemble/forest.py:245: FutureWarning: The default value of n_estimators will change from 10 in version 0.20 to 100 in 0.22.\n",
      "  \"10 in version 0.20 to 100 in 0.22.\", FutureWarning)\n",
      "/Users/fangzhou/anaconda3/lib/python3.7/site-packages/sklearn/ensemble/forest.py:489: DeprecationWarning: `np.int` is a deprecated alias for the builtin `int`. To silence this warning, use `int` by itself. Doing this will not modify any behavior and is safe. When replacing `np.int`, you may wish to use e.g. `np.int64` or `np.int32` to specify the precision. If you wish to review your current use, check the release note link for additional information.\n",
      "Deprecated in NumPy 1.20; for more details and guidance: https://numpy.org/devdocs/release/1.20.0-notes.html#deprecations\n",
      "  y_store_unique_indices = np.zeros(y.shape, dtype=np.int)\n",
      "/Users/fangzhou/anaconda3/lib/python3.7/site-packages/sklearn/tree/tree.py:163: DeprecationWarning: `np.int` is a deprecated alias for the builtin `int`. To silence this warning, use `int` by itself. Doing this will not modify any behavior and is safe. When replacing `np.int`, you may wish to use e.g. `np.int64` or `np.int32` to specify the precision. If you wish to review your current use, check the release note link for additional information.\n",
      "Deprecated in NumPy 1.20; for more details and guidance: https://numpy.org/devdocs/release/1.20.0-notes.html#deprecations\n",
      "  y_encoded = np.zeros(y.shape, dtype=np.int)\n",
      "/Users/fangzhou/anaconda3/lib/python3.7/site-packages/sklearn/tree/tree.py:163: DeprecationWarning: `np.int` is a deprecated alias for the builtin `int`. To silence this warning, use `int` by itself. Doing this will not modify any behavior and is safe. When replacing `np.int`, you may wish to use e.g. `np.int64` or `np.int32` to specify the precision. If you wish to review your current use, check the release note link for additional information.\n",
      "Deprecated in NumPy 1.20; for more details and guidance: https://numpy.org/devdocs/release/1.20.0-notes.html#deprecations\n",
      "  y_encoded = np.zeros(y.shape, dtype=np.int)\n",
      "/Users/fangzhou/anaconda3/lib/python3.7/site-packages/sklearn/tree/tree.py:163: DeprecationWarning: `np.int` is a deprecated alias for the builtin `int`. To silence this warning, use `int` by itself. Doing this will not modify any behavior and is safe. When replacing `np.int`, you may wish to use e.g. `np.int64` or `np.int32` to specify the precision. If you wish to review your current use, check the release note link for additional information.\n",
      "Deprecated in NumPy 1.20; for more details and guidance: https://numpy.org/devdocs/release/1.20.0-notes.html#deprecations\n",
      "  y_encoded = np.zeros(y.shape, dtype=np.int)\n",
      "/Users/fangzhou/anaconda3/lib/python3.7/site-packages/sklearn/tree/tree.py:163: DeprecationWarning: `np.int` is a deprecated alias for the builtin `int`. To silence this warning, use `int` by itself. Doing this will not modify any behavior and is safe. When replacing `np.int`, you may wish to use e.g. `np.int64` or `np.int32` to specify the precision. If you wish to review your current use, check the release note link for additional information.\n",
      "Deprecated in NumPy 1.20; for more details and guidance: https://numpy.org/devdocs/release/1.20.0-notes.html#deprecations\n",
      "  y_encoded = np.zeros(y.shape, dtype=np.int)\n",
      "/Users/fangzhou/anaconda3/lib/python3.7/site-packages/sklearn/tree/tree.py:163: DeprecationWarning: `np.int` is a deprecated alias for the builtin `int`. To silence this warning, use `int` by itself. Doing this will not modify any behavior and is safe. When replacing `np.int`, you may wish to use e.g. `np.int64` or `np.int32` to specify the precision. If you wish to review your current use, check the release note link for additional information.\n",
      "Deprecated in NumPy 1.20; for more details and guidance: https://numpy.org/devdocs/release/1.20.0-notes.html#deprecations\n",
      "  y_encoded = np.zeros(y.shape, dtype=np.int)\n",
      "/Users/fangzhou/anaconda3/lib/python3.7/site-packages/sklearn/tree/tree.py:163: DeprecationWarning: `np.int` is a deprecated alias for the builtin `int`. To silence this warning, use `int` by itself. Doing this will not modify any behavior and is safe. When replacing `np.int`, you may wish to use e.g. `np.int64` or `np.int32` to specify the precision. If you wish to review your current use, check the release note link for additional information.\n",
      "Deprecated in NumPy 1.20; for more details and guidance: https://numpy.org/devdocs/release/1.20.0-notes.html#deprecations\n",
      "  y_encoded = np.zeros(y.shape, dtype=np.int)\n",
      "/Users/fangzhou/anaconda3/lib/python3.7/site-packages/sklearn/tree/tree.py:163: DeprecationWarning: `np.int` is a deprecated alias for the builtin `int`. To silence this warning, use `int` by itself. Doing this will not modify any behavior and is safe. When replacing `np.int`, you may wish to use e.g. `np.int64` or `np.int32` to specify the precision. If you wish to review your current use, check the release note link for additional information.\n",
      "Deprecated in NumPy 1.20; for more details and guidance: https://numpy.org/devdocs/release/1.20.0-notes.html#deprecations\n",
      "  y_encoded = np.zeros(y.shape, dtype=np.int)\n",
      "/Users/fangzhou/anaconda3/lib/python3.7/site-packages/sklearn/tree/tree.py:163: DeprecationWarning: `np.int` is a deprecated alias for the builtin `int`. To silence this warning, use `int` by itself. Doing this will not modify any behavior and is safe. When replacing `np.int`, you may wish to use e.g. `np.int64` or `np.int32` to specify the precision. If you wish to review your current use, check the release note link for additional information.\n",
      "Deprecated in NumPy 1.20; for more details and guidance: https://numpy.org/devdocs/release/1.20.0-notes.html#deprecations\n",
      "  y_encoded = np.zeros(y.shape, dtype=np.int)\n",
      "/Users/fangzhou/anaconda3/lib/python3.7/site-packages/sklearn/tree/tree.py:163: DeprecationWarning: `np.int` is a deprecated alias for the builtin `int`. To silence this warning, use `int` by itself. Doing this will not modify any behavior and is safe. When replacing `np.int`, you may wish to use e.g. `np.int64` or `np.int32` to specify the precision. If you wish to review your current use, check the release note link for additional information.\n",
      "Deprecated in NumPy 1.20; for more details and guidance: https://numpy.org/devdocs/release/1.20.0-notes.html#deprecations\n",
      "  y_encoded = np.zeros(y.shape, dtype=np.int)\n",
      "/Users/fangzhou/anaconda3/lib/python3.7/site-packages/sklearn/tree/tree.py:163: DeprecationWarning: `np.int` is a deprecated alias for the builtin `int`. To silence this warning, use `int` by itself. Doing this will not modify any behavior and is safe. When replacing `np.int`, you may wish to use e.g. `np.int64` or `np.int32` to specify the precision. If you wish to review your current use, check the release note link for additional information.\n",
      "Deprecated in NumPy 1.20; for more details and guidance: https://numpy.org/devdocs/release/1.20.0-notes.html#deprecations\n",
      "  y_encoded = np.zeros(y.shape, dtype=np.int)\n",
      "/Users/fangzhou/anaconda3/lib/python3.7/site-packages/sklearn/ensemble/base.py:158: DeprecationWarning: `np.int` is a deprecated alias for the builtin `int`. To silence this warning, use `int` by itself. Doing this will not modify any behavior and is safe. When replacing `np.int`, you may wish to use e.g. `np.int64` or `np.int32` to specify the precision. If you wish to review your current use, check the release note link for additional information.\n",
      "Deprecated in NumPy 1.20; for more details and guidance: https://numpy.org/devdocs/release/1.20.0-notes.html#deprecations\n",
      "  dtype=np.int)\n",
      "/Users/fangzhou/anaconda3/lib/python3.7/site-packages/sklearn/ensemble/base.py:158: DeprecationWarning: `np.int` is a deprecated alias for the builtin `int`. To silence this warning, use `int` by itself. Doing this will not modify any behavior and is safe. When replacing `np.int`, you may wish to use e.g. `np.int64` or `np.int32` to specify the precision. If you wish to review your current use, check the release note link for additional information.\n",
      "Deprecated in NumPy 1.20; for more details and guidance: https://numpy.org/devdocs/release/1.20.0-notes.html#deprecations\n",
      "  dtype=np.int)\n"
     ]
    },
    {
     "name": "stdout",
     "output_type": "stream",
     "text": [
      "Model Name: rf_cl, ROC AUC Score: 0.5532, Accuracy: 0.7062, Precision: 0.5998, Recall: 0.5532, F1 Score: 0.5470\n",
      "Model Name: rf_cl, Classification Report: \n",
      "               precision    recall  f1-score   support\n",
      "\n",
      "         0.0       0.74      0.91      0.82       139\n",
      "         1.0       0.46      0.20      0.28        55\n",
      "\n",
      "    accuracy                           0.71       194\n",
      "   macro avg       0.60      0.55      0.55       194\n",
      "weighted avg       0.66      0.71      0.66       194\n",
      "\n"
     ]
    },
    {
     "data": {
      "image/png": "[encoded data removed]",
      "text/plain": [
       "<Figure size 720x288 with 2 Axes>"
      ]
     },
     "metadata": {
      "needs_background": "light"
     },
     "output_type": "display_data"
    },
    {
     "name": "stdout",
     "output_type": "stream",
     "text": [
      "                         Feature  Importance\n",
      "0                            Age    0.113886\n",
      "1                         Tenure    0.106436\n",
      "14                    VolumeCred    0.062894\n",
      "18                     VolumeDeb    0.062257\n",
      "22        VolumeDeb_PaymentOrder    0.059682\n",
      "8                      ActBal_CA    0.052880\n",
      "15                 VolumeCred_CA    0.052553\n",
      "19                  VolumeDeb_CA    0.046932\n",
      "23               TransactionsDeb    0.043025\n",
      "17           TransactionsCred_CA    0.039137\n",
      "24            TransactionsDeb_CA    0.037956\n",
      "20            VolumeDebCash_Card    0.036928\n",
      "27  TransactionsDeb_PaymentOrder    0.034925\n",
      "21        VolumeDebCashless_Card    0.030000\n",
      "9                      ActBal_SA    0.029594\n",
      "16              TransactionsCred    0.028488\n",
      "25      TransactionsDebCash_Card    0.027272\n",
      "26  TransactionsDebCashless_Card    0.023323\n",
      "2                       Count_CA    0.013515\n",
      "13                     ActBal_CL    0.013345\n",
      "4                       Count_MF    0.012375\n",
      "12                     ActBal_CC    0.012352\n",
      "3                       Count_SA    0.012284\n",
      "10                     ActBal_MF    0.011189\n",
      "5                      Count_OVD    0.009664\n",
      "28                         Sex_M    0.008891\n",
      "7                       Count_CL    0.006336\n",
      "11                    ActBal_OVD    0.006207\n",
      "6                       Count_CC    0.005675\n"
     ]
    },
    {
     "data": {
      "image/png": "[encoded data removed]",
      "text/plain": [
       "<Figure size 720x432 with 1 Axes>"
      ]
     },
     "metadata": {
      "needs_background": "light"
     },
     "output_type": "display_data"
    }
   ],
   "source": [
    "# Train Random Forest models for each target\n",
    "\n",
    "# Fit Consumer Loan model\n",
    "rf_cl = RandomForestClassifier(random_state=42)\n",
    "rf_cl.fit(X_train_cl, y_train_cl)\n",
    "\n",
    "# Evaluate Consumer Loan model\n",
    "y_val_pred_cl = rf_cl.predict(X_val_cl)\n",
    "y_val_prob_cl = rf_cl.predict_proba(X_val_cl)[:, 1]\n",
    "\n",
    "model_name = 'rf_cl'\n",
    "auc = roc_auc_score(y_val_cl, y_val_pred_cl)\n",
    "accuracy = accuracy_score(y_val_cl, y_val_pred_cl)\n",
    "precision = precision_score(y_val_cl, y_val_pred_cl, average='macro')\n",
    "recall = recall_score(y_val_cl, y_val_pred_cl, average='macro')\n",
    "f1 = f1_score(y_val_cl, y_val_pred_cl, average='macro')\n",
    "\n",
    "print(f\"Model Name: {model_name}, ROC AUC Score: {auc:.4f}, Accuracy: {accuracy:.4f}, Precision: {precision:.4f}, Recall: {recall:.4f}, F1 Score: {f1:.4f}\")\n",
    "print(f\"Model Name: {model_name}, Classification Report: \\n {classification_report(y_val_cl, y_val_pred_cl)}\")\n",
    "\n",
    "cm = confusion_matrix(y_val_cl, y_val_pred_cl)\n",
    "plt.figure(figsize=(10, 4))\n",
    "sns.heatmap(cm, annot=True, fmt='d', cmap='Blues')\n",
    "plt.xlabel('Predicted')\n",
    "plt.ylabel('Actual')\n",
    "plt.title('Confusion Matrix of Random Forest Model for Consumer Loan')\n",
    "plt.show()\n",
    "\n",
    "# Obtain feature importances\n",
    "feature_importances = rf_cl.feature_importances_\n",
    "\n",
    "# Create a DataFrame for better visualization\n",
    "importance_df = pd.DataFrame({\n",
    "    'Feature': X.columns,\n",
    "    'Importance': feature_importances\n",
    "}).sort_values(by='Importance', ascending=False)\n",
    "\n",
    "# Print feature importances\n",
    "print(importance_df)\n",
    "\n",
    "# Plot feature importances\n",
    "plt.figure(figsize=(10, 6))\n",
    "plt.barh(importance_df['Feature'], importance_df['Importance'], color='skyblue')\n",
    "plt.xlabel('Importance Score')\n",
    "plt.ylabel('Features')\n",
    "plt.title('Feature Importance from Random Forest Model for Consumer Loan')\n",
    "plt.gca().invert_yaxis()  # Invert axis to display highest importance at the top\n",
    "plt.show()\n",
    "\n",
    "# Save model evaluation result\n",
    "result_list.append([model_name, auc, accuracy, precision, recall, f1])\n"
   ]
  },
  {
   "cell_type": "code",
   "execution_count": 41,
   "metadata": {},
   "outputs": [
    {
     "name": "stdout",
     "output_type": "stream",
     "text": [
      "Model Name: rf_cc, ROC AUC Score: 0.4745, Accuracy: 0.6753, Precision: 0.4569, Recall: 0.4745, F1 Score: 0.4570\n",
      "Model Name: rf_cc, Classification Report: \n",
      "               precision    recall  f1-score   support\n",
      "\n",
      "         0.0       0.74      0.91      0.82       139\n",
      "         1.0       0.46      0.20      0.28        55\n",
      "\n",
      "    accuracy                           0.71       194\n",
      "   macro avg       0.60      0.55      0.55       194\n",
      "weighted avg       0.66      0.71      0.66       194\n",
      "\n"
     ]
    },
    {
     "name": "stderr",
     "output_type": "stream",
     "text": [
      "/Users/fangzhou/anaconda3/lib/python3.7/site-packages/sklearn/ensemble/forest.py:245: FutureWarning: The default value of n_estimators will change from 10 in version 0.20 to 100 in 0.22.\n",
      "  \"10 in version 0.20 to 100 in 0.22.\", FutureWarning)\n",
      "/Users/fangzhou/anaconda3/lib/python3.7/site-packages/sklearn/ensemble/forest.py:489: DeprecationWarning: `np.int` is a deprecated alias for the builtin `int`. To silence this warning, use `int` by itself. Doing this will not modify any behavior and is safe. When replacing `np.int`, you may wish to use e.g. `np.int64` or `np.int32` to specify the precision. If you wish to review your current use, check the release note link for additional information.\n",
      "Deprecated in NumPy 1.20; for more details and guidance: https://numpy.org/devdocs/release/1.20.0-notes.html#deprecations\n",
      "  y_store_unique_indices = np.zeros(y.shape, dtype=np.int)\n",
      "/Users/fangzhou/anaconda3/lib/python3.7/site-packages/sklearn/tree/tree.py:163: DeprecationWarning: `np.int` is a deprecated alias for the builtin `int`. To silence this warning, use `int` by itself. Doing this will not modify any behavior and is safe. When replacing `np.int`, you may wish to use e.g. `np.int64` or `np.int32` to specify the precision. If you wish to review your current use, check the release note link for additional information.\n",
      "Deprecated in NumPy 1.20; for more details and guidance: https://numpy.org/devdocs/release/1.20.0-notes.html#deprecations\n",
      "  y_encoded = np.zeros(y.shape, dtype=np.int)\n",
      "/Users/fangzhou/anaconda3/lib/python3.7/site-packages/sklearn/tree/tree.py:163: DeprecationWarning: `np.int` is a deprecated alias for the builtin `int`. To silence this warning, use `int` by itself. Doing this will not modify any behavior and is safe. When replacing `np.int`, you may wish to use e.g. `np.int64` or `np.int32` to specify the precision. If you wish to review your current use, check the release note link for additional information.\n",
      "Deprecated in NumPy 1.20; for more details and guidance: https://numpy.org/devdocs/release/1.20.0-notes.html#deprecations\n",
      "  y_encoded = np.zeros(y.shape, dtype=np.int)\n",
      "/Users/fangzhou/anaconda3/lib/python3.7/site-packages/sklearn/tree/tree.py:163: DeprecationWarning: `np.int` is a deprecated alias for the builtin `int`. To silence this warning, use `int` by itself. Doing this will not modify any behavior and is safe. When replacing `np.int`, you may wish to use e.g. `np.int64` or `np.int32` to specify the precision. If you wish to review your current use, check the release note link for additional information.\n",
      "Deprecated in NumPy 1.20; for more details and guidance: https://numpy.org/devdocs/release/1.20.0-notes.html#deprecations\n",
      "  y_encoded = np.zeros(y.shape, dtype=np.int)\n",
      "/Users/fangzhou/anaconda3/lib/python3.7/site-packages/sklearn/tree/tree.py:163: DeprecationWarning: `np.int` is a deprecated alias for the builtin `int`. To silence this warning, use `int` by itself. Doing this will not modify any behavior and is safe. When replacing `np.int`, you may wish to use e.g. `np.int64` or `np.int32` to specify the precision. If you wish to review your current use, check the release note link for additional information.\n",
      "Deprecated in NumPy 1.20; for more details and guidance: https://numpy.org/devdocs/release/1.20.0-notes.html#deprecations\n",
      "  y_encoded = np.zeros(y.shape, dtype=np.int)\n",
      "/Users/fangzhou/anaconda3/lib/python3.7/site-packages/sklearn/tree/tree.py:163: DeprecationWarning: `np.int` is a deprecated alias for the builtin `int`. To silence this warning, use `int` by itself. Doing this will not modify any behavior and is safe. When replacing `np.int`, you may wish to use e.g. `np.int64` or `np.int32` to specify the precision. If you wish to review your current use, check the release note link for additional information.\n",
      "Deprecated in NumPy 1.20; for more details and guidance: https://numpy.org/devdocs/release/1.20.0-notes.html#deprecations\n",
      "  y_encoded = np.zeros(y.shape, dtype=np.int)\n",
      "/Users/fangzhou/anaconda3/lib/python3.7/site-packages/sklearn/tree/tree.py:163: DeprecationWarning: `np.int` is a deprecated alias for the builtin `int`. To silence this warning, use `int` by itself. Doing this will not modify any behavior and is safe. When replacing `np.int`, you may wish to use e.g. `np.int64` or `np.int32` to specify the precision. If you wish to review your current use, check the release note link for additional information.\n",
      "Deprecated in NumPy 1.20; for more details and guidance: https://numpy.org/devdocs/release/1.20.0-notes.html#deprecations\n",
      "  y_encoded = np.zeros(y.shape, dtype=np.int)\n",
      "/Users/fangzhou/anaconda3/lib/python3.7/site-packages/sklearn/tree/tree.py:163: DeprecationWarning: `np.int` is a deprecated alias for the builtin `int`. To silence this warning, use `int` by itself. Doing this will not modify any behavior and is safe. When replacing `np.int`, you may wish to use e.g. `np.int64` or `np.int32` to specify the precision. If you wish to review your current use, check the release note link for additional information.\n",
      "Deprecated in NumPy 1.20; for more details and guidance: https://numpy.org/devdocs/release/1.20.0-notes.html#deprecations\n",
      "  y_encoded = np.zeros(y.shape, dtype=np.int)\n",
      "/Users/fangzhou/anaconda3/lib/python3.7/site-packages/sklearn/tree/tree.py:163: DeprecationWarning: `np.int` is a deprecated alias for the builtin `int`. To silence this warning, use `int` by itself. Doing this will not modify any behavior and is safe. When replacing `np.int`, you may wish to use e.g. `np.int64` or `np.int32` to specify the precision. If you wish to review your current use, check the release note link for additional information.\n",
      "Deprecated in NumPy 1.20; for more details and guidance: https://numpy.org/devdocs/release/1.20.0-notes.html#deprecations\n",
      "  y_encoded = np.zeros(y.shape, dtype=np.int)\n",
      "/Users/fangzhou/anaconda3/lib/python3.7/site-packages/sklearn/tree/tree.py:163: DeprecationWarning: `np.int` is a deprecated alias for the builtin `int`. To silence this warning, use `int` by itself. Doing this will not modify any behavior and is safe. When replacing `np.int`, you may wish to use e.g. `np.int64` or `np.int32` to specify the precision. If you wish to review your current use, check the release note link for additional information.\n",
      "Deprecated in NumPy 1.20; for more details and guidance: https://numpy.org/devdocs/release/1.20.0-notes.html#deprecations\n",
      "  y_encoded = np.zeros(y.shape, dtype=np.int)\n",
      "/Users/fangzhou/anaconda3/lib/python3.7/site-packages/sklearn/tree/tree.py:163: DeprecationWarning: `np.int` is a deprecated alias for the builtin `int`. To silence this warning, use `int` by itself. Doing this will not modify any behavior and is safe. When replacing `np.int`, you may wish to use e.g. `np.int64` or `np.int32` to specify the precision. If you wish to review your current use, check the release note link for additional information.\n",
      "Deprecated in NumPy 1.20; for more details and guidance: https://numpy.org/devdocs/release/1.20.0-notes.html#deprecations\n",
      "  y_encoded = np.zeros(y.shape, dtype=np.int)\n",
      "/Users/fangzhou/anaconda3/lib/python3.7/site-packages/sklearn/ensemble/base.py:158: DeprecationWarning: `np.int` is a deprecated alias for the builtin `int`. To silence this warning, use `int` by itself. Doing this will not modify any behavior and is safe. When replacing `np.int`, you may wish to use e.g. `np.int64` or `np.int32` to specify the precision. If you wish to review your current use, check the release note link for additional information.\n",
      "Deprecated in NumPy 1.20; for more details and guidance: https://numpy.org/devdocs/release/1.20.0-notes.html#deprecations\n",
      "  dtype=np.int)\n",
      "/Users/fangzhou/anaconda3/lib/python3.7/site-packages/sklearn/ensemble/base.py:158: DeprecationWarning: `np.int` is a deprecated alias for the builtin `int`. To silence this warning, use `int` by itself. Doing this will not modify any behavior and is safe. When replacing `np.int`, you may wish to use e.g. `np.int64` or `np.int32` to specify the precision. If you wish to review your current use, check the release note link for additional information.\n",
      "Deprecated in NumPy 1.20; for more details and guidance: https://numpy.org/devdocs/release/1.20.0-notes.html#deprecations\n",
      "  dtype=np.int)\n"
     ]
    },
    {
     "data": {
      "image/png": "[encoded data removed]",
      "text/plain": [
       "<Figure size 720x288 with 2 Axes>"
      ]
     },
     "metadata": {
      "needs_background": "light"
     },
     "output_type": "display_data"
    },
    {
     "name": "stdout",
     "output_type": "stream",
     "text": [
      "                         Feature  Importance\n",
      "8                      ActBal_CA    0.108644\n",
      "9                      ActBal_SA    0.074093\n",
      "14                    VolumeCred    0.067796\n",
      "1                         Tenure    0.065613\n",
      "15                 VolumeCred_CA    0.063030\n",
      "18                     VolumeDeb    0.057958\n",
      "22        VolumeDeb_PaymentOrder    0.057197\n",
      "19                  VolumeDeb_CA    0.051891\n",
      "0                            Age    0.050910\n",
      "25      TransactionsDebCash_Card    0.039474\n",
      "23               TransactionsDeb    0.038633\n",
      "16              TransactionsCred    0.035599\n",
      "24            TransactionsDeb_CA    0.034040\n",
      "26  TransactionsDebCashless_Card    0.033856\n",
      "27  TransactionsDeb_PaymentOrder    0.033202\n",
      "20            VolumeDebCash_Card    0.032990\n",
      "21        VolumeDebCashless_Card    0.028739\n",
      "17           TransactionsCred_CA    0.027600\n",
      "12                     ActBal_CC    0.015684\n",
      "5                      Count_OVD    0.012909\n",
      "2                       Count_CA    0.011392\n",
      "3                       Count_SA    0.010796\n",
      "13                     ActBal_CL    0.010795\n",
      "10                     ActBal_MF    0.009384\n",
      "4                       Count_MF    0.008741\n",
      "28                         Sex_M    0.008394\n",
      "11                    ActBal_OVD    0.007042\n",
      "6                       Count_CC    0.001993\n",
      "7                       Count_CL    0.001603\n"
     ]
    },
    {
     "data": {
      "image/png": "[encoded data removed]",
      "text/plain": [
       "<Figure size 720x432 with 1 Axes>"
      ]
     },
     "metadata": {
      "needs_background": "light"
     },
     "output_type": "display_data"
    }
   ],
   "source": [
    "\n",
    "# Train Random Forest models for each target\n",
    "\n",
    "# Fit Credit Card model\n",
    "rf_cc = RandomForestClassifier(random_state=42)\n",
    "rf_cc.fit(X_train_cc, y_train_cc)\n",
    "\n",
    "# Evaluate Credit Card model\n",
    "y_val_pred_cc = rf_cl.predict(X_val_cc)\n",
    "y_val_prob_cc = rf_cl.predict_proba(X_val_cc)[:, 1]\n",
    "\n",
    "model_name = 'rf_cc'\n",
    "auc = roc_auc_score(y_val_cc, y_val_pred_cc)\n",
    "accuracy = accuracy_score(y_val_cc, y_val_pred_cc)\n",
    "precision = precision_score(y_val_cc, y_val_pred_cc, average='macro')\n",
    "recall = recall_score(y_val_cc, y_val_pred_cc, average='macro')\n",
    "f1 = f1_score(y_val_cc, y_val_pred_cc, average='macro')\n",
    "\n",
    "print(f\"Model Name: {model_name}, ROC AUC Score: {auc:.4f}, Accuracy: {accuracy:.4f}, Precision: {precision:.4f}, Recall: {recall:.4f}, F1 Score: {f1:.4f}\")\n",
    "print(f\"Model Name: {model_name}, Classification Report: \\n {classification_report(y_val_cl, y_val_pred_cl)}\")\n",
    "\n",
    "cm = confusion_matrix(y_val_cc, y_val_pred_cc)\n",
    "plt.figure(figsize=(10, 4))\n",
    "sns.heatmap(cm, annot=True, fmt='d', cmap='Blues')\n",
    "plt.xlabel('Predicted')\n",
    "plt.ylabel('Actual')\n",
    "plt.title('Confusion Matrix of Random Forest Model for Credit Card')\n",
    "plt.show()\n",
    "\n",
    "# Obtain feature importances\n",
    "feature_importances = rf_cc.feature_importances_\n",
    "\n",
    "# Create a DataFrame for better visualization\n",
    "importance_df = pd.DataFrame({\n",
    "    'Feature': X.columns,\n",
    "    'Importance': feature_importances\n",
    "}).sort_values(by='Importance', ascending=False)\n",
    "\n",
    "# Print feature importances\n",
    "print(importance_df)\n",
    "\n",
    "# Plot feature importances\n",
    "plt.figure(figsize=(10, 6))\n",
    "plt.barh(importance_df['Feature'], importance_df['Importance'], color='skyblue')\n",
    "plt.xlabel('Importance Score')\n",
    "plt.ylabel('Features')\n",
    "plt.title('Feature Importance from Random Forest Model for Credit Card')\n",
    "plt.gca().invert_yaxis()  # Invert axis to display highest importance at the top\n",
    "plt.show()\n",
    "\n",
    "# Save model evaluation result\n",
    "result_list.append([model_name, auc, accuracy, precision, recall, f1])"
   ]
  },
  {
   "cell_type": "code",
   "execution_count": 42,
   "metadata": {},
   "outputs": [
    {
     "name": "stderr",
     "output_type": "stream",
     "text": [
      "/Users/fangzhou/anaconda3/lib/python3.7/site-packages/sklearn/ensemble/forest.py:245: FutureWarning: The default value of n_estimators will change from 10 in version 0.20 to 100 in 0.22.\n",
      "  \"10 in version 0.20 to 100 in 0.22.\", FutureWarning)\n",
      "/Users/fangzhou/anaconda3/lib/python3.7/site-packages/sklearn/ensemble/forest.py:489: DeprecationWarning: `np.int` is a deprecated alias for the builtin `int`. To silence this warning, use `int` by itself. Doing this will not modify any behavior and is safe. When replacing `np.int`, you may wish to use e.g. `np.int64` or `np.int32` to specify the precision. If you wish to review your current use, check the release note link for additional information.\n",
      "Deprecated in NumPy 1.20; for more details and guidance: https://numpy.org/devdocs/release/1.20.0-notes.html#deprecations\n",
      "  y_store_unique_indices = np.zeros(y.shape, dtype=np.int)\n",
      "/Users/fangzhou/anaconda3/lib/python3.7/site-packages/sklearn/tree/tree.py:163: DeprecationWarning: `np.int` is a deprecated alias for the builtin `int`. To silence this warning, use `int` by itself. Doing this will not modify any behavior and is safe. When replacing `np.int`, you may wish to use e.g. `np.int64` or `np.int32` to specify the precision. If you wish to review your current use, check the release note link for additional information.\n",
      "Deprecated in NumPy 1.20; for more details and guidance: https://numpy.org/devdocs/release/1.20.0-notes.html#deprecations\n",
      "  y_encoded = np.zeros(y.shape, dtype=np.int)\n",
      "/Users/fangzhou/anaconda3/lib/python3.7/site-packages/sklearn/tree/tree.py:163: DeprecationWarning: `np.int` is a deprecated alias for the builtin `int`. To silence this warning, use `int` by itself. Doing this will not modify any behavior and is safe. When replacing `np.int`, you may wish to use e.g. `np.int64` or `np.int32` to specify the precision. If you wish to review your current use, check the release note link for additional information.\n",
      "Deprecated in NumPy 1.20; for more details and guidance: https://numpy.org/devdocs/release/1.20.0-notes.html#deprecations\n",
      "  y_encoded = np.zeros(y.shape, dtype=np.int)\n",
      "/Users/fangzhou/anaconda3/lib/python3.7/site-packages/sklearn/tree/tree.py:163: DeprecationWarning: `np.int` is a deprecated alias for the builtin `int`. To silence this warning, use `int` by itself. Doing this will not modify any behavior and is safe. When replacing `np.int`, you may wish to use e.g. `np.int64` or `np.int32` to specify the precision. If you wish to review your current use, check the release note link for additional information.\n",
      "Deprecated in NumPy 1.20; for more details and guidance: https://numpy.org/devdocs/release/1.20.0-notes.html#deprecations\n",
      "  y_encoded = np.zeros(y.shape, dtype=np.int)\n",
      "/Users/fangzhou/anaconda3/lib/python3.7/site-packages/sklearn/tree/tree.py:163: DeprecationWarning: `np.int` is a deprecated alias for the builtin `int`. To silence this warning, use `int` by itself. Doing this will not modify any behavior and is safe. When replacing `np.int`, you may wish to use e.g. `np.int64` or `np.int32` to specify the precision. If you wish to review your current use, check the release note link for additional information.\n",
      "Deprecated in NumPy 1.20; for more details and guidance: https://numpy.org/devdocs/release/1.20.0-notes.html#deprecations\n",
      "  y_encoded = np.zeros(y.shape, dtype=np.int)\n",
      "/Users/fangzhou/anaconda3/lib/python3.7/site-packages/sklearn/tree/tree.py:163: DeprecationWarning: `np.int` is a deprecated alias for the builtin `int`. To silence this warning, use `int` by itself. Doing this will not modify any behavior and is safe. When replacing `np.int`, you may wish to use e.g. `np.int64` or `np.int32` to specify the precision. If you wish to review your current use, check the release note link for additional information.\n",
      "Deprecated in NumPy 1.20; for more details and guidance: https://numpy.org/devdocs/release/1.20.0-notes.html#deprecations\n",
      "  y_encoded = np.zeros(y.shape, dtype=np.int)\n",
      "/Users/fangzhou/anaconda3/lib/python3.7/site-packages/sklearn/tree/tree.py:163: DeprecationWarning: `np.int` is a deprecated alias for the builtin `int`. To silence this warning, use `int` by itself. Doing this will not modify any behavior and is safe. When replacing `np.int`, you may wish to use e.g. `np.int64` or `np.int32` to specify the precision. If you wish to review your current use, check the release note link for additional information.\n",
      "Deprecated in NumPy 1.20; for more details and guidance: https://numpy.org/devdocs/release/1.20.0-notes.html#deprecations\n",
      "  y_encoded = np.zeros(y.shape, dtype=np.int)\n",
      "/Users/fangzhou/anaconda3/lib/python3.7/site-packages/sklearn/tree/tree.py:163: DeprecationWarning: `np.int` is a deprecated alias for the builtin `int`. To silence this warning, use `int` by itself. Doing this will not modify any behavior and is safe. When replacing `np.int`, you may wish to use e.g. `np.int64` or `np.int32` to specify the precision. If you wish to review your current use, check the release note link for additional information.\n",
      "Deprecated in NumPy 1.20; for more details and guidance: https://numpy.org/devdocs/release/1.20.0-notes.html#deprecations\n",
      "  y_encoded = np.zeros(y.shape, dtype=np.int)\n",
      "/Users/fangzhou/anaconda3/lib/python3.7/site-packages/sklearn/tree/tree.py:163: DeprecationWarning: `np.int` is a deprecated alias for the builtin `int`. To silence this warning, use `int` by itself. Doing this will not modify any behavior and is safe. When replacing `np.int`, you may wish to use e.g. `np.int64` or `np.int32` to specify the precision. If you wish to review your current use, check the release note link for additional information.\n",
      "Deprecated in NumPy 1.20; for more details and guidance: https://numpy.org/devdocs/release/1.20.0-notes.html#deprecations\n",
      "  y_encoded = np.zeros(y.shape, dtype=np.int)\n",
      "/Users/fangzhou/anaconda3/lib/python3.7/site-packages/sklearn/tree/tree.py:163: DeprecationWarning: `np.int` is a deprecated alias for the builtin `int`. To silence this warning, use `int` by itself. Doing this will not modify any behavior and is safe. When replacing `np.int`, you may wish to use e.g. `np.int64` or `np.int32` to specify the precision. If you wish to review your current use, check the release note link for additional information.\n",
      "Deprecated in NumPy 1.20; for more details and guidance: https://numpy.org/devdocs/release/1.20.0-notes.html#deprecations\n",
      "  y_encoded = np.zeros(y.shape, dtype=np.int)\n",
      "/Users/fangzhou/anaconda3/lib/python3.7/site-packages/sklearn/tree/tree.py:163: DeprecationWarning: `np.int` is a deprecated alias for the builtin `int`. To silence this warning, use `int` by itself. Doing this will not modify any behavior and is safe. When replacing `np.int`, you may wish to use e.g. `np.int64` or `np.int32` to specify the precision. If you wish to review your current use, check the release note link for additional information.\n",
      "Deprecated in NumPy 1.20; for more details and guidance: https://numpy.org/devdocs/release/1.20.0-notes.html#deprecations\n",
      "  y_encoded = np.zeros(y.shape, dtype=np.int)\n",
      "/Users/fangzhou/anaconda3/lib/python3.7/site-packages/sklearn/ensemble/base.py:158: DeprecationWarning: `np.int` is a deprecated alias for the builtin `int`. To silence this warning, use `int` by itself. Doing this will not modify any behavior and is safe. When replacing `np.int`, you may wish to use e.g. `np.int64` or `np.int32` to specify the precision. If you wish to review your current use, check the release note link for additional information.\n",
      "Deprecated in NumPy 1.20; for more details and guidance: https://numpy.org/devdocs/release/1.20.0-notes.html#deprecations\n",
      "  dtype=np.int)\n",
      "/Users/fangzhou/anaconda3/lib/python3.7/site-packages/sklearn/ensemble/base.py:158: DeprecationWarning: `np.int` is a deprecated alias for the builtin `int`. To silence this warning, use `int` by itself. Doing this will not modify any behavior and is safe. When replacing `np.int`, you may wish to use e.g. `np.int64` or `np.int32` to specify the precision. If you wish to review your current use, check the release note link for additional information.\n",
      "Deprecated in NumPy 1.20; for more details and guidance: https://numpy.org/devdocs/release/1.20.0-notes.html#deprecations\n",
      "  dtype=np.int)\n"
     ]
    },
    {
     "name": "stdout",
     "output_type": "stream",
     "text": [
      "Model Name: rf_mf, ROC AUC Score: 0.5061, Accuracy: 0.7320, Precision: 0.5390, Recall: 0.5061, F1 Score: 0.4574\n",
      "Model Name: rf_mf, Classification Report: \n",
      "               precision    recall  f1-score   support\n",
      "\n",
      "         0.0       0.74      0.91      0.82       139\n",
      "         1.0       0.46      0.20      0.28        55\n",
      "\n",
      "    accuracy                           0.71       194\n",
      "   macro avg       0.60      0.55      0.55       194\n",
      "weighted avg       0.66      0.71      0.66       194\n",
      "\n"
     ]
    },
    {
     "data": {
      "image/png": "[encoded data removed]",
      "text/plain": [
       "<Figure size 720x288 with 2 Axes>"
      ]
     },
     "metadata": {
      "needs_background": "light"
     },
     "output_type": "display_data"
    },
    {
     "name": "stdout",
     "output_type": "stream",
     "text": [
      "                         Feature  Importance\n",
      "8                      ActBal_CA    0.070399\n",
      "1                         Tenure    0.069871\n",
      "15                 VolumeCred_CA    0.069081\n",
      "0                            Age    0.060440\n",
      "18                     VolumeDeb    0.060191\n",
      "14                    VolumeCred    0.056556\n",
      "4                       Count_MF    0.052927\n",
      "24            TransactionsDeb_CA    0.052015\n",
      "26  TransactionsDebCashless_Card    0.050065\n",
      "16              TransactionsCred    0.048155\n",
      "19                  VolumeDeb_CA    0.047653\n",
      "22        VolumeDeb_PaymentOrder    0.044042\n",
      "23               TransactionsDeb    0.043211\n",
      "20            VolumeDebCash_Card    0.036676\n",
      "17           TransactionsCred_CA    0.035023\n",
      "21        VolumeDebCashless_Card    0.031627\n",
      "27  TransactionsDeb_PaymentOrder    0.029517\n",
      "9                      ActBal_SA    0.027327\n",
      "10                     ActBal_MF    0.025486\n",
      "12                     ActBal_CC    0.021410\n",
      "25      TransactionsDebCash_Card    0.019231\n",
      "11                    ActBal_OVD    0.011623\n",
      "3                       Count_SA    0.008008\n",
      "28                         Sex_M    0.007795\n",
      "13                     ActBal_CL    0.006665\n",
      "5                      Count_OVD    0.005334\n",
      "6                       Count_CC    0.003890\n",
      "7                       Count_CL    0.002996\n",
      "2                       Count_CA    0.002786\n"
     ]
    },
    {
     "data": {
      "image/png": "[encoded data removed]",
      "text/plain": [
       "<Figure size 720x432 with 1 Axes>"
      ]
     },
     "metadata": {
      "needs_background": "light"
     },
     "output_type": "display_data"
    }
   ],
   "source": [
    "\n",
    "# Train Random Forest models for each target\n",
    "\n",
    "# Fit Credit Card model\n",
    "rf_mf = RandomForestClassifier(random_state=42)\n",
    "rf_mf.fit(X_train_mf, y_train_mf)\n",
    "\n",
    "# Evaluate Credit Card model\n",
    "y_val_pred_mf = rf_mf.predict(X_val_mf)\n",
    "y_val_prob_mf = rf_mf.predict_proba(X_val_mf)[:, 1]\n",
    "\n",
    "model_name = 'rf_mf'\n",
    "auc = roc_auc_score(y_val_mf, y_val_pred_mf)\n",
    "accuracy = accuracy_score(y_val_mf, y_val_pred_mf)\n",
    "precision = precision_score(y_val_mf, y_val_pred_mf, average='macro')\n",
    "recall = recall_score(y_val_mf, y_val_pred_mf, average='macro')\n",
    "f1 = f1_score(y_val_mf, y_val_pred_mf, average='macro')\n",
    "\n",
    "print(f\"Model Name: {model_name}, ROC AUC Score: {auc:.4f}, Accuracy: {accuracy:.4f}, Precision: {precision:.4f}, Recall: {recall:.4f}, F1 Score: {f1:.4f}\")\n",
    "print(f\"Model Name: {model_name}, Classification Report: \\n {classification_report(y_val_cl, y_val_pred_cl)}\")\n",
    "\n",
    "cm = confusion_matrix(y_val_mf, y_val_pred_mf)\n",
    "plt.figure(figsize=(10, 4))\n",
    "sns.heatmap(cm, annot=True, fmt='d', cmap='Blues')\n",
    "plt.xlabel('Predicted')\n",
    "plt.ylabel('Actual')\n",
    "plt.title('Confusion Matrix of Random Forest Model for Mutual Fund')\n",
    "plt.show()\n",
    "\n",
    "# Obtain feature importances\n",
    "feature_importances = rf_mf.feature_importances_\n",
    "\n",
    "# Create a DataFrame for better visualization\n",
    "importance_df = pd.DataFrame({\n",
    "    'Feature': X.columns,\n",
    "    'Importance': feature_importances\n",
    "}).sort_values(by='Importance', ascending=False)\n",
    "\n",
    "# Print feature importances\n",
    "print(importance_df)\n",
    "\n",
    "# Plot feature importances\n",
    "plt.figure(figsize=(10, 6))\n",
    "plt.barh(importance_df['Feature'], importance_df['Importance'], color='skyblue')\n",
    "plt.xlabel('Importance Score')\n",
    "plt.ylabel('Features')\n",
    "plt.title('Feature Importance from Random Forest Model for Mutual Fund')\n",
    "plt.gca().invert_yaxis()  # Invert axis to display highest importance at the top\n",
    "plt.show()\n",
    "\n",
    "# Save model evaluation result\n",
    "result_list.append([model_name, auc, accuracy, precision, recall, f1])"
   ]
  },
  {
   "cell_type": "code",
   "execution_count": 43,
   "metadata": {},
   "outputs": [
    {
     "data": {
      "text/html": [
       "<div>\n",
       "<style scoped>\n",
       "    .dataframe tbody tr th:only-of-type {\n",
       "        vertical-align: middle;\n",
       "    }\n",
       "\n",
       "    .dataframe tbody tr th {\n",
       "        vertical-align: top;\n",
       "    }\n",
       "\n",
       "    .dataframe thead th {\n",
       "        text-align: right;\n",
       "    }\n",
       "</style>\n",
       "<table border=\"1\" class=\"dataframe\">\n",
       "  <thead>\n",
       "    <tr style=\"text-align: right;\">\n",
       "      <th></th>\n",
       "      <th>Model</th>\n",
       "      <th>AUC</th>\n",
       "      <th>Accuracy</th>\n",
       "      <th>Precision</th>\n",
       "      <th>Recall</th>\n",
       "      <th>F1-Score</th>\n",
       "    </tr>\n",
       "  </thead>\n",
       "  <tbody>\n",
       "    <tr>\n",
       "      <th>0</th>\n",
       "      <td>rf_cl</td>\n",
       "      <td>0.553237</td>\n",
       "      <td>0.706186</td>\n",
       "      <td>0.599755</td>\n",
       "      <td>0.553237</td>\n",
       "      <td>0.547007</td>\n",
       "    </tr>\n",
       "    <tr>\n",
       "      <th>1</th>\n",
       "      <td>rf_cc</td>\n",
       "      <td>0.474526</td>\n",
       "      <td>0.675258</td>\n",
       "      <td>0.456863</td>\n",
       "      <td>0.474526</td>\n",
       "      <td>0.456969</td>\n",
       "    </tr>\n",
       "    <tr>\n",
       "      <th>2</th>\n",
       "      <td>rf_mf</td>\n",
       "      <td>0.506111</td>\n",
       "      <td>0.731959</td>\n",
       "      <td>0.539007</td>\n",
       "      <td>0.506111</td>\n",
       "      <td>0.457401</td>\n",
       "    </tr>\n",
       "  </tbody>\n",
       "</table>\n",
       "</div>"
      ],
      "text/plain": [
       "   Model       AUC  Accuracy  Precision    Recall  F1-Score\n",
       "0  rf_cl  0.553237  0.706186   0.599755  0.553237  0.547007\n",
       "1  rf_cc  0.474526  0.675258   0.456863  0.474526  0.456969\n",
       "2  rf_mf  0.506111  0.731959   0.539007  0.506111  0.457401"
      ]
     },
     "execution_count": 43,
     "metadata": {},
     "output_type": "execute_result"
    }
   ],
   "source": [
    "# Summarize evaluation result\n",
    "evaluate_result_df = pd.DataFrame(result_list, columns=['Model', 'AUC', 'Accuracy', 'Precision', 'Recall', 'F1-Score'])\n",
    "evaluate_result_df"
   ]
  },
  {
   "cell_type": "markdown",
   "metadata": {},
   "source": [
    "## 5. Model Prediction and Target Strategy Optimisation"
   ]
  },
  {
   "cell_type": "markdown",
   "metadata": {},
   "source": [
    "After building the three models on the model development set, we utilize them to predict the likelihood of purchase for each product on the model prediction set, respectively. \n",
    "\n",
    "Then, we obtain the maximum probability of purchase for a product and the corresponding top product for each client to answer the question which product is more likely to be purchased by each client across the three products.\n",
    "\n",
    "We could also rank and select the top 15% of clients based on the probability of purchase to answer the question which clients have a higher propensity of purchase for consumer loan, credit card and mutual fund respectively.\n",
    "\n",
    "Further, we could calculate the expected revenues by multiplying the probability of purchase for each product with the average revenue for the corresponding product sale. By ranking expected revenues generated from each product sale for each client, we can obtain the maximum expected revenue and the corresponding product offer for each client.\n",
    "\n",
    "Under the constraint that only 15% of clients can be targetted, we could select the top 15% of clients who have a higher maximum expected revenue for targetting with the corresponding product offer.\n",
    "\n",
    "By summing up the maximum expected revenues of the top 15% of clients, we can obtain the expected revenue based on our strategy.\n",
    "\n",
    "The corresponding code and result are displayed below.\n",
    "\n"
   ]
  },
  {
   "cell_type": "code",
   "execution_count": 44,
   "metadata": {},
   "outputs": [
    {
     "name": "stderr",
     "output_type": "stream",
     "text": [
      "/Users/fangzhou/anaconda3/lib/python3.7/site-packages/pandas/core/frame.py:3678: SettingWithCopyWarning: \n",
      "A value is trying to be set on a copy of a slice from a DataFrame.\n",
      "Try using .loc[row_indexer,col_indexer] = value instead\n",
      "\n",
      "See the caveats in the documentation: https://pandas.pydata.org/pandas-docs/stable/user_guide/indexing.html#returning-a-view-versus-a-copy\n",
      "  self[col] = igetitem(value, i)\n"
     ]
    }
   ],
   "source": [
    "# Scaling numeric features\n",
    "scaler = StandardScaler()\n",
    "test_df[num_feature_cols] = scaler.fit_transform(\n",
    "test_df[num_feature_cols]\n",
    ")"
   ]
  },
  {
   "cell_type": "code",
   "execution_count": 45,
   "metadata": {},
   "outputs": [],
   "source": [
    "# Encode categorical features\n",
    "test_df = pd.get_dummies(test_df, columns=cat_feature_cols, drop_first=True)"
   ]
  },
  {
   "cell_type": "code",
   "execution_count": 46,
   "metadata": {},
   "outputs": [
    {
     "data": {
      "text/plain": [
       "Index(['Client', 'Age', 'Tenure', 'Count_CA', 'Count_SA', 'Count_MF',\n",
       "       'Count_OVD', 'Count_CC', 'Count_CL', 'ActBal_CA', 'ActBal_SA',\n",
       "       'ActBal_MF', 'ActBal_OVD', 'ActBal_CC', 'ActBal_CL', 'VolumeCred',\n",
       "       'VolumeCred_CA', 'TransactionsCred', 'TransactionsCred_CA', 'VolumeDeb',\n",
       "       'VolumeDeb_CA', 'VolumeDebCash_Card', 'VolumeDebCashless_Card',\n",
       "       'VolumeDeb_PaymentOrder', 'TransactionsDeb', 'TransactionsDeb_CA',\n",
       "       'TransactionsDebCash_Card', 'TransactionsDebCashless_Card',\n",
       "       'TransactionsDeb_PaymentOrder', 'Sale_MF', 'Sale_CC', 'Sale_CL',\n",
       "       'Revenue_MF', 'Revenue_CC', 'Revenue_CL', 'Sex_M'],\n",
       "      dtype='object')"
      ]
     },
     "execution_count": 46,
     "metadata": {},
     "output_type": "execute_result"
    }
   ],
   "source": [
    "test_df.columns"
   ]
  },
  {
   "cell_type": "code",
   "execution_count": 47,
   "metadata": {},
   "outputs": [
    {
     "data": {
      "text/html": [
       "<div>\n",
       "<style scoped>\n",
       "    .dataframe tbody tr th:only-of-type {\n",
       "        vertical-align: middle;\n",
       "    }\n",
       "\n",
       "    .dataframe tbody tr th {\n",
       "        vertical-align: top;\n",
       "    }\n",
       "\n",
       "    .dataframe thead th {\n",
       "        text-align: right;\n",
       "    }\n",
       "</style>\n",
       "<table border=\"1\" class=\"dataframe\">\n",
       "  <thead>\n",
       "    <tr style=\"text-align: right;\">\n",
       "      <th></th>\n",
       "      <th>Age</th>\n",
       "      <th>Tenure</th>\n",
       "      <th>Count_CA</th>\n",
       "      <th>Count_SA</th>\n",
       "      <th>Count_MF</th>\n",
       "      <th>Count_OVD</th>\n",
       "      <th>Count_CC</th>\n",
       "      <th>Count_CL</th>\n",
       "      <th>ActBal_CA</th>\n",
       "      <th>ActBal_SA</th>\n",
       "      <th>...</th>\n",
       "      <th>VolumeDeb_CA</th>\n",
       "      <th>VolumeDebCash_Card</th>\n",
       "      <th>VolumeDebCashless_Card</th>\n",
       "      <th>VolumeDeb_PaymentOrder</th>\n",
       "      <th>TransactionsDeb</th>\n",
       "      <th>TransactionsDeb_CA</th>\n",
       "      <th>TransactionsDebCash_Card</th>\n",
       "      <th>TransactionsDebCashless_Card</th>\n",
       "      <th>TransactionsDeb_PaymentOrder</th>\n",
       "      <th>Sex_M</th>\n",
       "    </tr>\n",
       "  </thead>\n",
       "  <tbody>\n",
       "    <tr>\n",
       "      <th>0</th>\n",
       "      <td>-1.169730</td>\n",
       "      <td>-1.181825</td>\n",
       "      <td>-0.241360</td>\n",
       "      <td>-0.517639</td>\n",
       "      <td>-0.291644</td>\n",
       "      <td>1.686783</td>\n",
       "      <td>-0.319983</td>\n",
       "      <td>2.134198</td>\n",
       "      <td>-0.289322</td>\n",
       "      <td>-0.23528</td>\n",
       "      <td>...</td>\n",
       "      <td>-0.224579</td>\n",
       "      <td>-0.105004</td>\n",
       "      <td>-0.503203</td>\n",
       "      <td>-0.158858</td>\n",
       "      <td>-0.451054</td>\n",
       "      <td>-0.468346</td>\n",
       "      <td>-0.338127</td>\n",
       "      <td>-0.596200</td>\n",
       "      <td>-0.094430</td>\n",
       "      <td>1</td>\n",
       "    </tr>\n",
       "    <tr>\n",
       "      <th>6</th>\n",
       "      <td>-0.305147</td>\n",
       "      <td>1.126912</td>\n",
       "      <td>-0.241360</td>\n",
       "      <td>-0.517639</td>\n",
       "      <td>1.284943</td>\n",
       "      <td>1.686783</td>\n",
       "      <td>-0.319983</td>\n",
       "      <td>-0.267704</td>\n",
       "      <td>-0.065670</td>\n",
       "      <td>-0.23528</td>\n",
       "      <td>...</td>\n",
       "      <td>-0.196082</td>\n",
       "      <td>-0.271530</td>\n",
       "      <td>-0.503203</td>\n",
       "      <td>-0.143870</td>\n",
       "      <td>-0.139150</td>\n",
       "      <td>-0.236328</td>\n",
       "      <td>0.032093</td>\n",
       "      <td>-0.596200</td>\n",
       "      <td>0.099226</td>\n",
       "      <td>1</td>\n",
       "    </tr>\n",
       "    <tr>\n",
       "      <th>9</th>\n",
       "      <td>-1.277803</td>\n",
       "      <td>-0.511043</td>\n",
       "      <td>-0.241360</td>\n",
       "      <td>-0.517639</td>\n",
       "      <td>-0.291644</td>\n",
       "      <td>1.686783</td>\n",
       "      <td>-0.319983</td>\n",
       "      <td>-0.267704</td>\n",
       "      <td>-0.289902</td>\n",
       "      <td>-0.23528</td>\n",
       "      <td>...</td>\n",
       "      <td>-0.238882</td>\n",
       "      <td>-0.204920</td>\n",
       "      <td>-0.245607</td>\n",
       "      <td>-0.151635</td>\n",
       "      <td>-0.326292</td>\n",
       "      <td>-0.236328</td>\n",
       "      <td>0.772535</td>\n",
       "      <td>-0.237146</td>\n",
       "      <td>-0.481742</td>\n",
       "      <td>0</td>\n",
       "    </tr>\n",
       "    <tr>\n",
       "      <th>10</th>\n",
       "      <td>0.991728</td>\n",
       "      <td>-0.901032</td>\n",
       "      <td>-0.241360</td>\n",
       "      <td>-0.517639</td>\n",
       "      <td>-0.291644</td>\n",
       "      <td>-0.592844</td>\n",
       "      <td>-0.319983</td>\n",
       "      <td>-0.267704</td>\n",
       "      <td>-0.249963</td>\n",
       "      <td>-0.23528</td>\n",
       "      <td>...</td>\n",
       "      <td>-0.332874</td>\n",
       "      <td>-0.438056</td>\n",
       "      <td>-0.503203</td>\n",
       "      <td>-0.208470</td>\n",
       "      <td>-0.887719</td>\n",
       "      <td>-0.932382</td>\n",
       "      <td>-0.708348</td>\n",
       "      <td>-0.596200</td>\n",
       "      <td>-0.869055</td>\n",
       "      <td>1</td>\n",
       "    </tr>\n",
       "    <tr>\n",
       "      <th>13</th>\n",
       "      <td>-0.089001</td>\n",
       "      <td>-1.166225</td>\n",
       "      <td>-0.241360</td>\n",
       "      <td>-0.517639</td>\n",
       "      <td>-0.291644</td>\n",
       "      <td>-0.592844</td>\n",
       "      <td>-0.319983</td>\n",
       "      <td>-0.267704</td>\n",
       "      <td>-0.287805</td>\n",
       "      <td>-0.23528</td>\n",
       "      <td>...</td>\n",
       "      <td>-0.198082</td>\n",
       "      <td>-0.304836</td>\n",
       "      <td>0.311836</td>\n",
       "      <td>-0.133658</td>\n",
       "      <td>0.110373</td>\n",
       "      <td>0.305047</td>\n",
       "      <td>0.032093</td>\n",
       "      <td>0.600647</td>\n",
       "      <td>-0.288086</td>\n",
       "      <td>0</td>\n",
       "    </tr>\n",
       "    <tr>\n",
       "      <th>...</th>\n",
       "      <td>...</td>\n",
       "      <td>...</td>\n",
       "      <td>...</td>\n",
       "      <td>...</td>\n",
       "      <td>...</td>\n",
       "      <td>...</td>\n",
       "      <td>...</td>\n",
       "      <td>...</td>\n",
       "      <td>...</td>\n",
       "      <td>...</td>\n",
       "      <td>...</td>\n",
       "      <td>...</td>\n",
       "      <td>...</td>\n",
       "      <td>...</td>\n",
       "      <td>...</td>\n",
       "      <td>...</td>\n",
       "      <td>...</td>\n",
       "      <td>...</td>\n",
       "      <td>...</td>\n",
       "      <td>...</td>\n",
       "      <td>...</td>\n",
       "    </tr>\n",
       "    <tr>\n",
       "      <th>1598</th>\n",
       "      <td>-0.521293</td>\n",
       "      <td>-0.323848</td>\n",
       "      <td>-0.241360</td>\n",
       "      <td>-0.517639</td>\n",
       "      <td>-0.291644</td>\n",
       "      <td>1.686783</td>\n",
       "      <td>-0.319983</td>\n",
       "      <td>-0.267704</td>\n",
       "      <td>-0.246510</td>\n",
       "      <td>-0.23528</td>\n",
       "      <td>...</td>\n",
       "      <td>-0.106563</td>\n",
       "      <td>-0.438056</td>\n",
       "      <td>-0.503203</td>\n",
       "      <td>-0.208470</td>\n",
       "      <td>-0.388673</td>\n",
       "      <td>-0.623025</td>\n",
       "      <td>-0.708348</td>\n",
       "      <td>-0.596200</td>\n",
       "      <td>-0.869055</td>\n",
       "      <td>0</td>\n",
       "    </tr>\n",
       "    <tr>\n",
       "      <th>1600</th>\n",
       "      <td>1.207874</td>\n",
       "      <td>-1.400219</td>\n",
       "      <td>-0.241360</td>\n",
       "      <td>-0.517639</td>\n",
       "      <td>-0.291644</td>\n",
       "      <td>-0.592844</td>\n",
       "      <td>-0.319983</td>\n",
       "      <td>-0.267704</td>\n",
       "      <td>-0.266158</td>\n",
       "      <td>-0.23528</td>\n",
       "      <td>...</td>\n",
       "      <td>-0.307177</td>\n",
       "      <td>-0.238225</td>\n",
       "      <td>-0.503203</td>\n",
       "      <td>-0.208470</td>\n",
       "      <td>-0.762958</td>\n",
       "      <td>-0.777703</td>\n",
       "      <td>0.032093</td>\n",
       "      <td>-0.596200</td>\n",
       "      <td>-0.869055</td>\n",
       "      <td>1</td>\n",
       "    </tr>\n",
       "    <tr>\n",
       "      <th>1608</th>\n",
       "      <td>1.369983</td>\n",
       "      <td>0.783722</td>\n",
       "      <td>2.646023</td>\n",
       "      <td>-0.517639</td>\n",
       "      <td>-0.291644</td>\n",
       "      <td>1.686783</td>\n",
       "      <td>-0.319983</td>\n",
       "      <td>-0.267704</td>\n",
       "      <td>-0.013273</td>\n",
       "      <td>-0.23528</td>\n",
       "      <td>...</td>\n",
       "      <td>-0.193344</td>\n",
       "      <td>-0.138310</td>\n",
       "      <td>-0.265318</td>\n",
       "      <td>-0.104863</td>\n",
       "      <td>-0.201531</td>\n",
       "      <td>-0.081649</td>\n",
       "      <td>0.032093</td>\n",
       "      <td>-0.237146</td>\n",
       "      <td>0.292883</td>\n",
       "      <td>1</td>\n",
       "    </tr>\n",
       "    <tr>\n",
       "      <th>1610</th>\n",
       "      <td>-0.629366</td>\n",
       "      <td>-0.183452</td>\n",
       "      <td>-0.241360</td>\n",
       "      <td>-0.517639</td>\n",
       "      <td>-0.291644</td>\n",
       "      <td>1.686783</td>\n",
       "      <td>-0.319983</td>\n",
       "      <td>-0.267704</td>\n",
       "      <td>-0.247049</td>\n",
       "      <td>-0.23528</td>\n",
       "      <td>...</td>\n",
       "      <td>-0.220641</td>\n",
       "      <td>-0.105004</td>\n",
       "      <td>-0.461698</td>\n",
       "      <td>-0.127541</td>\n",
       "      <td>-0.201531</td>\n",
       "      <td>-0.081649</td>\n",
       "      <td>-0.338127</td>\n",
       "      <td>-0.476516</td>\n",
       "      <td>0.873851</td>\n",
       "      <td>1</td>\n",
       "    </tr>\n",
       "    <tr>\n",
       "      <th>1614</th>\n",
       "      <td>1.099801</td>\n",
       "      <td>-0.089855</td>\n",
       "      <td>-0.241360</td>\n",
       "      <td>-0.517639</td>\n",
       "      <td>-0.291644</td>\n",
       "      <td>1.686783</td>\n",
       "      <td>-0.319983</td>\n",
       "      <td>-0.267704</td>\n",
       "      <td>-0.287242</td>\n",
       "      <td>-0.23528</td>\n",
       "      <td>...</td>\n",
       "      <td>-0.181909</td>\n",
       "      <td>-0.304836</td>\n",
       "      <td>-0.418791</td>\n",
       "      <td>-0.051687</td>\n",
       "      <td>-0.575815</td>\n",
       "      <td>-0.545685</td>\n",
       "      <td>-0.338127</td>\n",
       "      <td>-0.476516</td>\n",
       "      <td>-0.288086</td>\n",
       "      <td>1</td>\n",
       "    </tr>\n",
       "  </tbody>\n",
       "</table>\n",
       "<p>646 rows × 29 columns</p>\n",
       "</div>"
      ],
      "text/plain": [
       "           Age    Tenure  Count_CA  Count_SA  Count_MF  Count_OVD  Count_CC  \\\n",
       "0    -1.169730 -1.181825 -0.241360 -0.517639 -0.291644   1.686783 -0.319983   \n",
       "6    -0.305147  1.126912 -0.241360 -0.517639  1.284943   1.686783 -0.319983   \n",
       "9    -1.277803 -0.511043 -0.241360 -0.517639 -0.291644   1.686783 -0.319983   \n",
       "10    0.991728 -0.901032 -0.241360 -0.517639 -0.291644  -0.592844 -0.319983   \n",
       "13   -0.089001 -1.166225 -0.241360 -0.517639 -0.291644  -0.592844 -0.319983   \n",
       "...        ...       ...       ...       ...       ...        ...       ...   \n",
       "1598 -0.521293 -0.323848 -0.241360 -0.517639 -0.291644   1.686783 -0.319983   \n",
       "1600  1.207874 -1.400219 -0.241360 -0.517639 -0.291644  -0.592844 -0.319983   \n",
       "1608  1.369983  0.783722  2.646023 -0.517639 -0.291644   1.686783 -0.319983   \n",
       "1610 -0.629366 -0.183452 -0.241360 -0.517639 -0.291644   1.686783 -0.319983   \n",
       "1614  1.099801 -0.089855 -0.241360 -0.517639 -0.291644   1.686783 -0.319983   \n",
       "\n",
       "      Count_CL  ActBal_CA  ActBal_SA  ...  VolumeDeb_CA  VolumeDebCash_Card  \\\n",
       "0     2.134198  -0.289322   -0.23528  ...     -0.224579           -0.105004   \n",
       "6    -0.267704  -0.065670   -0.23528  ...     -0.196082           -0.271530   \n",
       "9    -0.267704  -0.289902   -0.23528  ...     -0.238882           -0.204920   \n",
       "10   -0.267704  -0.249963   -0.23528  ...     -0.332874           -0.438056   \n",
       "13   -0.267704  -0.287805   -0.23528  ...     -0.198082           -0.304836   \n",
       "...        ...        ...        ...  ...           ...                 ...   \n",
       "1598 -0.267704  -0.246510   -0.23528  ...     -0.106563           -0.438056   \n",
       "1600 -0.267704  -0.266158   -0.23528  ...     -0.307177           -0.238225   \n",
       "1608 -0.267704  -0.013273   -0.23528  ...     -0.193344           -0.138310   \n",
       "1610 -0.267704  -0.247049   -0.23528  ...     -0.220641           -0.105004   \n",
       "1614 -0.267704  -0.287242   -0.23528  ...     -0.181909           -0.304836   \n",
       "\n",
       "      VolumeDebCashless_Card  VolumeDeb_PaymentOrder  TransactionsDeb  \\\n",
       "0                  -0.503203               -0.158858        -0.451054   \n",
       "6                  -0.503203               -0.143870        -0.139150   \n",
       "9                  -0.245607               -0.151635        -0.326292   \n",
       "10                 -0.503203               -0.208470        -0.887719   \n",
       "13                  0.311836               -0.133658         0.110373   \n",
       "...                      ...                     ...              ...   \n",
       "1598               -0.503203               -0.208470        -0.388673   \n",
       "1600               -0.503203               -0.208470        -0.762958   \n",
       "1608               -0.265318               -0.104863        -0.201531   \n",
       "1610               -0.461698               -0.127541        -0.201531   \n",
       "1614               -0.418791               -0.051687        -0.575815   \n",
       "\n",
       "      TransactionsDeb_CA  TransactionsDebCash_Card  \\\n",
       "0              -0.468346                 -0.338127   \n",
       "6              -0.236328                  0.032093   \n",
       "9              -0.236328                  0.772535   \n",
       "10             -0.932382                 -0.708348   \n",
       "13              0.305047                  0.032093   \n",
       "...                  ...                       ...   \n",
       "1598           -0.623025                 -0.708348   \n",
       "1600           -0.777703                  0.032093   \n",
       "1608           -0.081649                  0.032093   \n",
       "1610           -0.081649                 -0.338127   \n",
       "1614           -0.545685                 -0.338127   \n",
       "\n",
       "      TransactionsDebCashless_Card  TransactionsDeb_PaymentOrder  Sex_M  \n",
       "0                        -0.596200                     -0.094430      1  \n",
       "6                        -0.596200                      0.099226      1  \n",
       "9                        -0.237146                     -0.481742      0  \n",
       "10                       -0.596200                     -0.869055      1  \n",
       "13                        0.600647                     -0.288086      0  \n",
       "...                            ...                           ...    ...  \n",
       "1598                     -0.596200                     -0.869055      0  \n",
       "1600                     -0.596200                     -0.869055      1  \n",
       "1608                     -0.237146                      0.292883      1  \n",
       "1610                     -0.476516                      0.873851      1  \n",
       "1614                     -0.476516                     -0.288086      1  \n",
       "\n",
       "[646 rows x 29 columns]"
      ]
     },
     "execution_count": 47,
     "metadata": {},
     "output_type": "execute_result"
    }
   ],
   "source": [
    "# Re-define features\n",
    "features_test =  test_df.drop(columns = target_cols + ['Client', 'Revenue_MF', 'Revenue_CC', 'Revenue_CL'])\n",
    "features_test"
   ]
  },
  {
   "cell_type": "code",
   "execution_count": 48,
   "metadata": {},
   "outputs": [],
   "source": [
    "X_test = features_test"
   ]
  },
  {
   "cell_type": "code",
   "execution_count": 49,
   "metadata": {},
   "outputs": [
    {
     "name": "stderr",
     "output_type": "stream",
     "text": [
      "/Users/fangzhou/anaconda3/lib/python3.7/site-packages/sklearn/ensemble/base.py:158: DeprecationWarning: `np.int` is a deprecated alias for the builtin `int`. To silence this warning, use `int` by itself. Doing this will not modify any behavior and is safe. When replacing `np.int`, you may wish to use e.g. `np.int64` or `np.int32` to specify the precision. If you wish to review your current use, check the release note link for additional information.\n",
      "Deprecated in NumPy 1.20; for more details and guidance: https://numpy.org/devdocs/release/1.20.0-notes.html#deprecations\n",
      "  dtype=np.int)\n",
      "/Users/fangzhou/anaconda3/lib/python3.7/site-packages/sklearn/ensemble/base.py:158: DeprecationWarning: `np.int` is a deprecated alias for the builtin `int`. To silence this warning, use `int` by itself. Doing this will not modify any behavior and is safe. When replacing `np.int`, you may wish to use e.g. `np.int64` or `np.int32` to specify the precision. If you wish to review your current use, check the release note link for additional information.\n",
      "Deprecated in NumPy 1.20; for more details and guidance: https://numpy.org/devdocs/release/1.20.0-notes.html#deprecations\n",
      "  dtype=np.int)\n",
      "/Users/fangzhou/anaconda3/lib/python3.7/site-packages/sklearn/ensemble/base.py:158: DeprecationWarning: `np.int` is a deprecated alias for the builtin `int`. To silence this warning, use `int` by itself. Doing this will not modify any behavior and is safe. When replacing `np.int`, you may wish to use e.g. `np.int64` or `np.int32` to specify the precision. If you wish to review your current use, check the release note link for additional information.\n",
      "Deprecated in NumPy 1.20; for more details and guidance: https://numpy.org/devdocs/release/1.20.0-notes.html#deprecations\n",
      "  dtype=np.int)\n"
     ]
    }
   ],
   "source": [
    "# Predict purchase probabilities for each product\n",
    "test_df['Prob_CL'] = rf_cl.predict_proba(X_test)[:, 1]\n",
    "test_df['Prob_CC'] = rf_cc.predict_proba(X_test)[:, 1]\n",
    "test_df['Prob_MF'] = rf_mf.predict_proba(X_test)[:, 1]\n",
    "\n",
    "# Obtain max probabilities of purchase product and corresponding top products for clients\n",
    "test_df['Max_Prob'] = test_df[['Prob_CL', 'Prob_CC', 'Prob_MF']].max(axis=1)\n",
    "test_df['Top_Product'] = test_df[['Prob_CL', 'Prob_CC', 'Prob_MF']].idxmax(axis=1)\n",
    "\n",
    "# Rank and select the top 15% of clients based on the probability of purchase\n",
    "top_clients_prob_cl = test_df.nlargest(int(len(test_df) * 0.15), 'Prob_CL')\n",
    "top_clients_prob_cc = test_df.nlargest(int(len(test_df) * 0.15), 'Prob_CC')\n",
    "top_clients_prob_mf = test_df.nlargest(int(len(test_df) * 0.15), 'Prob_MF')\n",
    "\n",
    "# Calculate expected revenues by multiplying probabilities with average revenue for each product\n",
    "avg_revenue_cl = train_df['Revenue_CL'].mean()\n",
    "avg_revenue_cc = train_df['Revenue_CC'].mean()\n",
    "avg_revenue_mf = train_df['Revenue_MF'].mean()\n",
    "\n",
    "test_df['Exp_Revenue_CL'] = test_df['Prob_CL'] * avg_revenue_cl\n",
    "test_df['Exp_Revenue_CC'] = test_df['Prob_CC'] * avg_revenue_cc\n",
    "test_df['Exp_Revenue_MF'] = test_df['Prob_MF'] * avg_revenue_mf\n",
    "\n",
    "# Obtain max expected revenues and target offers for clients\n",
    "test_df['Max_Exp_Revenue'] = test_df[['Exp_Revenue_CL', 'Exp_Revenue_CC', 'Exp_Revenue_MF']].max(axis=1)\n",
    "test_df['Target_Offer'] = test_df[['Exp_Revenue_CL', 'Exp_Revenue_CC', 'Exp_Revenue_MF']].idxmax(axis=1)\n",
    "\n",
    "# Select top 15% clients based on max expected revenues\n",
    "top_clients_revenue = test_df.nlargest(int(len(test_df) * 0.15), 'Max_Exp_Revenue')\n",
    "\n",
    "# Sum up the max expected revenues for the top 15% of clients\n",
    "total_expected_revenue = np.sum(top_clients_revenue[['Max_Exp_Revenue']])\n"
   ]
  },
  {
   "cell_type": "code",
   "execution_count": 50,
   "metadata": {},
   "outputs": [
    {
     "data": {
      "text/html": [
       "<div>\n",
       "<style scoped>\n",
       "    .dataframe tbody tr th:only-of-type {\n",
       "        vertical-align: middle;\n",
       "    }\n",
       "\n",
       "    .dataframe tbody tr th {\n",
       "        vertical-align: top;\n",
       "    }\n",
       "\n",
       "    .dataframe thead th {\n",
       "        text-align: right;\n",
       "    }\n",
       "</style>\n",
       "<table border=\"1\" class=\"dataframe\">\n",
       "  <thead>\n",
       "    <tr style=\"text-align: right;\">\n",
       "      <th></th>\n",
       "      <th>Client</th>\n",
       "      <th>Prob_CL</th>\n",
       "      <th>Prob_CC</th>\n",
       "      <th>Prob_MF</th>\n",
       "      <th>Max_Prob</th>\n",
       "      <th>Top_Product</th>\n",
       "    </tr>\n",
       "  </thead>\n",
       "  <tbody>\n",
       "    <tr>\n",
       "      <th>0</th>\n",
       "      <td>909</td>\n",
       "      <td>0.4</td>\n",
       "      <td>0.0</td>\n",
       "      <td>0.1</td>\n",
       "      <td>0.4</td>\n",
       "      <td>Prob_CL</td>\n",
       "    </tr>\n",
       "    <tr>\n",
       "      <th>6</th>\n",
       "      <td>699</td>\n",
       "      <td>0.3</td>\n",
       "      <td>0.2</td>\n",
       "      <td>0.3</td>\n",
       "      <td>0.3</td>\n",
       "      <td>Prob_CL</td>\n",
       "    </tr>\n",
       "    <tr>\n",
       "      <th>9</th>\n",
       "      <td>528</td>\n",
       "      <td>0.5</td>\n",
       "      <td>0.1</td>\n",
       "      <td>0.1</td>\n",
       "      <td>0.5</td>\n",
       "      <td>Prob_CL</td>\n",
       "    </tr>\n",
       "    <tr>\n",
       "      <th>13</th>\n",
       "      <td>517</td>\n",
       "      <td>0.3</td>\n",
       "      <td>0.2</td>\n",
       "      <td>0.3</td>\n",
       "      <td>0.3</td>\n",
       "      <td>Prob_CL</td>\n",
       "    </tr>\n",
       "    <tr>\n",
       "      <th>15</th>\n",
       "      <td>1475</td>\n",
       "      <td>0.2</td>\n",
       "      <td>0.0</td>\n",
       "      <td>0.1</td>\n",
       "      <td>0.2</td>\n",
       "      <td>Prob_CL</td>\n",
       "    </tr>\n",
       "    <tr>\n",
       "      <th>...</th>\n",
       "      <td>...</td>\n",
       "      <td>...</td>\n",
       "      <td>...</td>\n",
       "      <td>...</td>\n",
       "      <td>...</td>\n",
       "      <td>...</td>\n",
       "    </tr>\n",
       "    <tr>\n",
       "      <th>1582</th>\n",
       "      <td>431</td>\n",
       "      <td>0.5</td>\n",
       "      <td>0.3</td>\n",
       "      <td>0.4</td>\n",
       "      <td>0.5</td>\n",
       "      <td>Prob_CL</td>\n",
       "    </tr>\n",
       "    <tr>\n",
       "      <th>1592</th>\n",
       "      <td>456</td>\n",
       "      <td>0.4</td>\n",
       "      <td>0.3</td>\n",
       "      <td>0.4</td>\n",
       "      <td>0.4</td>\n",
       "      <td>Prob_CL</td>\n",
       "    </tr>\n",
       "    <tr>\n",
       "      <th>1598</th>\n",
       "      <td>419</td>\n",
       "      <td>0.4</td>\n",
       "      <td>0.2</td>\n",
       "      <td>0.2</td>\n",
       "      <td>0.4</td>\n",
       "      <td>Prob_CL</td>\n",
       "    </tr>\n",
       "    <tr>\n",
       "      <th>1608</th>\n",
       "      <td>464</td>\n",
       "      <td>0.3</td>\n",
       "      <td>0.2</td>\n",
       "      <td>0.2</td>\n",
       "      <td>0.3</td>\n",
       "      <td>Prob_CL</td>\n",
       "    </tr>\n",
       "    <tr>\n",
       "      <th>1610</th>\n",
       "      <td>409</td>\n",
       "      <td>0.4</td>\n",
       "      <td>0.2</td>\n",
       "      <td>0.1</td>\n",
       "      <td>0.4</td>\n",
       "      <td>Prob_CL</td>\n",
       "    </tr>\n",
       "  </tbody>\n",
       "</table>\n",
       "<p>292 rows × 6 columns</p>\n",
       "</div>"
      ],
      "text/plain": [
       "      Client  Prob_CL  Prob_CC  Prob_MF  Max_Prob Top_Product\n",
       "0        909      0.4      0.0      0.1       0.4     Prob_CL\n",
       "6        699      0.3      0.2      0.3       0.3     Prob_CL\n",
       "9        528      0.5      0.1      0.1       0.5     Prob_CL\n",
       "13       517      0.3      0.2      0.3       0.3     Prob_CL\n",
       "15      1475      0.2      0.0      0.1       0.2     Prob_CL\n",
       "...      ...      ...      ...      ...       ...         ...\n",
       "1582     431      0.5      0.3      0.4       0.5     Prob_CL\n",
       "1592     456      0.4      0.3      0.4       0.4     Prob_CL\n",
       "1598     419      0.4      0.2      0.2       0.4     Prob_CL\n",
       "1608     464      0.3      0.2      0.2       0.3     Prob_CL\n",
       "1610     409      0.4      0.2      0.1       0.4     Prob_CL\n",
       "\n",
       "[292 rows x 6 columns]"
      ]
     },
     "execution_count": 50,
     "metadata": {},
     "output_type": "execute_result"
    }
   ],
   "source": [
    "# Show clients with a higher propensity to buy consumer loan across the three product\n",
    "test_df[['Client', 'Prob_CL', 'Prob_CC', 'Prob_MF', 'Max_Prob', 'Top_Product']][test_df['Top_Product']=='Prob_CL']"
   ]
  },
  {
   "cell_type": "code",
   "execution_count": 51,
   "metadata": {},
   "outputs": [
    {
     "data": {
      "text/html": [
       "<div>\n",
       "<style scoped>\n",
       "    .dataframe tbody tr th:only-of-type {\n",
       "        vertical-align: middle;\n",
       "    }\n",
       "\n",
       "    .dataframe tbody tr th {\n",
       "        vertical-align: top;\n",
       "    }\n",
       "\n",
       "    .dataframe thead th {\n",
       "        text-align: right;\n",
       "    }\n",
       "</style>\n",
       "<table border=\"1\" class=\"dataframe\">\n",
       "  <thead>\n",
       "    <tr style=\"text-align: right;\">\n",
       "      <th></th>\n",
       "      <th>Client</th>\n",
       "      <th>Prob_CL</th>\n",
       "      <th>Prob_CC</th>\n",
       "      <th>Prob_MF</th>\n",
       "      <th>Max_Prob</th>\n",
       "      <th>Top_Product</th>\n",
       "    </tr>\n",
       "  </thead>\n",
       "  <tbody>\n",
       "    <tr>\n",
       "      <th>10</th>\n",
       "      <td>1145</td>\n",
       "      <td>0.2</td>\n",
       "      <td>0.5</td>\n",
       "      <td>0.3</td>\n",
       "      <td>0.5</td>\n",
       "      <td>Prob_CC</td>\n",
       "    </tr>\n",
       "    <tr>\n",
       "      <th>45</th>\n",
       "      <td>1445</td>\n",
       "      <td>0.4</td>\n",
       "      <td>0.5</td>\n",
       "      <td>0.3</td>\n",
       "      <td>0.5</td>\n",
       "      <td>Prob_CC</td>\n",
       "    </tr>\n",
       "    <tr>\n",
       "      <th>55</th>\n",
       "      <td>97</td>\n",
       "      <td>0.3</td>\n",
       "      <td>0.4</td>\n",
       "      <td>0.2</td>\n",
       "      <td>0.4</td>\n",
       "      <td>Prob_CC</td>\n",
       "    </tr>\n",
       "    <tr>\n",
       "      <th>62</th>\n",
       "      <td>273</td>\n",
       "      <td>0.2</td>\n",
       "      <td>0.6</td>\n",
       "      <td>0.4</td>\n",
       "      <td>0.6</td>\n",
       "      <td>Prob_CC</td>\n",
       "    </tr>\n",
       "    <tr>\n",
       "      <th>65</th>\n",
       "      <td>63</td>\n",
       "      <td>0.2</td>\n",
       "      <td>0.5</td>\n",
       "      <td>0.5</td>\n",
       "      <td>0.5</td>\n",
       "      <td>Prob_CC</td>\n",
       "    </tr>\n",
       "    <tr>\n",
       "      <th>...</th>\n",
       "      <td>...</td>\n",
       "      <td>...</td>\n",
       "      <td>...</td>\n",
       "      <td>...</td>\n",
       "      <td>...</td>\n",
       "      <td>...</td>\n",
       "    </tr>\n",
       "    <tr>\n",
       "      <th>1570</th>\n",
       "      <td>1449</td>\n",
       "      <td>0.4</td>\n",
       "      <td>0.5</td>\n",
       "      <td>0.3</td>\n",
       "      <td>0.5</td>\n",
       "      <td>Prob_CC</td>\n",
       "    </tr>\n",
       "    <tr>\n",
       "      <th>1585</th>\n",
       "      <td>765</td>\n",
       "      <td>0.2</td>\n",
       "      <td>0.3</td>\n",
       "      <td>0.1</td>\n",
       "      <td>0.3</td>\n",
       "      <td>Prob_CC</td>\n",
       "    </tr>\n",
       "    <tr>\n",
       "      <th>1586</th>\n",
       "      <td>124</td>\n",
       "      <td>0.2</td>\n",
       "      <td>0.3</td>\n",
       "      <td>0.1</td>\n",
       "      <td>0.3</td>\n",
       "      <td>Prob_CC</td>\n",
       "    </tr>\n",
       "    <tr>\n",
       "      <th>1596</th>\n",
       "      <td>1026</td>\n",
       "      <td>0.2</td>\n",
       "      <td>0.5</td>\n",
       "      <td>0.2</td>\n",
       "      <td>0.5</td>\n",
       "      <td>Prob_CC</td>\n",
       "    </tr>\n",
       "    <tr>\n",
       "      <th>1600</th>\n",
       "      <td>1024</td>\n",
       "      <td>0.3</td>\n",
       "      <td>0.7</td>\n",
       "      <td>0.2</td>\n",
       "      <td>0.7</td>\n",
       "      <td>Prob_CC</td>\n",
       "    </tr>\n",
       "  </tbody>\n",
       "</table>\n",
       "<p>253 rows × 6 columns</p>\n",
       "</div>"
      ],
      "text/plain": [
       "      Client  Prob_CL  Prob_CC  Prob_MF  Max_Prob Top_Product\n",
       "10      1145      0.2      0.5      0.3       0.5     Prob_CC\n",
       "45      1445      0.4      0.5      0.3       0.5     Prob_CC\n",
       "55        97      0.3      0.4      0.2       0.4     Prob_CC\n",
       "62       273      0.2      0.6      0.4       0.6     Prob_CC\n",
       "65        63      0.2      0.5      0.5       0.5     Prob_CC\n",
       "...      ...      ...      ...      ...       ...         ...\n",
       "1570    1449      0.4      0.5      0.3       0.5     Prob_CC\n",
       "1585     765      0.2      0.3      0.1       0.3     Prob_CC\n",
       "1586     124      0.2      0.3      0.1       0.3     Prob_CC\n",
       "1596    1026      0.2      0.5      0.2       0.5     Prob_CC\n",
       "1600    1024      0.3      0.7      0.2       0.7     Prob_CC\n",
       "\n",
       "[253 rows x 6 columns]"
      ]
     },
     "execution_count": 51,
     "metadata": {},
     "output_type": "execute_result"
    }
   ],
   "source": [
    "# Show clients with a higher propensity to buy Credit Card across the three products\n",
    "test_df[['Client', 'Prob_CL', 'Prob_CC', 'Prob_MF', 'Max_Prob', 'Top_Product']][test_df['Top_Product']=='Prob_CC']"
   ]
  },
  {
   "cell_type": "code",
   "execution_count": 52,
   "metadata": {},
   "outputs": [
    {
     "data": {
      "text/html": [
       "<div>\n",
       "<style scoped>\n",
       "    .dataframe tbody tr th:only-of-type {\n",
       "        vertical-align: middle;\n",
       "    }\n",
       "\n",
       "    .dataframe tbody tr th {\n",
       "        vertical-align: top;\n",
       "    }\n",
       "\n",
       "    .dataframe thead th {\n",
       "        text-align: right;\n",
       "    }\n",
       "</style>\n",
       "<table border=\"1\" class=\"dataframe\">\n",
       "  <thead>\n",
       "    <tr style=\"text-align: right;\">\n",
       "      <th></th>\n",
       "      <th>Client</th>\n",
       "      <th>Prob_CL</th>\n",
       "      <th>Prob_CC</th>\n",
       "      <th>Prob_MF</th>\n",
       "      <th>Max_Prob</th>\n",
       "      <th>Top_Product</th>\n",
       "    </tr>\n",
       "  </thead>\n",
       "  <tbody>\n",
       "    <tr>\n",
       "      <th>30</th>\n",
       "      <td>1218</td>\n",
       "      <td>0.5</td>\n",
       "      <td>0.3</td>\n",
       "      <td>0.7</td>\n",
       "      <td>0.7</td>\n",
       "      <td>Prob_MF</td>\n",
       "    </tr>\n",
       "    <tr>\n",
       "      <th>33</th>\n",
       "      <td>817</td>\n",
       "      <td>0.0</td>\n",
       "      <td>0.0</td>\n",
       "      <td>0.3</td>\n",
       "      <td>0.3</td>\n",
       "      <td>Prob_MF</td>\n",
       "    </tr>\n",
       "    <tr>\n",
       "      <th>37</th>\n",
       "      <td>3</td>\n",
       "      <td>0.2</td>\n",
       "      <td>0.1</td>\n",
       "      <td>0.4</td>\n",
       "      <td>0.4</td>\n",
       "      <td>Prob_MF</td>\n",
       "    </tr>\n",
       "    <tr>\n",
       "      <th>68</th>\n",
       "      <td>109</td>\n",
       "      <td>0.3</td>\n",
       "      <td>0.5</td>\n",
       "      <td>0.7</td>\n",
       "      <td>0.7</td>\n",
       "      <td>Prob_MF</td>\n",
       "    </tr>\n",
       "    <tr>\n",
       "      <th>72</th>\n",
       "      <td>1289</td>\n",
       "      <td>0.4</td>\n",
       "      <td>0.4</td>\n",
       "      <td>0.7</td>\n",
       "      <td>0.7</td>\n",
       "      <td>Prob_MF</td>\n",
       "    </tr>\n",
       "    <tr>\n",
       "      <th>...</th>\n",
       "      <td>...</td>\n",
       "      <td>...</td>\n",
       "      <td>...</td>\n",
       "      <td>...</td>\n",
       "      <td>...</td>\n",
       "      <td>...</td>\n",
       "    </tr>\n",
       "    <tr>\n",
       "      <th>1539</th>\n",
       "      <td>968</td>\n",
       "      <td>0.3</td>\n",
       "      <td>0.0</td>\n",
       "      <td>0.4</td>\n",
       "      <td>0.4</td>\n",
       "      <td>Prob_MF</td>\n",
       "    </tr>\n",
       "    <tr>\n",
       "      <th>1552</th>\n",
       "      <td>314</td>\n",
       "      <td>0.2</td>\n",
       "      <td>0.2</td>\n",
       "      <td>0.3</td>\n",
       "      <td>0.3</td>\n",
       "      <td>Prob_MF</td>\n",
       "    </tr>\n",
       "    <tr>\n",
       "      <th>1579</th>\n",
       "      <td>1069</td>\n",
       "      <td>0.3</td>\n",
       "      <td>0.4</td>\n",
       "      <td>0.6</td>\n",
       "      <td>0.6</td>\n",
       "      <td>Prob_MF</td>\n",
       "    </tr>\n",
       "    <tr>\n",
       "      <th>1584</th>\n",
       "      <td>406</td>\n",
       "      <td>0.0</td>\n",
       "      <td>0.2</td>\n",
       "      <td>0.3</td>\n",
       "      <td>0.3</td>\n",
       "      <td>Prob_MF</td>\n",
       "    </tr>\n",
       "    <tr>\n",
       "      <th>1614</th>\n",
       "      <td>1466</td>\n",
       "      <td>0.3</td>\n",
       "      <td>0.1</td>\n",
       "      <td>0.4</td>\n",
       "      <td>0.4</td>\n",
       "      <td>Prob_MF</td>\n",
       "    </tr>\n",
       "  </tbody>\n",
       "</table>\n",
       "<p>101 rows × 6 columns</p>\n",
       "</div>"
      ],
      "text/plain": [
       "      Client  Prob_CL  Prob_CC  Prob_MF  Max_Prob Top_Product\n",
       "30      1218      0.5      0.3      0.7       0.7     Prob_MF\n",
       "33       817      0.0      0.0      0.3       0.3     Prob_MF\n",
       "37         3      0.2      0.1      0.4       0.4     Prob_MF\n",
       "68       109      0.3      0.5      0.7       0.7     Prob_MF\n",
       "72      1289      0.4      0.4      0.7       0.7     Prob_MF\n",
       "...      ...      ...      ...      ...       ...         ...\n",
       "1539     968      0.3      0.0      0.4       0.4     Prob_MF\n",
       "1552     314      0.2      0.2      0.3       0.3     Prob_MF\n",
       "1579    1069      0.3      0.4      0.6       0.6     Prob_MF\n",
       "1584     406      0.0      0.2      0.3       0.3     Prob_MF\n",
       "1614    1466      0.3      0.1      0.4       0.4     Prob_MF\n",
       "\n",
       "[101 rows x 6 columns]"
      ]
     },
     "execution_count": 52,
     "metadata": {},
     "output_type": "execute_result"
    }
   ],
   "source": [
    "# Show clients with a higher probability to buy Mutual Fund across the three products\n",
    "test_df[['Client', 'Prob_CL', 'Prob_CC', 'Prob_MF', 'Max_Prob', 'Top_Product']][test_df['Top_Product']=='Prob_MF']"
   ]
  },
  {
   "cell_type": "code",
   "execution_count": 53,
   "metadata": {},
   "outputs": [
    {
     "name": "stdout",
     "output_type": "stream",
     "text": [
      "     Client  Prob_CL\n",
      "782     674      0.9\n",
      "122     240      0.8\n",
      "189     126      0.8\n",
      "247     342      0.8\n",
      "606     595      0.8\n",
      "..      ...      ...\n",
      "501     923      0.5\n",
      "511     541      0.5\n",
      "528     522      0.5\n",
      "534     948      0.5\n",
      "541    1562      0.5\n",
      "\n",
      "[96 rows x 2 columns]\n"
     ]
    }
   ],
   "source": [
    "# Show the top 15% of clients who have a higher propensity of purchase for a consumer loan, credit card, or mutual fund, respectively.\n",
    "print(top_clients_prob_cl[['Client', 'Prob_CL']])"
   ]
  },
  {
   "cell_type": "code",
   "execution_count": 54,
   "metadata": {},
   "outputs": [
    {
     "name": "stdout",
     "output_type": "stream",
     "text": [
      "     Client  Prob_CC\n",
      "135      19      0.9\n",
      "238     382      0.9\n",
      "325    1410      0.9\n",
      "328     701      0.9\n",
      "567    1280      0.9\n",
      "..      ...      ...\n",
      "10     1145      0.5\n",
      "26     1134      0.5\n",
      "45     1445      0.5\n",
      "65       63      0.5\n",
      "68      109      0.5\n",
      "\n",
      "[96 rows x 2 columns]\n"
     ]
    }
   ],
   "source": [
    "print(top_clients_prob_cc[['Client', 'Prob_CC']])"
   ]
  },
  {
   "cell_type": "code",
   "execution_count": 55,
   "metadata": {},
   "outputs": [
    {
     "name": "stdout",
     "output_type": "stream",
     "text": [
      "      Client  Prob_MF\n",
      "1380    1480      1.0\n",
      "332     1095      0.9\n",
      "933     1093      0.8\n",
      "1248    1007      0.8\n",
      "30      1218      0.7\n",
      "...      ...      ...\n",
      "335      121      0.4\n",
      "337      665      0.4\n",
      "338      524      0.4\n",
      "345     1354      0.4\n",
      "349     1370      0.4\n",
      "\n",
      "[96 rows x 2 columns]\n"
     ]
    }
   ],
   "source": [
    "print(top_clients_prob_mf[['Client', 'Prob_MF']]) "
   ]
  },
  {
   "cell_type": "code",
   "execution_count": 56,
   "metadata": {},
   "outputs": [
    {
     "data": {
      "text/html": [
       "<div>\n",
       "<style scoped>\n",
       "    .dataframe tbody tr th:only-of-type {\n",
       "        vertical-align: middle;\n",
       "    }\n",
       "\n",
       "    .dataframe tbody tr th {\n",
       "        vertical-align: top;\n",
       "    }\n",
       "\n",
       "    .dataframe thead th {\n",
       "        text-align: right;\n",
       "    }\n",
       "</style>\n",
       "<table border=\"1\" class=\"dataframe\">\n",
       "  <thead>\n",
       "    <tr style=\"text-align: right;\">\n",
       "      <th></th>\n",
       "      <th>Client</th>\n",
       "      <th>Prob_CL</th>\n",
       "      <th>Prob_CC</th>\n",
       "      <th>Prob_MF</th>\n",
       "      <th>Max_Prob</th>\n",
       "      <th>Top_Product</th>\n",
       "      <th>Exp_Revenue_CL</th>\n",
       "      <th>Exp_Revenue_CC</th>\n",
       "      <th>Exp_Revenue_MF</th>\n",
       "      <th>Max_Exp_Revenue</th>\n",
       "      <th>Target_Offer</th>\n",
       "    </tr>\n",
       "  </thead>\n",
       "  <tbody>\n",
       "    <tr>\n",
       "      <th>782</th>\n",
       "      <td>674</td>\n",
       "      <td>0.9</td>\n",
       "      <td>0.1</td>\n",
       "      <td>0.3</td>\n",
       "      <td>0.9</td>\n",
       "      <td>Prob_CL</td>\n",
       "      <td>3.243798</td>\n",
       "      <td>0.271283</td>\n",
       "      <td>0.577505</td>\n",
       "      <td>3.243798</td>\n",
       "      <td>Exp_Revenue_CL</td>\n",
       "    </tr>\n",
       "    <tr>\n",
       "      <th>122</th>\n",
       "      <td>240</td>\n",
       "      <td>0.8</td>\n",
       "      <td>0.2</td>\n",
       "      <td>0.2</td>\n",
       "      <td>0.8</td>\n",
       "      <td>Prob_CL</td>\n",
       "      <td>2.883376</td>\n",
       "      <td>0.542565</td>\n",
       "      <td>0.385003</td>\n",
       "      <td>2.883376</td>\n",
       "      <td>Exp_Revenue_CL</td>\n",
       "    </tr>\n",
       "    <tr>\n",
       "      <th>189</th>\n",
       "      <td>126</td>\n",
       "      <td>0.8</td>\n",
       "      <td>0.0</td>\n",
       "      <td>0.2</td>\n",
       "      <td>0.8</td>\n",
       "      <td>Prob_CL</td>\n",
       "      <td>2.883376</td>\n",
       "      <td>0.000000</td>\n",
       "      <td>0.385003</td>\n",
       "      <td>2.883376</td>\n",
       "      <td>Exp_Revenue_CL</td>\n",
       "    </tr>\n",
       "    <tr>\n",
       "      <th>247</th>\n",
       "      <td>342</td>\n",
       "      <td>0.8</td>\n",
       "      <td>0.3</td>\n",
       "      <td>0.3</td>\n",
       "      <td>0.8</td>\n",
       "      <td>Prob_CL</td>\n",
       "      <td>2.883376</td>\n",
       "      <td>0.813848</td>\n",
       "      <td>0.577505</td>\n",
       "      <td>2.883376</td>\n",
       "      <td>Exp_Revenue_CL</td>\n",
       "    </tr>\n",
       "    <tr>\n",
       "      <th>606</th>\n",
       "      <td>595</td>\n",
       "      <td>0.8</td>\n",
       "      <td>0.6</td>\n",
       "      <td>0.2</td>\n",
       "      <td>0.8</td>\n",
       "      <td>Prob_CL</td>\n",
       "      <td>2.883376</td>\n",
       "      <td>1.627696</td>\n",
       "      <td>0.385003</td>\n",
       "      <td>2.883376</td>\n",
       "      <td>Exp_Revenue_CL</td>\n",
       "    </tr>\n",
       "    <tr>\n",
       "      <th>...</th>\n",
       "      <td>...</td>\n",
       "      <td>...</td>\n",
       "      <td>...</td>\n",
       "      <td>...</td>\n",
       "      <td>...</td>\n",
       "      <td>...</td>\n",
       "      <td>...</td>\n",
       "      <td>...</td>\n",
       "      <td>...</td>\n",
       "      <td>...</td>\n",
       "      <td>...</td>\n",
       "    </tr>\n",
       "    <tr>\n",
       "      <th>903</th>\n",
       "      <td>516</td>\n",
       "      <td>0.4</td>\n",
       "      <td>0.7</td>\n",
       "      <td>0.3</td>\n",
       "      <td>0.7</td>\n",
       "      <td>Prob_CC</td>\n",
       "      <td>1.441688</td>\n",
       "      <td>1.898979</td>\n",
       "      <td>0.577505</td>\n",
       "      <td>1.898979</td>\n",
       "      <td>Exp_Revenue_CC</td>\n",
       "    </tr>\n",
       "    <tr>\n",
       "      <th>931</th>\n",
       "      <td>467</td>\n",
       "      <td>0.1</td>\n",
       "      <td>0.7</td>\n",
       "      <td>0.1</td>\n",
       "      <td>0.7</td>\n",
       "      <td>Prob_CC</td>\n",
       "      <td>0.360422</td>\n",
       "      <td>1.898979</td>\n",
       "      <td>0.192502</td>\n",
       "      <td>1.898979</td>\n",
       "      <td>Exp_Revenue_CC</td>\n",
       "    </tr>\n",
       "    <tr>\n",
       "      <th>1037</th>\n",
       "      <td>866</td>\n",
       "      <td>0.3</td>\n",
       "      <td>0.7</td>\n",
       "      <td>0.5</td>\n",
       "      <td>0.7</td>\n",
       "      <td>Prob_CC</td>\n",
       "      <td>1.081266</td>\n",
       "      <td>1.898979</td>\n",
       "      <td>0.962508</td>\n",
       "      <td>1.898979</td>\n",
       "      <td>Exp_Revenue_CC</td>\n",
       "    </tr>\n",
       "    <tr>\n",
       "      <th>1071</th>\n",
       "      <td>1009</td>\n",
       "      <td>0.2</td>\n",
       "      <td>0.7</td>\n",
       "      <td>0.2</td>\n",
       "      <td>0.7</td>\n",
       "      <td>Prob_CC</td>\n",
       "      <td>0.720844</td>\n",
       "      <td>1.898979</td>\n",
       "      <td>0.385003</td>\n",
       "      <td>1.898979</td>\n",
       "      <td>Exp_Revenue_CC</td>\n",
       "    </tr>\n",
       "    <tr>\n",
       "      <th>1086</th>\n",
       "      <td>104</td>\n",
       "      <td>0.4</td>\n",
       "      <td>0.7</td>\n",
       "      <td>0.2</td>\n",
       "      <td>0.7</td>\n",
       "      <td>Prob_CC</td>\n",
       "      <td>1.441688</td>\n",
       "      <td>1.898979</td>\n",
       "      <td>0.385003</td>\n",
       "      <td>1.898979</td>\n",
       "      <td>Exp_Revenue_CC</td>\n",
       "    </tr>\n",
       "  </tbody>\n",
       "</table>\n",
       "<p>96 rows × 11 columns</p>\n",
       "</div>"
      ],
      "text/plain": [
       "      Client  Prob_CL  Prob_CC  Prob_MF  Max_Prob Top_Product  Exp_Revenue_CL  \\\n",
       "782      674      0.9      0.1      0.3       0.9     Prob_CL        3.243798   \n",
       "122      240      0.8      0.2      0.2       0.8     Prob_CL        2.883376   \n",
       "189      126      0.8      0.0      0.2       0.8     Prob_CL        2.883376   \n",
       "247      342      0.8      0.3      0.3       0.8     Prob_CL        2.883376   \n",
       "606      595      0.8      0.6      0.2       0.8     Prob_CL        2.883376   \n",
       "...      ...      ...      ...      ...       ...         ...             ...   \n",
       "903      516      0.4      0.7      0.3       0.7     Prob_CC        1.441688   \n",
       "931      467      0.1      0.7      0.1       0.7     Prob_CC        0.360422   \n",
       "1037     866      0.3      0.7      0.5       0.7     Prob_CC        1.081266   \n",
       "1071    1009      0.2      0.7      0.2       0.7     Prob_CC        0.720844   \n",
       "1086     104      0.4      0.7      0.2       0.7     Prob_CC        1.441688   \n",
       "\n",
       "      Exp_Revenue_CC  Exp_Revenue_MF  Max_Exp_Revenue    Target_Offer  \n",
       "782         0.271283        0.577505         3.243798  Exp_Revenue_CL  \n",
       "122         0.542565        0.385003         2.883376  Exp_Revenue_CL  \n",
       "189         0.000000        0.385003         2.883376  Exp_Revenue_CL  \n",
       "247         0.813848        0.577505         2.883376  Exp_Revenue_CL  \n",
       "606         1.627696        0.385003         2.883376  Exp_Revenue_CL  \n",
       "...              ...             ...              ...             ...  \n",
       "903         1.898979        0.577505         1.898979  Exp_Revenue_CC  \n",
       "931         1.898979        0.192502         1.898979  Exp_Revenue_CC  \n",
       "1037        1.898979        0.962508         1.898979  Exp_Revenue_CC  \n",
       "1071        1.898979        0.385003         1.898979  Exp_Revenue_CC  \n",
       "1086        1.898979        0.385003         1.898979  Exp_Revenue_CC  \n",
       "\n",
       "[96 rows x 11 columns]"
      ]
     },
     "execution_count": 56,
     "metadata": {},
     "output_type": "execute_result"
    }
   ],
   "source": [
    "# Show top 15% clients and their optimal target offers based on max expected revenues \n",
    "top_clients_revenue[['Client', 'Prob_CL', 'Prob_CC', 'Prob_MF', 'Max_Prob', 'Top_Product', 'Exp_Revenue_CL', 'Exp_Revenue_CC', 'Exp_Revenue_MF', 'Max_Exp_Revenue', 'Target_Offer']]"
   ]
  },
  {
   "cell_type": "code",
   "execution_count": 57,
   "metadata": {},
   "outputs": [
    {
     "data": {
      "text/plain": [
       "Max_Exp_Revenue    217.574077\n",
       "dtype: float64"
      ]
     },
     "execution_count": 57,
     "metadata": {},
     "output_type": "execute_result"
    }
   ],
   "source": [
    "# Show the total max expected revenues for the top 15% of clients, this is the expected revenue under our strategy.\n",
    "total_expected_revenue"
   ]
  },
  {
   "cell_type": "code",
   "execution_count": 60,
   "metadata": {},
   "outputs": [],
   "source": [
    "# Save result into csv\n",
    "\n",
    "test_df.to_csv(data_dir+'prediction_result.csv', index=False)\n",
    "test_df[['Client', 'Max_Prob', 'Top_Product']].to_csv(data_dir+'top_product_for_each_client.csv', index=False)\n",
    "top_clients_prob_cl[['Client', 'Prob_CL']].to_csv(data_dir+'top_clients_prob_cl.csv', index=False)\n",
    "top_clients_prob_cc[['Client', 'Prob_CC']].to_csv(data_dir+'top_clients_prob_cc.csv', index=False)\n",
    "top_clients_prob_mf[['Client', 'Prob_MF']].to_csv(data_dir+'top_clients_prob_mf.csv', index=False)\n",
    "top_clients_revenue[['Client', 'Prob_CL', 'Prob_CC', 'Prob_MF', 'Max_Prob', 'Top_Product', 'Exp_Revenue_CL', 'Exp_Revenue_CC', 'Exp_Revenue_MF', 'Max_Exp_Revenue', 'Target_Offer']].to_csv(data_dir+'top_clients_revenue_offer.csv', index=False)\n",
    "total_expected_revenue.to_csv(data_dir+'total_expected_revenue_on_strategy.csv')"
   ]
  }
 ],
 "metadata": {
  "kernelspec": {
   "display_name": "base",
   "language": "python",
   "name": "python3"
  },
  "language_info": {
   "codemirror_mode": {
    "name": "ipython",
    "version": 3
   },
   "file_extension": ".py",
   "mimetype": "text/x-python",
   "name": "python",
   "nbconvert_exporter": "python",
   "pygments_lexer": "ipython3",
   "version": "3.7.3"
  }
 },
 "nbformat": 4,
 "nbformat_minor": 2
}
